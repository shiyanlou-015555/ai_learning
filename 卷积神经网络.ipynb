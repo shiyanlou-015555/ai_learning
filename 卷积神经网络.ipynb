{
 "cells": [
  {
   "cell_type": "markdown",
   "metadata": {},
   "source": [
    "# 导包"
   ]
  },
  {
   "cell_type": "code",
   "execution_count": 45,
   "metadata": {},
   "outputs": [],
   "source": [
    "import torch\n",
    "import torchvision\n",
    "import torch.nn\n",
    "import torch.nn.init\n",
    "import torch.utils.data as data\n",
    "# print(torch.__version__)\n",
    "# print(torchvision.__version__)\n",
    "# print(torch.cuda.is_available())\n",
    "import numpy as np\n",
    "import random\n",
    "import time\n",
    "import matplotlib.pyplot as plt"
   ]
  },
  {
   "cell_type": "code",
   "execution_count": 32,
   "metadata": {},
   "outputs": [],
   "source": [
    "import data"
   ]
  },
  {
   "cell_type": "code",
   "execution_count": 2,
   "metadata": {},
   "outputs": [
    {
     "data": {
      "text/plain": [
       "device(type='cuda', index=0)"
      ]
     },
     "execution_count": 2,
     "metadata": {},
     "output_type": "execute_result"
    }
   ],
   "source": [
    "def try_gpu():\n",
    "    \"\"\"If GPU is available, return torch.device as cuda:0; else return torch.device as cpu.\"\"\"\n",
    "    if torch.cuda.is_available():\n",
    "        device = torch.device('cuda:0')\n",
    "    else:\n",
    "        device = torch.device('cpu')\n",
    "    return device\n",
    "\n",
    "device = try_gpu()\n",
    "device"
   ]
  },
  {
   "cell_type": "markdown",
   "metadata": {},
   "source": [
    "# 卷积神经网络基础"
   ]
  },
  {
   "cell_type": "markdown",
   "metadata": {},
   "source": [
    "## Cov2D\n",
    "`torch.nn.Conv2D的输入形状是（batch_size, input_channels, height, weight）`"
   ]
  },
  {
   "cell_type": "markdown",
   "metadata": {},
   "source": [
    "###  二维互相关运算\n",
    "- Conv2D实际执行的是二维互相关运算。\n",
    "- 二维互相关运算的核数组左右、上下翻转才是二维卷积运算。"
   ]
  },
  {
   "cell_type": "code",
   "execution_count": 3,
   "metadata": {},
   "outputs": [],
   "source": [
    "def corr2d(X, K):\n",
    "    \"\"\"\n",
    "    对二维特折X与核K进行卷积运算。\n",
    "    \n",
    "    :param X:二维输入特征（H,W） \n",
    "    :param K: 核数组（h,w）\n",
    "    :return: 二维输出。\n",
    "    \"\"\"\n",
    "    h, w = K.shape\n",
    "    Y = torch.zeros(X.shape[0]-h+1, X.shape[1]-w+1)\n",
    "    for i in range(Y.shape[0]):\n",
    "        for j in range(Y.shape[1]):\n",
    "            Y[i,j] = (X[i:i+h,j:j+w] * K).sum()\n",
    "    return Y"
   ]
  },
  {
   "cell_type": "code",
   "execution_count": 4,
   "metadata": {},
   "outputs": [
    {
     "data": {
      "text/plain": [
       "tensor([[19., 25.],\n",
       "        [37., 43.]])"
      ]
     },
     "execution_count": 4,
     "metadata": {},
     "output_type": "execute_result"
    }
   ],
   "source": [
    "X = torch.tensor([[0, 1, 2], [3, 4, 5], [6, 7, 8]])\n",
    "K = torch.tensor([[0, 1], [2, 3]])\n",
    "corr2d(X, K)"
   ]
  },
  {
   "cell_type": "markdown",
   "metadata": {},
   "source": [
    "### 无通道卷积层"
   ]
  },
  {
   "cell_type": "code",
   "execution_count": 5,
   "metadata": {},
   "outputs": [],
   "source": [
    "class Conv2D(torch.nn.Module):\n",
    "    \"\"\"\n",
    "    构造二维卷积层\n",
    "    \"\"\"\n",
    "    def __init__(self, kernel_size):\n",
    "        \"\"\"\n",
    "        构造二维卷积层\n",
    "        :param kernel_size: 核大小(h,w)。\n",
    "        \"\"\"\n",
    "        super(Conv2D, self).__init__()\n",
    "        self.weight = torch.nn.Parameter(torch.randn(kernel_size))\n",
    "        self.bias = torch.nn.Parameter(torch.randn(1))\n",
    "        \n",
    "    def forward(self, X):\n",
    "        \"\"\"\n",
    "        前向运算，\n",
    "        :param X: 二维输入特征（H,W）。\n",
    "        :return: 二维输出。 \n",
    "        \"\"\"\n",
    "        return corr2d(X, self.weight) + self.bias"
   ]
  },
  {
   "cell_type": "markdown",
   "metadata": {},
   "source": [
    "### 卷积层学习"
   ]
  },
  {
   "cell_type": "code",
   "execution_count": 6,
   "metadata": {},
   "outputs": [
    {
     "data": {
      "text/plain": [
       "<matplotlib.image.AxesImage at 0x1aa786311c8>"
      ]
     },
     "execution_count": 6,
     "metadata": {},
     "output_type": "execute_result"
    },
    {
     "data": {
      "image/png": "[encoded data removed]",
      "text/plain": [
       "<Figure size 432x288 with 1 Axes>"
      ]
     },
     "metadata": {
      "needs_background": "light"
     },
     "output_type": "display_data"
    }
   ],
   "source": [
    "X = torch.ones(6, 8)\n",
    "X[:, 2:6] = 0\n",
    "plt.imshow(X.numpy(), cmap=\"gray_r\")"
   ]
  },
  {
   "cell_type": "code",
   "execution_count": 7,
   "metadata": {},
   "outputs": [],
   "source": [
    "K = torch.tensor([[1, -1]])\n",
    "# 检测边缘算子"
   ]
  },
  {
   "cell_type": "code",
   "execution_count": 8,
   "metadata": {},
   "outputs": [
    {
     "data": {
      "text/plain": [
       "<matplotlib.image.AxesImage at 0x1aa787d1dc8>"
      ]
     },
     "execution_count": 8,
     "metadata": {},
     "output_type": "execute_result"
    },
    {
     "data": {
      "image/png": "[encoded data removed]",
      "text/plain": [
       "<Figure size 432x288 with 1 Axes>"
      ]
     },
     "metadata": {
      "needs_background": "light"
     },
     "output_type": "display_data"
    }
   ],
   "source": [
    "Y = corr2d(X, K)\n",
    "plt.imshow(Y.numpy(), cmap=\"gray_r\")"
   ]
  },
  {
   "cell_type": "code",
   "execution_count": 9,
   "metadata": {},
   "outputs": [
    {
     "name": "stdout",
     "output_type": "stream",
     "text": [
      "Step 5, loss 23.787\n",
      "Step 10, loss 5.112\n",
      "Step 15, loss 1.255\n",
      "Step 20, loss 0.331\n"
     ]
    }
   ],
   "source": [
    "conv2d = Conv2D(kernel_size=(1, 2))\n",
    "step, lr = 20, 0.01\n",
    "\n",
    "for i in range(step):\n",
    "    Y_hat = conv2d(X)\n",
    "    l = ((Y_hat - Y) ** 2).sum()\n",
    "    l.backward()\n",
    "\n",
    "    conv2d.weight.data -= lr * conv2d.weight.grad\n",
    "    conv2d.bias.data -= lr * conv2d.bias.grad\n",
    "\n",
    "    conv2d.weight.grad.fill_(0)\n",
    "    conv2d.bias.grad.fill_(0)\n",
    "    if (i + 1) % 5 == 0:\n",
    "        print('Step %d, loss %.3f' % (i + 1, l.item()))"
   ]
  },
  {
   "cell_type": "code",
   "execution_count": 10,
   "metadata": {},
   "outputs": [
    {
     "name": "stdout",
     "output_type": "stream",
     "text": [
      "weight:  tensor([[ 0.8408, -0.8726]]) tensor([[ 1, -1]])\n",
      "bias:  tensor([0.0178])\n"
     ]
    }
   ],
   "source": [
    "print(\"weight: \", conv2d.weight.data, K)\n",
    "print(\"bias: \", conv2d.bias.data)"
   ]
  },
  {
   "cell_type": "markdown",
   "metadata": {},
   "source": [
    "## 特征图与感受野\n",
    "- 特征图：二维卷积层的输出，也是一个二维数组；\n",
    "- 感受野：影响元素x的前向计算的所有可能输入区域，堆叠Conv2D可以增大感受野。"
   ]
  },
  {
   "cell_type": "markdown",
   "metadata": {},
   "source": [
    "## 填充padding与步幅stride\n",
    "$${(H_Y, W_Y)} = \\lfloor(n_h-k_h+p_h+s_h)/s_h\\rfloor \\times \\lfloor(n_w-k_w+p_w+s_w)/s_w\\rfloor.$$"
   ]
  },
  {
   "cell_type": "markdown",
   "metadata": {},
   "source": [
    "### 填充\n",
    "- 填充上下左右可以用不同的填充，但一般填充的数量一样。\n",
    "- 卷积神经网络经常使用奇数高宽的卷积核，如1、3、5和7，所以两端上的填充个数相等，填充数量为$\\frac{k-1}{2}$。"
   ]
  },
  {
   "cell_type": "code",
   "execution_count": 11,
   "metadata": {},
   "outputs": [
    {
     "data": {
      "text/plain": [
       "torch.Size([8, 8])"
      ]
     },
     "execution_count": 11,
     "metadata": {},
     "output_type": "execute_result"
    }
   ],
   "source": [
    "conv2d = torch.nn.Conv2d(in_channels=1, out_channels=1, kernel_size=3, padding=1)\n",
    "X = torch.rand(8, 8)\n",
    "X = X.view((1, 1) + X.shape)\n",
    "conv2d(X).shape[2:]"
   ]
  },
  {
   "cell_type": "code",
   "execution_count": 12,
   "metadata": {},
   "outputs": [
    {
     "data": {
      "text/plain": [
       "torch.Size([8, 8])"
      ]
     },
     "execution_count": 12,
     "metadata": {},
     "output_type": "execute_result"
    }
   ],
   "source": [
    "conv2d = torch.nn.Conv2d(in_channels=1, out_channels=1, kernel_size=(5, 3), padding=(2, 1))\n",
    "conv2d(X).shape[2:]"
   ]
  },
  {
   "cell_type": "markdown",
   "metadata": {},
   "source": [
    "### 步幅\n",
    "卷积窗口从输入数组的最左上方开始，按从左往右、从上往下的顺序，依次在输入数组上滑动，每次滑动的行数和列数称为步幅（stride）。"
   ]
  },
  {
   "cell_type": "code",
   "execution_count": 13,
   "metadata": {},
   "outputs": [
    {
     "data": {
      "text/plain": [
       "torch.Size([4, 4])"
      ]
     },
     "execution_count": 13,
     "metadata": {},
     "output_type": "execute_result"
    }
   ],
   "source": [
    "conv2d = torch.nn.Conv2d(in_channels=1, out_channels=1, kernel_size=3, padding=1, stride=2)\n",
    "conv2d(X).shape[2:]"
   ]
  },
  {
   "cell_type": "code",
   "execution_count": 14,
   "metadata": {},
   "outputs": [
    {
     "data": {
      "text/plain": [
       "torch.Size([2, 2])"
      ]
     },
     "execution_count": 14,
     "metadata": {},
     "output_type": "execute_result"
    }
   ],
   "source": [
    "conv2d = torch.nn.Conv2d(in_channels=1, out_channels=1, kernel_size=(3, 5), padding=(0, 1), stride=(3,4))\n",
    "conv2d(X).shape[2:]"
   ]
  },
  {
   "cell_type": "markdown",
   "metadata": {},
   "source": [
    "## 多输入通道和多输出通道\n",
    "### 多输入通道\n",
    "- 当 ci=1 时，卷积核只包含一个形状为 $k_h×k_w$ 的二维数组；\n",
    "- 当 ci>1 时，每个输入通道均包含一个形状为 $k_h×k_w$ 的核数组，把这 ci 个数组在输入通道维上连结，即得到一个形状为 ci×kh×kw 的卷积核；\n",
    "- 多输入通道的输出是 ci 个互相关运算的二维输出按通道相加；"
   ]
  },
  {
   "cell_type": "code",
   "execution_count": 15,
   "metadata": {},
   "outputs": [],
   "source": [
    "def corr2d_multi_in(X, K):\n",
    "    \"\"\"\n",
    "    多输入通道的二维互相关运算。\n",
    "    :param X: 三维输入特征（in_channels, Height, Width）\n",
    "    :param K: 三维卷积数组(in_channels, height, width)\n",
    "    :return: 二维输出，与输入通道数无关。\n",
    "    \"\"\"\n",
    "    Y = corr2d(X[0,:,:], K[0,:,:])\n",
    "    for i in range(1,X.shape[0]):\n",
    "        Y += corr2d(X[i,:,:], K[i,:,:])\n",
    "    return Y"
   ]
  },
  {
   "cell_type": "code",
   "execution_count": 16,
   "metadata": {},
   "outputs": [
    {
     "data": {
      "text/plain": [
       "(torch.Size([2, 3, 3]), torch.Size([2, 2, 2]))"
      ]
     },
     "execution_count": 16,
     "metadata": {},
     "output_type": "execute_result"
    }
   ],
   "source": [
    "X = torch.tensor([[[0, 1, 2], [3, 4, 5], [6, 7, 8]],\n",
    "              [[1, 2, 3], [4, 5, 6], [7, 8, 9]]])\n",
    "K = torch.tensor([[[0, 1], [2, 3]], [[1, 2], [3, 4]]])\n",
    "X.shape, K.shape"
   ]
  },
  {
   "cell_type": "code",
   "execution_count": 17,
   "metadata": {},
   "outputs": [
    {
     "data": {
      "text/plain": [
       "torch.Size([2, 2])"
      ]
     },
     "execution_count": 17,
     "metadata": {},
     "output_type": "execute_result"
    }
   ],
   "source": [
    "corr2d(X[0,:,:], K[0,:,:]).shape"
   ]
  },
  {
   "cell_type": "code",
   "execution_count": 18,
   "metadata": {},
   "outputs": [
    {
     "data": {
      "text/plain": [
       "torch.Size([2, 2])"
      ]
     },
     "execution_count": 18,
     "metadata": {},
     "output_type": "execute_result"
    }
   ],
   "source": [
    "corr2d_multi_in(X, K).shape"
   ]
  },
  {
   "cell_type": "markdown",
   "metadata": {},
   "source": [
    "### 多输出通道\n",
    "相当于设计了多个特征，在输出通道上连接结果，卷积核形状为$c_out×c_in×k_h×k_w$。"
   ]
  },
  {
   "cell_type": "code",
   "execution_count": 19,
   "metadata": {},
   "outputs": [],
   "source": [
    "def corr2d_multi_in_out(X, K):\n",
    "    \"\"\"\n",
    "    多输入&输出通道的二维互相关运算。\n",
    "    \n",
    "    :param X: 三维输入特征（in_channels, Height, Width）\n",
    "    :param K: 四维卷积数组(out_channels, in_channels, height, width)\n",
    "    :return: 三维输出，与输入通道数无关(out_channels, height, width)。\n",
    "    \"\"\"\n",
    "    return torch.stack([corr2d_multi_in(X,k) for k in K],dim=0)"
   ]
  },
  {
   "cell_type": "code",
   "execution_count": 20,
   "metadata": {},
   "outputs": [],
   "source": [
    "K = torch.stack([K, K + 1, K + 2])"
   ]
  },
  {
   "cell_type": "code",
   "execution_count": 21,
   "metadata": {},
   "outputs": [
    {
     "data": {
      "text/plain": [
       "torch.Size([3, 2, 2])"
      ]
     },
     "execution_count": 21,
     "metadata": {},
     "output_type": "execute_result"
    }
   ],
   "source": [
    "corr2d_multi_in_out(X, K).shape"
   ]
  },
  {
   "cell_type": "markdown",
   "metadata": {},
   "source": [
    "## 1x1卷积层\n",
    "如果将通道维当作特征维，1x1卷积层与全连接层的作用等级，保持高度与宽度不变。"
   ]
  },
  {
   "cell_type": "code",
   "execution_count": 22,
   "metadata": {},
   "outputs": [],
   "source": [
    "def corr2d_multi_in_out_1x1(X, K):\n",
    "    \"\"\"\n",
    "    1x1卷积层等效于通道维的全连接层。\n",
    "\n",
    "    :param X: 三维输入特征（in_channels, Height, Width）\n",
    "    :param K: 四维卷积数组(out_channels, in_channels, 1, 1)\n",
    "    :return: 三维输入特征（out_channels, Height, Width）\n",
    "    \"\"\"\n",
    "    c_i, h, w = X.shape\n",
    "    c_o = K.shape[0]\n",
    "    X = X.view(c_i, h * w)\n",
    "    K = K.view(c_o, c_i)\n",
    "    Y = torch.mm(K, X)  # 全连接层的矩阵乘法\n",
    "    return Y.view(c_o, h, w)"
   ]
  },
  {
   "cell_type": "code",
   "execution_count": 23,
   "metadata": {},
   "outputs": [],
   "source": [
    "X = torch.rand(3, 3, 3)\n",
    "K = torch.rand(2, 3, 1, 1)"
   ]
  },
  {
   "cell_type": "code",
   "execution_count": 24,
   "metadata": {},
   "outputs": [
    {
     "data": {
      "text/plain": [
       "torch.Size([2, 3, 3])"
      ]
     },
     "execution_count": 24,
     "metadata": {},
     "output_type": "execute_result"
    }
   ],
   "source": [
    "Y1 = corr2d_multi_in_out_1x1(X, K)\n",
    "Y1.shape"
   ]
  },
  {
   "cell_type": "code",
   "execution_count": 25,
   "metadata": {},
   "outputs": [
    {
     "data": {
      "text/plain": [
       "torch.Size([2, 3, 3])"
      ]
     },
     "execution_count": 25,
     "metadata": {},
     "output_type": "execute_result"
    }
   ],
   "source": [
    "Y2 = corr2d_multi_in_out(X, K)\n",
    "Y2.shape"
   ]
  },
  {
   "cell_type": "markdown",
   "metadata": {},
   "source": [
    "## 卷积层的优势\n",
    "- 保存空间信息：全连接层把图像展平成一个向量，在输入图像上相邻的元素可能因为展平操作不再相邻，网络难以捕捉局部信息。而卷积层的设计，天然地具有提取局部信息的能力。\n",
    "\n",
    "- 卷积层的参数量更少：不考虑偏置的情况下，一个形状为$(c_i, c_o, h, w)$的卷积核的参数量是$c_i \\times c_o \\times h \\times w$，与输入图像的宽高无关。假如一个卷积层的输入和输出形状分别是$(c_1, h_1, w_1)$和$(c_2, h_2, w_2)$，如果要用全连接层进行连接，参数数量就是$c_1 \\times c_2 \\times h_1 \\times w_1 \\times h_2 \\times w_2$。使用卷积层可以以较少的参数数量来处理更大的图像。"
   ]
  },
  {
   "cell_type": "markdown",
   "metadata": {},
   "source": [
    "## 池化层\n",
    "池化层的作用是缓解卷积层对位置的过度敏感性，池化层直接计算池化窗口内元素的最大值或者平均值。\n",
    "\n",
    "- 池化层的填充、步幅与卷积层性质相同；\n",
    "- 池化层对每个通道分别池化，而不是像卷积层那样将各通道的输入按通道相加，池化层的$Channels_{in} = Channels_{out}$。\n",
    "- 池化层没有模型参数，但要参与反向传播。"
   ]
  },
  {
   "cell_type": "markdown",
   "metadata": {},
   "source": [
    "- `torch.nn.MaxPool2d`\n",
    "- `torch.nn.AvgPool2d`"
   ]
  },
  {
   "cell_type": "code",
   "execution_count": 26,
   "metadata": {},
   "outputs": [],
   "source": [
    "def pool2d(X, pool_size, mode='max'):\n",
    "    \"\"\"\n",
    "    对二维特征X进行池化操作。\n",
    "    :param X: 二维输入特征（H,W）\n",
    "    :param pool_size: 池化窗口大小(p,q)。\n",
    "    :param mode: 二维输出。\n",
    "    :return: \n",
    "    \"\"\"\n",
    "    p_h, p_w = pool_size\n",
    "    Y = torch.zeros((X.shape[0] - p_h + 1, X.shape[1] - p_w + 1))\n",
    "    for i in range(Y.shape[0]):\n",
    "        for j in range(Y.shape[1]):\n",
    "            if mode == 'max':\n",
    "                Y[i, j] = X[i: i + p_h, j: j + p_w].max()\n",
    "            elif mode == 'avg':\n",
    "                Y[i, j] = X[i: i + p_h, j: j + p_w].mean()\n",
    "    return Y"
   ]
  },
  {
   "cell_type": "code",
   "execution_count": 27,
   "metadata": {},
   "outputs": [
    {
     "data": {
      "text/plain": [
       "torch.Size([3, 3])"
      ]
     },
     "execution_count": 27,
     "metadata": {},
     "output_type": "execute_result"
    }
   ],
   "source": [
    "X = torch.tensor([[0, 1, 2], [3, 4, 5], [6, 7, 8]])\n",
    "X.shape"
   ]
  },
  {
   "cell_type": "code",
   "execution_count": 28,
   "metadata": {},
   "outputs": [
    {
     "data": {
      "text/plain": [
       "tensor([[4., 5.],\n",
       "        [7., 8.]])"
      ]
     },
     "execution_count": 28,
     "metadata": {},
     "output_type": "execute_result"
    }
   ],
   "source": [
    "pool2d(X, (2, 2))"
   ]
  },
  {
   "cell_type": "code",
   "execution_count": 29,
   "metadata": {},
   "outputs": [
    {
     "data": {
      "text/plain": [
       "torch.Size([1, 2, 4, 4])"
      ]
     },
     "execution_count": 29,
     "metadata": {},
     "output_type": "execute_result"
    }
   ],
   "source": [
    "X = torch.arange(16, dtype=torch.float).view((1, 1, 4, 4))\n",
    "X = torch.cat((X, X + 1), dim=1)\n",
    "X.shape"
   ]
  },
  {
   "cell_type": "code",
   "execution_count": 30,
   "metadata": {},
   "outputs": [
    {
     "data": {
      "text/plain": [
       "torch.Size([1, 2, 2, 2])"
      ]
     },
     "execution_count": 30,
     "metadata": {},
     "output_type": "execute_result"
    }
   ],
   "source": [
    "maxpool2d = torch.nn.MaxPool2d(3, padding=1, stride=2)\n",
    "maxpool2d(X).shape"
   ]
  },
  {
   "cell_type": "markdown",
   "metadata": {},
   "source": [
    "# LeNet\n",
    "- 卷积层保留输入形状，使图像的像素在高和宽两个方向上的相关性均可能被有效识别；\n",
    "- 卷积层通过滑动窗口将同一卷积核与不同位置的输入重复计算，从而避免参数尺寸过大。\n",
    "\n",
    "![LeNet网络结构](https://tangshusen.me/Dive-into-DL-PyTorch/img/chapter05/5.5_lenet.png)\n",
    "\n",
    "## 组成\n",
    "LeNet分为卷积层块和全连接层块两个部分：\n",
    "- 卷积层块里的基本单位是卷积层后接最大池化层，卷积层用来识别图像里的空间模式，如线条和物体局部，之后的最大池化层则用来降低卷积层对位置的敏感性，卷积层块由两个这样的基本单位重复堆叠构成。\n",
    "    - 卷积层使用5×5窗口，激活函数使用sigmoid，第一个卷积层输出通道数为6，第二个卷积层输出通道数则增加到16。\n",
    "    - 池化层使用2×2窗口的最大池化，步幅为2，池化窗口在输入上每次滑动所覆盖的区域互不重叠。\n",
    "    - 卷积层块的输出形状为(批量大小, 通道, 高, 宽)。\n",
    "- 全连接层块含3个全连接层，它们的输出个数分别是120、84和10，其中10为输出的类别个数。\n",
    "    - 当卷积层块的输出传入全连接层块时，全连接层块会将小批量中每个样本变平（flatten）。\n",
    "- LeNet\n",
    "    - 输入是图像:`(batch_size, 1, 28, 28)`\n",
    "    - 输出是类别：`(batch_size, 10)`"
   ]
  },
  {
   "cell_type": "markdown",
   "metadata": {},
   "source": [
    "## 数据集"
   ]
  },
  {
   "cell_type": "code",
   "execution_count": 34,
   "metadata": {},
   "outputs": [],
   "source": [
    "batch_size, num_workers = 256, 4\n",
    "train_iter = torch.utils.data.DataLoader(data.mnist_train, batch_size=batch_size, shuffle=True, num_workers=num_workers)\n",
    "test_iter = torch.utils.data.DataLoader(data.mnist_test, batch_size=batch_size, shuffle=False, num_workers=num_workers)"
   ]
  },
  {
   "cell_type": "code",
   "execution_count": 37,
   "metadata": {},
   "outputs": [
    {
     "data": {
      "image/svg+xml": [
       "<?xml version=\"1.0\" encoding=\"utf-8\" standalone=\"no\"?>\r\n",
       "<!DOCTYPE svg PUBLIC \"-//W3C//DTD SVG 1.1//EN\"\r\n",
       "  \"http://www.w3.org/Graphics/SVG/1.1/DTD/svg11.dtd\">\r\n",
       "<!-- Created with matplotlib (https://matplotlib.org/) -->\r\n",
       "<svg height=\"96.187936pt\" version=\"1.1\" viewBox=\"0 0 687.5 96.187936\" width=\"687.5pt\" xmlns=\"http://www.w3.org/2000/svg\" xmlns:xlink=\"http://www.w3.org/1999/xlink\">\r\n",
       " <defs>\r\n",
       "  <style type=\"text/css\">\r\n",
       "*{stroke-linecap:butt;stroke-linejoin:round;}\r\n",
       "  </style>\r\n",
       " </defs>\r\n",
       " <g id=\"figure_1\">\r\n",
       "  <g id=\"patch_1\">\r\n",
       "   <path d=\"M 0 96.187936 \r\n",
       "L 687.5 96.187936 \r\n",
       "L 687.5 0 \r\n",
       "L 0 0 \r\n",
       "z\r\n",
       "\" style=\"fill:none;\"/>\r\n",
       "  </g>\r\n",
       "  <g id=\"axes_1\">\r\n",
       "   <g id=\"patch_2\">\r\n",
       "    <path d=\"M 10.7 85.487936 \r\n",
       "L 73.869811 85.487936 \r\n",
       "L 73.869811 22.318125 \r\n",
       "L 10.7 22.318125 \r\n",
       "z\r\n",
       "\" style=\"fill:#ffffff;\"/>\r\n",
       "   </g>\r\n",
       "   <g clip-path=\"url(#p15a42e15ae)\">\r\n",
       "    <image height=\"64\" id=\"image86c4d32354\" transform=\"scale(1 -1)translate(0 -64)\" width=\"64\" x=\"10.7\" xlink:href=\"data:image/png;base64,\r\n",
       "iVBORw0KGgoAAAANSUhEUgAAAEAAAABACAYAAACqaXHeAAAABHNCSVQICAgIfAhkiAAABHdJREFUeJztmblLNUkUxX/PfV/BNTERXEBQMBIzUTQwMjEwMTLwrzATjDQ3NTMQE/lyQQNBxEDFHdz14b7rBG9OV/VbHEeYqZmv+yT96Lrdfevec0/dqhf5/Pz8JMBIc+2Aa4QBcO2Aa4QBcO2Aa4QBcO2Aa4QBcO2Aa4QBcO2Aa4QBcO2Aa2R8NXh3dwfA0tISABsbG97Y4uIiAOfn5wDc3Nx4Y/f39wBooxmJRABISzPxLisrA6ChoQGArq4ub6yvrw+AnJyclL719/cDcHBwAEB5ebk3VlRUBEBhYWFskhmxaWZnZ3s2ExMTMZ9SfiEgiESj0U+AyclJ7+ba2hoAV1dXPuPMzEzvt6KrTOoKUFxcDMDLywtgmHB5eenZiE0PDw+An0FizOrqKgAtLS0A1NXVeTa/fv0C4Pn5GfCzS1Dma2pqAMMMgOnp6dhzCU8FDBnLy8sArK+vezebmpoAqK6uBiArKwuAj48Pz0b33t/fAZNlgLe3N8AwQNmxa1pZeXx8BIyWgMlqY2MjAKenpwDc3t56Nm1tbb7v2ygoKACMFum78hkMgwPPgMAHIKO7uxvwi8jR0VFs8E8RET1tuqWnp/vu2SWg5fPp6ck3JmoDlJaW+r5rP693V1VVAWaJq6ys9Gy2trZ8E7FFWFS/vr4GTJnt7Ox4NmdnZ7HvE3B4jZDdiEh09vf3ASOGEhUwUd3d3QXMcgaGOcqgxPP19TXheTFAwgVmudVz0WgU8Dcy+i2htSF7LeN6ty2CEuqQAaph1R2YWrNrLhWkD3t7e949NTnHx8eAibwaJPt7aoDsJkvsEOOU5cPDQ8+mpKQEgLy8PMDPQGVcOiNNEiPBaEbgGRBJ9teY3fCAaU1t02StZzy0mszOzgIms2AyoOzYtayWWewSEy8uLhK+IQbbK5TeLc0RO+xma25uLjaPv5zFb47AByDpeUAqeqsUwJSJrraIyk79/ujoKGB2YACbm5s+m2T7BJWQSk+CB6ZkRHO7yZJPElFdOzo6EueadKYBwpcnQkL8yQ4YlnwlhvFL7PDwsDc2MzMDwMrKCgCtra3emJqU3NxcwLS09qmPBFECp2dsP+P1vaenJ8HHkAHfMbIzL8Szwl46dS9+w2TrxODgIGDq/OTkxBuTHqjZUUtuL3XKuN6ZjInyIz8/H4D6+voEm8AzIPAB+FYJJEN8WXwlhqKpXSayHxkZAWBsbMwb005PIqiS0C4VTJ+vUrR3qloS9R5dVQo+v1N6HRD8mAE/gc0SiZiyMjAw4I3Nz88DJvM6wNRyCIaBujY3N3tj2ktop1lbW5vap59M5HfCv8oAG/aSCNDe3u793t7eBsxfclq+pqamvvVunfctLCwA/uP0eIQMcO2AVgZbHzo7OwFzttjb2/u33llRUQHA0NAQAOPj4yltA8+AwAcg6ZHYfxX2XkAlk2yfEt8I6U+UcC+QBP8rBvwTCDwDwgC4dsA1wgC4dsA1wgC4dsA1wgC4dsA1wgC4dsA1wgC4dsA1wgC4dsA1/gBHN8jThC0LdAAAAABJRU5ErkJggg==\" y=\"-21.487936\"/>\r\n",
       "   </g>\r\n",
       "   <g id=\"patch_3\">\r\n",
       "    <path d=\"M 10.7 85.487936 \r\n",
       "L 10.7 22.318125 \r\n",
       "\" style=\"fill:none;stroke:#000000;stroke-linecap:square;stroke-linejoin:miter;stroke-width:0.8;\"/>\r\n",
       "   </g>\r\n",
       "   <g id=\"patch_4\">\r\n",
       "    <path d=\"M 73.869811 85.487936 \r\n",
       "L 73.869811 22.318125 \r\n",
       "\" style=\"fill:none;stroke:#000000;stroke-linecap:square;stroke-linejoin:miter;stroke-width:0.8;\"/>\r\n",
       "   </g>\r\n",
       "   <g id=\"patch_5\">\r\n",
       "    <path d=\"M 10.7 85.487936 \r\n",
       "L 73.869811 85.487936 \r\n",
       "\" style=\"fill:none;stroke:#000000;stroke-linecap:square;stroke-linejoin:miter;stroke-width:0.8;\"/>\r\n",
       "   </g>\r\n",
       "   <g id=\"patch_6\">\r\n",
       "    <path d=\"M 10.7 22.318125 \r\n",
       "L 73.869811 22.318125 \r\n",
       "\" style=\"fill:none;stroke:#000000;stroke-linecap:square;stroke-linejoin:miter;stroke-width:0.8;\"/>\r\n",
       "   </g>\r\n",
       "   <g id=\"text_1\">\r\n",
       "    <!-- ankle boot -->\r\n",
       "    <defs>\r\n",
       "     <path d=\"M 34.28125 27.484375 \r\n",
       "Q 23.390625 27.484375 19.1875 25 \r\n",
       "Q 14.984375 22.515625 14.984375 16.5 \r\n",
       "Q 14.984375 11.71875 18.140625 8.90625 \r\n",
       "Q 21.296875 6.109375 26.703125 6.109375 \r\n",
       "Q 34.1875 6.109375 38.703125 11.40625 \r\n",
       "Q 43.21875 16.703125 43.21875 25.484375 \r\n",
       "L 43.21875 27.484375 \r\n",
       "z\r\n",
       "M 52.203125 31.203125 \r\n",
       "L 52.203125 0 \r\n",
       "L 43.21875 0 \r\n",
       "L 43.21875 8.296875 \r\n",
       "Q 40.140625 3.328125 35.546875 0.953125 \r\n",
       "Q 30.953125 -1.421875 24.3125 -1.421875 \r\n",
       "Q 15.921875 -1.421875 10.953125 3.296875 \r\n",
       "Q 6 8.015625 6 15.921875 \r\n",
       "Q 6 25.140625 12.171875 29.828125 \r\n",
       "Q 18.359375 34.515625 30.609375 34.515625 \r\n",
       "L 43.21875 34.515625 \r\n",
       "L 43.21875 35.40625 \r\n",
       "Q 43.21875 41.609375 39.140625 45 \r\n",
       "Q 35.0625 48.390625 27.6875 48.390625 \r\n",
       "Q 23 48.390625 18.546875 47.265625 \r\n",
       "Q 14.109375 46.140625 10.015625 43.890625 \r\n",
       "L 10.015625 52.203125 \r\n",
       "Q 14.9375 54.109375 19.578125 55.046875 \r\n",
       "Q 24.21875 56 28.609375 56 \r\n",
       "Q 40.484375 56 46.34375 49.84375 \r\n",
       "Q 52.203125 43.703125 52.203125 31.203125 \r\n",
       "z\r\n",
       "\" id=\"DejaVuSans-97\"/>\r\n",
       "     <path d=\"M 54.890625 33.015625 \r\n",
       "L 54.890625 0 \r\n",
       "L 45.90625 0 \r\n",
       "L 45.90625 32.71875 \r\n",
       "Q 45.90625 40.484375 42.875 44.328125 \r\n",
       "Q 39.84375 48.1875 33.796875 48.1875 \r\n",
       "Q 26.515625 48.1875 22.3125 43.546875 \r\n",
       "Q 18.109375 38.921875 18.109375 30.90625 \r\n",
       "L 18.109375 0 \r\n",
       "L 9.078125 0 \r\n",
       "L 9.078125 54.6875 \r\n",
       "L 18.109375 54.6875 \r\n",
       "L 18.109375 46.1875 \r\n",
       "Q 21.34375 51.125 25.703125 53.5625 \r\n",
       "Q 30.078125 56 35.796875 56 \r\n",
       "Q 45.21875 56 50.046875 50.171875 \r\n",
       "Q 54.890625 44.34375 54.890625 33.015625 \r\n",
       "z\r\n",
       "\" id=\"DejaVuSans-110\"/>\r\n",
       "     <path d=\"M 9.078125 75.984375 \r\n",
       "L 18.109375 75.984375 \r\n",
       "L 18.109375 31.109375 \r\n",
       "L 44.921875 54.6875 \r\n",
       "L 56.390625 54.6875 \r\n",
       "L 27.390625 29.109375 \r\n",
       "L 57.625 0 \r\n",
       "L 45.90625 0 \r\n",
       "L 18.109375 26.703125 \r\n",
       "L 18.109375 0 \r\n",
       "L 9.078125 0 \r\n",
       "z\r\n",
       "\" id=\"DejaVuSans-107\"/>\r\n",
       "     <path d=\"M 9.421875 75.984375 \r\n",
       "L 18.40625 75.984375 \r\n",
       "L 18.40625 0 \r\n",
       "L 9.421875 0 \r\n",
       "z\r\n",
       "\" id=\"DejaVuSans-108\"/>\r\n",
       "     <path d=\"M 56.203125 29.59375 \r\n",
       "L 56.203125 25.203125 \r\n",
       "L 14.890625 25.203125 \r\n",
       "Q 15.484375 15.921875 20.484375 11.0625 \r\n",
       "Q 25.484375 6.203125 34.421875 6.203125 \r\n",
       "Q 39.59375 6.203125 44.453125 7.46875 \r\n",
       "Q 49.3125 8.734375 54.109375 11.28125 \r\n",
       "L 54.109375 2.78125 \r\n",
       "Q 49.265625 0.734375 44.1875 -0.34375 \r\n",
       "Q 39.109375 -1.421875 33.890625 -1.421875 \r\n",
       "Q 20.796875 -1.421875 13.15625 6.1875 \r\n",
       "Q 5.515625 13.8125 5.515625 26.8125 \r\n",
       "Q 5.515625 40.234375 12.765625 48.109375 \r\n",
       "Q 20.015625 56 32.328125 56 \r\n",
       "Q 43.359375 56 49.78125 48.890625 \r\n",
       "Q 56.203125 41.796875 56.203125 29.59375 \r\n",
       "z\r\n",
       "M 47.21875 32.234375 \r\n",
       "Q 47.125 39.59375 43.09375 43.984375 \r\n",
       "Q 39.0625 48.390625 32.421875 48.390625 \r\n",
       "Q 24.90625 48.390625 20.390625 44.140625 \r\n",
       "Q 15.875 39.890625 15.1875 32.171875 \r\n",
       "z\r\n",
       "\" id=\"DejaVuSans-101\"/>\r\n",
       "     <path id=\"DejaVuSans-32\"/>\r\n",
       "     <path d=\"M 48.6875 27.296875 \r\n",
       "Q 48.6875 37.203125 44.609375 42.84375 \r\n",
       "Q 40.53125 48.484375 33.40625 48.484375 \r\n",
       "Q 26.265625 48.484375 22.1875 42.84375 \r\n",
       "Q 18.109375 37.203125 18.109375 27.296875 \r\n",
       "Q 18.109375 17.390625 22.1875 11.75 \r\n",
       "Q 26.265625 6.109375 33.40625 6.109375 \r\n",
       "Q 40.53125 6.109375 44.609375 11.75 \r\n",
       "Q 48.6875 17.390625 48.6875 27.296875 \r\n",
       "z\r\n",
       "M 18.109375 46.390625 \r\n",
       "Q 20.953125 51.265625 25.265625 53.625 \r\n",
       "Q 29.59375 56 35.59375 56 \r\n",
       "Q 45.5625 56 51.78125 48.09375 \r\n",
       "Q 58.015625 40.1875 58.015625 27.296875 \r\n",
       "Q 58.015625 14.40625 51.78125 6.484375 \r\n",
       "Q 45.5625 -1.421875 35.59375 -1.421875 \r\n",
       "Q 29.59375 -1.421875 25.265625 0.953125 \r\n",
       "Q 20.953125 3.328125 18.109375 8.203125 \r\n",
       "L 18.109375 0 \r\n",
       "L 9.078125 0 \r\n",
       "L 9.078125 75.984375 \r\n",
       "L 18.109375 75.984375 \r\n",
       "z\r\n",
       "\" id=\"DejaVuSans-98\"/>\r\n",
       "     <path d=\"M 30.609375 48.390625 \r\n",
       "Q 23.390625 48.390625 19.1875 42.75 \r\n",
       "Q 14.984375 37.109375 14.984375 27.296875 \r\n",
       "Q 14.984375 17.484375 19.15625 11.84375 \r\n",
       "Q 23.34375 6.203125 30.609375 6.203125 \r\n",
       "Q 37.796875 6.203125 41.984375 11.859375 \r\n",
       "Q 46.1875 17.53125 46.1875 27.296875 \r\n",
       "Q 46.1875 37.015625 41.984375 42.703125 \r\n",
       "Q 37.796875 48.390625 30.609375 48.390625 \r\n",
       "z\r\n",
       "M 30.609375 56 \r\n",
       "Q 42.328125 56 49.015625 48.375 \r\n",
       "Q 55.71875 40.765625 55.71875 27.296875 \r\n",
       "Q 55.71875 13.875 49.015625 6.21875 \r\n",
       "Q 42.328125 -1.421875 30.609375 -1.421875 \r\n",
       "Q 18.84375 -1.421875 12.171875 6.21875 \r\n",
       "Q 5.515625 13.875 5.515625 27.296875 \r\n",
       "Q 5.515625 40.765625 12.171875 48.375 \r\n",
       "Q 18.84375 56 30.609375 56 \r\n",
       "z\r\n",
       "\" id=\"DejaVuSans-111\"/>\r\n",
       "     <path d=\"M 18.3125 70.21875 \r\n",
       "L 18.3125 54.6875 \r\n",
       "L 36.8125 54.6875 \r\n",
       "L 36.8125 47.703125 \r\n",
       "L 18.3125 47.703125 \r\n",
       "L 18.3125 18.015625 \r\n",
       "Q 18.3125 11.328125 20.140625 9.421875 \r\n",
       "Q 21.96875 7.515625 27.59375 7.515625 \r\n",
       "L 36.8125 7.515625 \r\n",
       "L 36.8125 0 \r\n",
       "L 27.59375 0 \r\n",
       "Q 17.1875 0 13.234375 3.875 \r\n",
       "Q 9.28125 7.765625 9.28125 18.015625 \r\n",
       "L 9.28125 47.703125 \r\n",
       "L 2.6875 47.703125 \r\n",
       "L 2.6875 54.6875 \r\n",
       "L 9.28125 54.6875 \r\n",
       "L 9.28125 70.21875 \r\n",
       "z\r\n",
       "\" id=\"DejaVuSans-116\"/>\r\n",
       "    </defs>\r\n",
       "    <g transform=\"translate(10.561781 16.318125)scale(0.12 -0.12)\">\r\n",
       "     <use xlink:href=\"#DejaVuSans-97\"/>\r\n",
       "     <use x=\"61.279297\" xlink:href=\"#DejaVuSans-110\"/>\r\n",
       "     <use x=\"124.658203\" xlink:href=\"#DejaVuSans-107\"/>\r\n",
       "     <use x=\"182.568359\" xlink:href=\"#DejaVuSans-108\"/>\r\n",
       "     <use x=\"210.351562\" xlink:href=\"#DejaVuSans-101\"/>\r\n",
       "     <use x=\"271.875\" xlink:href=\"#DejaVuSans-32\"/>\r\n",
       "     <use x=\"303.662109\" xlink:href=\"#DejaVuSans-98\"/>\r\n",
       "     <use x=\"367.138672\" xlink:href=\"#DejaVuSans-111\"/>\r\n",
       "     <use x=\"428.320312\" xlink:href=\"#DejaVuSans-111\"/>\r\n",
       "     <use x=\"489.501953\" xlink:href=\"#DejaVuSans-116\"/>\r\n",
       "    </g>\r\n",
       "   </g>\r\n",
       "  </g>\r\n",
       "  <g id=\"axes_2\">\r\n",
       "   <g id=\"patch_7\">\r\n",
       "    <path d=\"M 86.503774 85.487936 \r\n",
       "L 149.673585 85.487936 \r\n",
       "L 149.673585 22.318125 \r\n",
       "L 86.503774 22.318125 \r\n",
       "z\r\n",
       "\" style=\"fill:#ffffff;\"/>\r\n",
       "   </g>\r\n",
       "   <g clip-path=\"url(#p58406bcafb)\">\r\n",
       "    <image height=\"64\" id=\"imageaea0c038f3\" transform=\"scale(1 -1)translate(0 -64)\" width=\"64\" x=\"86.503774\" xlink:href=\"data:image/png;base64,\r\n",
       "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\" y=\"-21.487936\"/>\r\n",
       "   </g>\r\n",
       "   <g id=\"patch_8\">\r\n",
       "    <path d=\"M 86.503774 85.487936 \r\n",
       "L 86.503774 22.318125 \r\n",
       "\" style=\"fill:none;stroke:#000000;stroke-linecap:square;stroke-linejoin:miter;stroke-width:0.8;\"/>\r\n",
       "   </g>\r\n",
       "   <g id=\"patch_9\">\r\n",
       "    <path d=\"M 149.673585 85.487936 \r\n",
       "L 149.673585 22.318125 \r\n",
       "\" style=\"fill:none;stroke:#000000;stroke-linecap:square;stroke-linejoin:miter;stroke-width:0.8;\"/>\r\n",
       "   </g>\r\n",
       "   <g id=\"patch_10\">\r\n",
       "    <path d=\"M 86.503774 85.487936 \r\n",
       "L 149.673585 85.487936 \r\n",
       "\" style=\"fill:none;stroke:#000000;stroke-linecap:square;stroke-linejoin:miter;stroke-width:0.8;\"/>\r\n",
       "   </g>\r\n",
       "   <g id=\"patch_11\">\r\n",
       "    <path d=\"M 86.503774 22.318125 \r\n",
       "L 149.673585 22.318125 \r\n",
       "\" style=\"fill:none;stroke:#000000;stroke-linecap:square;stroke-linejoin:miter;stroke-width:0.8;\"/>\r\n",
       "   </g>\r\n",
       "   <g id=\"text_2\">\r\n",
       "    <!-- pullover -->\r\n",
       "    <defs>\r\n",
       "     <path d=\"M 18.109375 8.203125 \r\n",
       "L 18.109375 -20.796875 \r\n",
       "L 9.078125 -20.796875 \r\n",
       "L 9.078125 54.6875 \r\n",
       "L 18.109375 54.6875 \r\n",
       "L 18.109375 46.390625 \r\n",
       "Q 20.953125 51.265625 25.265625 53.625 \r\n",
       "Q 29.59375 56 35.59375 56 \r\n",
       "Q 45.5625 56 51.78125 48.09375 \r\n",
       "Q 58.015625 40.1875 58.015625 27.296875 \r\n",
       "Q 58.015625 14.40625 51.78125 6.484375 \r\n",
       "Q 45.5625 -1.421875 35.59375 -1.421875 \r\n",
       "Q 29.59375 -1.421875 25.265625 0.953125 \r\n",
       "Q 20.953125 3.328125 18.109375 8.203125 \r\n",
       "z\r\n",
       "M 48.6875 27.296875 \r\n",
       "Q 48.6875 37.203125 44.609375 42.84375 \r\n",
       "Q 40.53125 48.484375 33.40625 48.484375 \r\n",
       "Q 26.265625 48.484375 22.1875 42.84375 \r\n",
       "Q 18.109375 37.203125 18.109375 27.296875 \r\n",
       "Q 18.109375 17.390625 22.1875 11.75 \r\n",
       "Q 26.265625 6.109375 33.40625 6.109375 \r\n",
       "Q 40.53125 6.109375 44.609375 11.75 \r\n",
       "Q 48.6875 17.390625 48.6875 27.296875 \r\n",
       "z\r\n",
       "\" id=\"DejaVuSans-112\"/>\r\n",
       "     <path d=\"M 8.5 21.578125 \r\n",
       "L 8.5 54.6875 \r\n",
       "L 17.484375 54.6875 \r\n",
       "L 17.484375 21.921875 \r\n",
       "Q 17.484375 14.15625 20.5 10.265625 \r\n",
       "Q 23.53125 6.390625 29.59375 6.390625 \r\n",
       "Q 36.859375 6.390625 41.078125 11.03125 \r\n",
       "Q 45.3125 15.671875 45.3125 23.6875 \r\n",
       "L 45.3125 54.6875 \r\n",
       "L 54.296875 54.6875 \r\n",
       "L 54.296875 0 \r\n",
       "L 45.3125 0 \r\n",
       "L 45.3125 8.40625 \r\n",
       "Q 42.046875 3.421875 37.71875 1 \r\n",
       "Q 33.40625 -1.421875 27.6875 -1.421875 \r\n",
       "Q 18.265625 -1.421875 13.375 4.4375 \r\n",
       "Q 8.5 10.296875 8.5 21.578125 \r\n",
       "z\r\n",
       "M 31.109375 56 \r\n",
       "z\r\n",
       "\" id=\"DejaVuSans-117\"/>\r\n",
       "     <path d=\"M 2.984375 54.6875 \r\n",
       "L 12.5 54.6875 \r\n",
       "L 29.59375 8.796875 \r\n",
       "L 46.6875 54.6875 \r\n",
       "L 56.203125 54.6875 \r\n",
       "L 35.6875 0 \r\n",
       "L 23.484375 0 \r\n",
       "z\r\n",
       "\" id=\"DejaVuSans-118\"/>\r\n",
       "     <path d=\"M 41.109375 46.296875 \r\n",
       "Q 39.59375 47.171875 37.8125 47.578125 \r\n",
       "Q 36.03125 48 33.890625 48 \r\n",
       "Q 26.265625 48 22.1875 43.046875 \r\n",
       "Q 18.109375 38.09375 18.109375 28.8125 \r\n",
       "L 18.109375 0 \r\n",
       "L 9.078125 0 \r\n",
       "L 9.078125 54.6875 \r\n",
       "L 18.109375 54.6875 \r\n",
       "L 18.109375 46.1875 \r\n",
       "Q 20.953125 51.171875 25.484375 53.578125 \r\n",
       "Q 30.03125 56 36.53125 56 \r\n",
       "Q 37.453125 56 38.578125 55.875 \r\n",
       "Q 39.703125 55.765625 41.0625 55.515625 \r\n",
       "z\r\n",
       "\" id=\"DejaVuSans-114\"/>\r\n",
       "    </defs>\r\n",
       "    <g transform=\"translate(93.762429 16.318125)scale(0.12 -0.12)\">\r\n",
       "     <use xlink:href=\"#DejaVuSans-112\"/>\r\n",
       "     <use x=\"63.476562\" xlink:href=\"#DejaVuSans-117\"/>\r\n",
       "     <use x=\"126.855469\" xlink:href=\"#DejaVuSans-108\"/>\r\n",
       "     <use x=\"154.638672\" xlink:href=\"#DejaVuSans-108\"/>\r\n",
       "     <use x=\"182.421875\" xlink:href=\"#DejaVuSans-111\"/>\r\n",
       "     <use x=\"243.603516\" xlink:href=\"#DejaVuSans-118\"/>\r\n",
       "     <use x=\"302.783203\" xlink:href=\"#DejaVuSans-101\"/>\r\n",
       "     <use x=\"364.306641\" xlink:href=\"#DejaVuSans-114\"/>\r\n",
       "    </g>\r\n",
       "   </g>\r\n",
       "  </g>\r\n",
       "  <g id=\"axes_3\">\r\n",
       "   <g id=\"patch_12\">\r\n",
       "    <path d=\"M 162.307547 85.487936 \r\n",
       "L 225.477358 85.487936 \r\n",
       "L 225.477358 22.318125 \r\n",
       "L 162.307547 22.318125 \r\n",
       "z\r\n",
       "\" style=\"fill:#ffffff;\"/>\r\n",
       "   </g>\r\n",
       "   <g clip-path=\"url(#p3da3a755e1)\">\r\n",
       "    <image height=\"64\" id=\"image431f61f77d\" transform=\"scale(1 -1)translate(0 -64)\" width=\"64\" x=\"162.307547\" xlink:href=\"data:image/png;base64,\r\n",
       "iVBORw0KGgoAAAANSUhEUgAAAEAAAABACAYAAACqaXHeAAAABHNCSVQICAgIfAhkiAAABA1JREFUeJztm8kvbUsUxn+Hq+8S0SZMRISEYCARMWdu4m/w54iZxMSAETFhQgjRxIwwMNCFIKIPovcG7327c/aN+27VTW52fZN9TjUrK1XfWqvW2rVTn5+fn1jGyMgIAEtLS15bf38/AD09PV/Gz87OAjA0NARAYWEhAAMDA96Yrq4uI7plGJHyF+OHKUFBIqVSqVDf8PAwAGtra17b+Pg4AHNzc0B4R0dHRwGYmpoCICPj331qaWnxxjgGGELiF8CYCby/v/tCf4TFHh4eAlBaWuq11dTUAOmpnJmZCUBubm7oWVZWZkpdD44BpgTJUQUxMzMDwPX1NQDZ2dle38fHR6ysra0tAHJycgDfqVZXV5tRNgDHAFOCoqEP/DCWlZUFwOvrq9fX19cXK0s+QKFVz+fnZzPKBuAYYEpQOgZMTk4CPgOCdt/d3R0r6/HxMa1s+RKTSDwDEr8AxkwgHRTGhGC+UFdXFzvv9PQU8EOrqC/naBKOATaE6uh7d3cHQH5+PhBmxM8YEAyXQTgGWIAVBqysrADw9PQE+Dt/dXX1rfliTklJSag93XH7d5F4BiR+AayYwOLiIuBT9uXlBYD29vZvzdeJMVpX+FkG+X/hGGBD6Pr6OuA7P2VxbW1tvyQnepBy2aAFWGHA+fk54GdxsuWGhobYOfITQby9vYX+60BlEo4BNoQeHx8DUFVVBfi7e3JyEjsnutvwNQo8PDyYUtFD4hmQ+AWwWg9Q9iZnuLe3Fzt2Y2PD+63yuTOBPwCrDJBj045ub2/Hjp2envZ+qx5gI/uLwjHApnDVAMWA3d3d2LEKnfD1xYhNJJ4BiV8AqyYg6M1Q8LSnzE4Z38HBgdcXDZ/C7e2tcd0cA2wIzcvLA/wKTrpy9vz8PAC9vb0ArK6uen1iR/QgdHl5aVxXxwAbQisrKwG4ubmJHTM2Ngb4DAhWe3SXKFojcPUAC7DCAL3QkM3KF+jKK8DCwkK8Uv/ZfvDmGYTvGJlC4hmQ+AWwYgJNTU0A7OzsAOlNQHcAOjs7gXAJXFmgnjKJ775b/BU4BtgQ2tHRAcDExATgh6/gDhYUFACwubkJQHl5+Rc5ygY1/+joyLiujgE2hLa2tgL+QUb3BILJjS5AFxUVAeHcX781Xv7B1QQtIPELYMUEmpubQ/9lCsHsTqc81QhUMwA/bCoMKk9w3wtYgNVsUNAuR/P7uDaxQ326NFVRUWFUT3AMsFsT1NFXOxr8ZkghTS9BFBaD86Jl8draWuM6OgaYEhS8wSXvrQPR8vIykP6+f3FxMQAXFxdem3yGaotCY2OjKXV9XY1L/MuQ+AVImfp6PN23w/oueHBwEAhfkzs7OwOgvr4egPv7e69PpqIwuL+/D/if4JhE4hnwD5HZX6ocGkbGAAAAAElFTkSuQmCC\" y=\"-21.487936\"/>\r\n",
       "   </g>\r\n",
       "   <g id=\"patch_13\">\r\n",
       "    <path d=\"M 162.307547 85.487936 \r\n",
       "L 162.307547 22.318125 \r\n",
       "\" style=\"fill:none;stroke:#000000;stroke-linecap:square;stroke-linejoin:miter;stroke-width:0.8;\"/>\r\n",
       "   </g>\r\n",
       "   <g id=\"patch_14\">\r\n",
       "    <path d=\"M 225.477358 85.487936 \r\n",
       "L 225.477358 22.318125 \r\n",
       "\" style=\"fill:none;stroke:#000000;stroke-linecap:square;stroke-linejoin:miter;stroke-width:0.8;\"/>\r\n",
       "   </g>\r\n",
       "   <g id=\"patch_15\">\r\n",
       "    <path d=\"M 162.307547 85.487936 \r\n",
       "L 225.477358 85.487936 \r\n",
       "\" style=\"fill:none;stroke:#000000;stroke-linecap:square;stroke-linejoin:miter;stroke-width:0.8;\"/>\r\n",
       "   </g>\r\n",
       "   <g id=\"patch_16\">\r\n",
       "    <path d=\"M 162.307547 22.318125 \r\n",
       "L 225.477358 22.318125 \r\n",
       "\" style=\"fill:none;stroke:#000000;stroke-linecap:square;stroke-linejoin:miter;stroke-width:0.8;\"/>\r\n",
       "   </g>\r\n",
       "   <g id=\"text_3\">\r\n",
       "    <!-- trouser -->\r\n",
       "    <defs>\r\n",
       "     <path d=\"M 44.28125 53.078125 \r\n",
       "L 44.28125 44.578125 \r\n",
       "Q 40.484375 46.53125 36.375 47.5 \r\n",
       "Q 32.28125 48.484375 27.875 48.484375 \r\n",
       "Q 21.1875 48.484375 17.84375 46.4375 \r\n",
       "Q 14.5 44.390625 14.5 40.28125 \r\n",
       "Q 14.5 37.15625 16.890625 35.375 \r\n",
       "Q 19.28125 33.59375 26.515625 31.984375 \r\n",
       "L 29.59375 31.296875 \r\n",
       "Q 39.15625 29.25 43.1875 25.515625 \r\n",
       "Q 47.21875 21.78125 47.21875 15.09375 \r\n",
       "Q 47.21875 7.46875 41.1875 3.015625 \r\n",
       "Q 35.15625 -1.421875 24.609375 -1.421875 \r\n",
       "Q 20.21875 -1.421875 15.453125 -0.5625 \r\n",
       "Q 10.6875 0.296875 5.421875 2 \r\n",
       "L 5.421875 11.28125 \r\n",
       "Q 10.40625 8.6875 15.234375 7.390625 \r\n",
       "Q 20.0625 6.109375 24.8125 6.109375 \r\n",
       "Q 31.15625 6.109375 34.5625 8.28125 \r\n",
       "Q 37.984375 10.453125 37.984375 14.40625 \r\n",
       "Q 37.984375 18.0625 35.515625 20.015625 \r\n",
       "Q 33.0625 21.96875 24.703125 23.78125 \r\n",
       "L 21.578125 24.515625 \r\n",
       "Q 13.234375 26.265625 9.515625 29.90625 \r\n",
       "Q 5.8125 33.546875 5.8125 39.890625 \r\n",
       "Q 5.8125 47.609375 11.28125 51.796875 \r\n",
       "Q 16.75 56 26.8125 56 \r\n",
       "Q 31.78125 56 36.171875 55.265625 \r\n",
       "Q 40.578125 54.546875 44.28125 53.078125 \r\n",
       "z\r\n",
       "\" id=\"DejaVuSans-115\"/>\r\n",
       "    </defs>\r\n",
       "    <g transform=\"translate(172.317765 16.318125)scale(0.12 -0.12)\">\r\n",
       "     <use xlink:href=\"#DejaVuSans-116\"/>\r\n",
       "     <use x=\"39.208984\" xlink:href=\"#DejaVuSans-114\"/>\r\n",
       "     <use x=\"80.291016\" xlink:href=\"#DejaVuSans-111\"/>\r\n",
       "     <use x=\"141.472656\" xlink:href=\"#DejaVuSans-117\"/>\r\n",
       "     <use x=\"204.851562\" xlink:href=\"#DejaVuSans-115\"/>\r\n",
       "     <use x=\"256.951172\" xlink:href=\"#DejaVuSans-101\"/>\r\n",
       "     <use x=\"318.474609\" xlink:href=\"#DejaVuSans-114\"/>\r\n",
       "    </g>\r\n",
       "   </g>\r\n",
       "  </g>\r\n",
       "  <g id=\"axes_4\">\r\n",
       "   <g id=\"patch_17\">\r\n",
       "    <path d=\"M 238.111321 85.487936 \r\n",
       "L 301.281132 85.487936 \r\n",
       "L 301.281132 22.318125 \r\n",
       "L 238.111321 22.318125 \r\n",
       "z\r\n",
       "\" style=\"fill:#ffffff;\"/>\r\n",
       "   </g>\r\n",
       "   <g clip-path=\"url(#pa56c7e04e8)\">\r\n",
       "    <image height=\"64\" id=\"image300276cc71\" transform=\"scale(1 -1)translate(0 -64)\" width=\"64\" x=\"238.111321\" xlink:href=\"data:image/png;base64,\r\n",
       "iVBORw0KGgoAAAANSUhEUgAAAEAAAABACAYAAACqaXHeAAAABHNCSVQICAgIfAhkiAAABAJJREFUeJztm8kuL0EUh7+/eYg5ZgsLa3Zix8LGA3gEVmLjPSSexlbCygKJMTHEGDMxz9zF9euqNgW3z+Km62w0XX1SqfpO1ZlkXl5eXjCSo6MjAPr7+wHo6emJ3vX19X363eDgYOz3kZERADKZTNJTJCtxjf+ZZCwJGB4eBmBoaAiAzs7O6N3Y2Nin3zU3NwOwt7cHwOTkJACtra2JzzH1BKR+AXIsld/e3gJQUFAAwNPT07e+KywsBKCoqAiA7e1tIJiAiZgSMDo6CkB+fj7wNQEXFxfR89nZGQA6nzc2NqymGAgwJWB/fx+AvLw84GsCTk9Po+fn52cAcnL+Tu/g4MBqioEAUwLq6uoAZ99ZWZ+v9+XlZfQsAjT+5ubGaoqBgNQvgKkJCF05QnKMPpL7+/voWVGfTMB/l7QEAiyVa+dyc3MBeHx8/HTsw8ND9KxxxcXFgIsKLSQQYKFULqwcoO+IP1bElJWVxX63kNQTkPoFMDEBXWPZ2dkAtLS0AC46hPe5Av+AFPrt7e0AtLW1WUwTCATYXoNKgnZ0dADxWGBiYgKA7u5uAObm5qJ3lZWVAAwMDAAuNrCQQICl8qqqKsDF+n5Ob2lpCXAETE1NRe/q6+sB2NnZAaC2ttZsjoEAU+WvGR3ZtDJEEM8BAiwsLETPIqe0tBSAkpISszmmnoDUL4CJCSj5eXV1BbjrTyYBsLu7G/tmeXk5em5qagJcDCBnyUICARZKr6+vYz+V8PQdIR2MEtECrpByd3cHwPHxMeCqxklKIMBCqexbMb6CIxU74X12yD8fRMP5+TnggiMLST0BqV8AExNQc5RSYzr8/LTX2xS57xnKZDRGMYGfF/iqyvQTCQRYKJUjpFS3SPD7sfxaIMTrf3KAdBh+1F8QCEhITAjQbiqTo932nR39bXp6+t33ui6lRw6RXzxJKlUeCLBQqp3WToqEhoaGaMzKygoAMzMzQPx8UJeYbg1ll30CkpLUE5D6BTAxAaEvU1CrjK6z2AReYwD/na44OUKKGyzyAoEAC6WLi4uAS26q1dXv95+fnwdgfHwciEeHm5ubgHN8RInvLH1E028kEGChVNfe1tYWAGtra0D8qhMVsnO/+KGOEJEk2/9Jv8F3JfUEpH4BTFtkZmdnAWcCfiJUB2JFRQUQj/RUS9TP1dVV4Osmq99KIMBCqfr7dRhqd/1dfls08Q84HYLl5eWxMaoog+se+VcJBFgolQN0eHgIuJ30d/ltxVdj/O9UHRZJOlMgEJCYmBBQXV0NwPr6OuBOenV+gLPzxsZGwFED7j9E1GqrMcERMpDUL4CJCfT29gJwcnICuANOqS5fVPfzI0VdlzKBmpoaALq6uhKfa+oJ+AMob53kqpYR5gAAAABJRU5ErkJggg==\" y=\"-21.487936\"/>\r\n",
       "   </g>\r\n",
       "   <g id=\"patch_18\">\r\n",
       "    <path d=\"M 238.111321 85.487936 \r\n",
       "L 238.111321 22.318125 \r\n",
       "\" style=\"fill:none;stroke:#000000;stroke-linecap:square;stroke-linejoin:miter;stroke-width:0.8;\"/>\r\n",
       "   </g>\r\n",
       "   <g id=\"patch_19\">\r\n",
       "    <path d=\"M 301.281132 85.487936 \r\n",
       "L 301.281132 22.318125 \r\n",
       "\" style=\"fill:none;stroke:#000000;stroke-linecap:square;stroke-linejoin:miter;stroke-width:0.8;\"/>\r\n",
       "   </g>\r\n",
       "   <g id=\"patch_20\">\r\n",
       "    <path d=\"M 238.111321 85.487936 \r\n",
       "L 301.281132 85.487936 \r\n",
       "\" style=\"fill:none;stroke:#000000;stroke-linecap:square;stroke-linejoin:miter;stroke-width:0.8;\"/>\r\n",
       "   </g>\r\n",
       "   <g id=\"patch_21\">\r\n",
       "    <path d=\"M 238.111321 22.318125 \r\n",
       "L 301.281132 22.318125 \r\n",
       "\" style=\"fill:none;stroke:#000000;stroke-linecap:square;stroke-linejoin:miter;stroke-width:0.8;\"/>\r\n",
       "   </g>\r\n",
       "   <g id=\"text_4\">\r\n",
       "    <!-- trouser -->\r\n",
       "    <g transform=\"translate(248.121539 16.318125)scale(0.12 -0.12)\">\r\n",
       "     <use xlink:href=\"#DejaVuSans-116\"/>\r\n",
       "     <use x=\"39.208984\" xlink:href=\"#DejaVuSans-114\"/>\r\n",
       "     <use x=\"80.291016\" xlink:href=\"#DejaVuSans-111\"/>\r\n",
       "     <use x=\"141.472656\" xlink:href=\"#DejaVuSans-117\"/>\r\n",
       "     <use x=\"204.851562\" xlink:href=\"#DejaVuSans-115\"/>\r\n",
       "     <use x=\"256.951172\" xlink:href=\"#DejaVuSans-101\"/>\r\n",
       "     <use x=\"318.474609\" xlink:href=\"#DejaVuSans-114\"/>\r\n",
       "    </g>\r\n",
       "   </g>\r\n",
       "  </g>\r\n",
       "  <g id=\"axes_5\">\r\n",
       "   <g id=\"patch_22\">\r\n",
       "    <path d=\"M 313.915094 85.487936 \r\n",
       "L 377.084906 85.487936 \r\n",
       "L 377.084906 22.318125 \r\n",
       "L 313.915094 22.318125 \r\n",
       "z\r\n",
       "\" style=\"fill:#ffffff;\"/>\r\n",
       "   </g>\r\n",
       "   <g clip-path=\"url(#p8df0bc07d6)\">\r\n",
       "    <image height=\"64\" id=\"image8283973357\" transform=\"scale(1 -1)translate(0 -64)\" width=\"64\" x=\"313.915094\" xlink:href=\"data:image/png;base64,\r\n",
       "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\" y=\"-21.487936\"/>\r\n",
       "   </g>\r\n",
       "   <g id=\"patch_23\">\r\n",
       "    <path d=\"M 313.915094 85.487936 \r\n",
       "L 313.915094 22.318125 \r\n",
       "\" style=\"fill:none;stroke:#000000;stroke-linecap:square;stroke-linejoin:miter;stroke-width:0.8;\"/>\r\n",
       "   </g>\r\n",
       "   <g id=\"patch_24\">\r\n",
       "    <path d=\"M 377.084906 85.487936 \r\n",
       "L 377.084906 22.318125 \r\n",
       "\" style=\"fill:none;stroke:#000000;stroke-linecap:square;stroke-linejoin:miter;stroke-width:0.8;\"/>\r\n",
       "   </g>\r\n",
       "   <g id=\"patch_25\">\r\n",
       "    <path d=\"M 313.915094 85.487936 \r\n",
       "L 377.084906 85.487936 \r\n",
       "\" style=\"fill:none;stroke:#000000;stroke-linecap:square;stroke-linejoin:miter;stroke-width:0.8;\"/>\r\n",
       "   </g>\r\n",
       "   <g id=\"patch_26\">\r\n",
       "    <path d=\"M 313.915094 22.318125 \r\n",
       "L 377.084906 22.318125 \r\n",
       "\" style=\"fill:none;stroke:#000000;stroke-linecap:square;stroke-linejoin:miter;stroke-width:0.8;\"/>\r\n",
       "   </g>\r\n",
       "   <g id=\"text_5\">\r\n",
       "    <!-- shirt -->\r\n",
       "    <defs>\r\n",
       "     <path d=\"M 54.890625 33.015625 \r\n",
       "L 54.890625 0 \r\n",
       "L 45.90625 0 \r\n",
       "L 45.90625 32.71875 \r\n",
       "Q 45.90625 40.484375 42.875 44.328125 \r\n",
       "Q 39.84375 48.1875 33.796875 48.1875 \r\n",
       "Q 26.515625 48.1875 22.3125 43.546875 \r\n",
       "Q 18.109375 38.921875 18.109375 30.90625 \r\n",
       "L 18.109375 0 \r\n",
       "L 9.078125 0 \r\n",
       "L 9.078125 75.984375 \r\n",
       "L 18.109375 75.984375 \r\n",
       "L 18.109375 46.1875 \r\n",
       "Q 21.34375 51.125 25.703125 53.5625 \r\n",
       "Q 30.078125 56 35.796875 56 \r\n",
       "Q 45.21875 56 50.046875 50.171875 \r\n",
       "Q 54.890625 44.34375 54.890625 33.015625 \r\n",
       "z\r\n",
       "\" id=\"DejaVuSans-104\"/>\r\n",
       "     <path d=\"M 9.421875 54.6875 \r\n",
       "L 18.40625 54.6875 \r\n",
       "L 18.40625 0 \r\n",
       "L 9.421875 0 \r\n",
       "z\r\n",
       "M 9.421875 75.984375 \r\n",
       "L 18.40625 75.984375 \r\n",
       "L 18.40625 64.59375 \r\n",
       "L 9.421875 64.59375 \r\n",
       "z\r\n",
       "\" id=\"DejaVuSans-105\"/>\r\n",
       "    </defs>\r\n",
       "    <g transform=\"translate(332.08625 16.318125)scale(0.12 -0.12)\">\r\n",
       "     <use xlink:href=\"#DejaVuSans-115\"/>\r\n",
       "     <use x=\"52.099609\" xlink:href=\"#DejaVuSans-104\"/>\r\n",
       "     <use x=\"115.478516\" xlink:href=\"#DejaVuSans-105\"/>\r\n",
       "     <use x=\"143.261719\" xlink:href=\"#DejaVuSans-114\"/>\r\n",
       "     <use x=\"184.375\" xlink:href=\"#DejaVuSans-116\"/>\r\n",
       "    </g>\r\n",
       "   </g>\r\n",
       "  </g>\r\n",
       "  <g id=\"axes_6\">\r\n",
       "   <g id=\"patch_27\">\r\n",
       "    <path d=\"M 389.718868 85.487936 \r\n",
       "L 452.888679 85.487936 \r\n",
       "L 452.888679 22.318125 \r\n",
       "L 389.718868 22.318125 \r\n",
       "z\r\n",
       "\" style=\"fill:#ffffff;\"/>\r\n",
       "   </g>\r\n",
       "   <g clip-path=\"url(#pba70cae2b5)\">\r\n",
       "    <image height=\"64\" id=\"image2bb5102329\" transform=\"scale(1 -1)translate(0 -64)\" width=\"64\" x=\"389.718868\" xlink:href=\"data:image/png;base64,\r\n",
       "iVBORw0KGgoAAAANSUhEUgAAAEAAAABACAYAAACqaXHeAAAABHNCSVQICAgIfAhkiAAABMpJREFUeJztm0lLXksQhh+HRKNxBOOAQZGgooKImI3gQlGyyy9w59K/4V7Ere51I7oQwY0LBUHBhSgiThjFeYhxHuJd3Pue7qNfrianv7u459QmJ6f71Nd0v1X1VnWZ8Pj4+EicZXl5GYC+vj7v3Zs3bwD4+vUrAA0NDc++GxoaAmBiYgKA7Oxsb6ylpQWApqamQGtLDPT1/0CS/4sf6erqAmBkZMR7JwToVGMhYGBgAIDh4WEA3r17541tbW0BEQICS+g3wJkJ2L40ISHBN7a5uQlAaWmp9+78/ByA1tbWX+rMyMgADPSzsrK8sfz8/GAL/kciBLhS9PPnT+85KSkJgMnJSQC2t7cBvxMrKCgAoLa29pc6z87OAEhLSwMgNTXVGzs9PXWx7AgBzhCQmPh8L0dHRwHjE66vr72xqqqqF3V+//4dgLdv3wJwcnLijeXm5v75Yi2JEOBK0VPPDzA+Pg4YdNgIEAX+N1GkkE+xfyMW4v5EQo+A0G9AXHIBhT2FqszMTMAfKj9//vyintvbWwCSk/9eZkpKijcmxxhUIgTEQ2lvby9gTlAnb+fzZWVlL+r58eOH7/+247NDYhCJEBAPpVNTUwDk5OQAcHNzA8Dl5eVv6dnY2ACgrq4OgLu7O29MoTGohB4Bod+AuJjA+/fvAQNZZXWNjY2/pUfZX319PWBMAvyZZRCJEOBK0cPDg/eskxeB0Vh7e/uz7+7v731zAQ4PDwFTMygpKfG9B39eEUQiBLhSpBI2mBPX6YoKNzc3P/suVha5tLQEwLdv3wBDpOy5qhcGlQgBrhTNz897z+np6YCpFM/NzQGwu7vrzSkuLgbM6drERpUk0WXVBOUTwFysBJXQIyD0G+DMBMT3wRAYhTY5r8XFRW+OTCAWp19YWAAMzJUV2qE2ygYdiTMEqIAJpg6g0/306RNg7vsB2tragNjFzfX1dcAg6eDgAIDV1VVvzpcvX5ysO0KAK0VHR0fe89XVFWCSIv07Njb2Kl0Klx8/fgQMBbZ/IyqLO5LQb4AzExDvB+MQxQiVu9tMcG1tDYhdHBXklQUeHx8/mxPVAxyJMwQo4wPTEaJcQITG5u/d3d0A9PT0ADAzM+ON6Ts5OhEgm2zZpCiIRAhwpUhkB0xZXNdXqgkWFRV5c9T6JgT09/c/0/k01NmnHiHAkThDQGVlpfesCxBFgb29PcB/NSY/IZmenvae5eHlC3QpaneiiW4HldAjIPQb4MwEysvLvWeVxS8uLnxzbAgXFhYCplHSJklqiFTYE9xtsmWHxCASIcCVIrtg+fQWWBUhZYlgCp2zs7OAvwlS2aPeqa5gh77oYsSROEOAbBrMie3v7wPG9u0eIfkJ5fyxwpqos2qL9qlHPsCRhH4D4tIfUFFRAcDKygoANTU1gD8blENT7UBOEYwJyUzUM2ybkJ1XBJEIAfFQ2tHRAUBnZycAHz58APwnKFIjJ2iP6dJDTk/IkR54XaPlayT0CEiIxx9OKvzJ9tUuZ7e3KuxpzCY5qh+oyiSSZdcBBwcHnaw19AiIiw8QhRW4YlFZIWBnZ8f3DZhKkPyCusPy8vKcrzX0CAj9BsTFBOS8qqurAWMCdr+/Qpz+mNLm+SqhqRFKpuOqEGpL6BHwF167z3mYuZ/GAAAAAElFTkSuQmCC\" y=\"-21.487936\"/>\r\n",
       "   </g>\r\n",
       "   <g id=\"patch_28\">\r\n",
       "    <path d=\"M 389.718868 85.487936 \r\n",
       "L 389.718868 22.318125 \r\n",
       "\" style=\"fill:none;stroke:#000000;stroke-linecap:square;stroke-linejoin:miter;stroke-width:0.8;\"/>\r\n",
       "   </g>\r\n",
       "   <g id=\"patch_29\">\r\n",
       "    <path d=\"M 452.888679 85.487936 \r\n",
       "L 452.888679 22.318125 \r\n",
       "\" style=\"fill:none;stroke:#000000;stroke-linecap:square;stroke-linejoin:miter;stroke-width:0.8;\"/>\r\n",
       "   </g>\r\n",
       "   <g id=\"patch_30\">\r\n",
       "    <path d=\"M 389.718868 85.487936 \r\n",
       "L 452.888679 85.487936 \r\n",
       "\" style=\"fill:none;stroke:#000000;stroke-linecap:square;stroke-linejoin:miter;stroke-width:0.8;\"/>\r\n",
       "   </g>\r\n",
       "   <g id=\"patch_31\">\r\n",
       "    <path d=\"M 389.718868 22.318125 \r\n",
       "L 452.888679 22.318125 \r\n",
       "\" style=\"fill:none;stroke:#000000;stroke-linecap:square;stroke-linejoin:miter;stroke-width:0.8;\"/>\r\n",
       "   </g>\r\n",
       "   <g id=\"text_6\">\r\n",
       "    <!-- trouser -->\r\n",
       "    <g transform=\"translate(399.729086 16.318125)scale(0.12 -0.12)\">\r\n",
       "     <use xlink:href=\"#DejaVuSans-116\"/>\r\n",
       "     <use x=\"39.208984\" xlink:href=\"#DejaVuSans-114\"/>\r\n",
       "     <use x=\"80.291016\" xlink:href=\"#DejaVuSans-111\"/>\r\n",
       "     <use x=\"141.472656\" xlink:href=\"#DejaVuSans-117\"/>\r\n",
       "     <use x=\"204.851562\" xlink:href=\"#DejaVuSans-115\"/>\r\n",
       "     <use x=\"256.951172\" xlink:href=\"#DejaVuSans-101\"/>\r\n",
       "     <use x=\"318.474609\" xlink:href=\"#DejaVuSans-114\"/>\r\n",
       "    </g>\r\n",
       "   </g>\r\n",
       "  </g>\r\n",
       "  <g id=\"axes_7\">\r\n",
       "   <g id=\"patch_32\">\r\n",
       "    <path d=\"M 465.522642 85.487936 \r\n",
       "L 528.692453 85.487936 \r\n",
       "L 528.692453 22.318125 \r\n",
       "L 465.522642 22.318125 \r\n",
       "z\r\n",
       "\" style=\"fill:#ffffff;\"/>\r\n",
       "   </g>\r\n",
       "   <g clip-path=\"url(#pb92d6d541b)\">\r\n",
       "    <image height=\"64\" id=\"image32fca5e22b\" transform=\"scale(1 -1)translate(0 -64)\" width=\"64\" x=\"465.522642\" xlink:href=\"data:image/png;base64,\r\n",
       "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\" y=\"-21.487936\"/>\r\n",
       "   </g>\r\n",
       "   <g id=\"patch_33\">\r\n",
       "    <path d=\"M 465.522642 85.487936 \r\n",
       "L 465.522642 22.318125 \r\n",
       "\" style=\"fill:none;stroke:#000000;stroke-linecap:square;stroke-linejoin:miter;stroke-width:0.8;\"/>\r\n",
       "   </g>\r\n",
       "   <g id=\"patch_34\">\r\n",
       "    <path d=\"M 528.692453 85.487936 \r\n",
       "L 528.692453 22.318125 \r\n",
       "\" style=\"fill:none;stroke:#000000;stroke-linecap:square;stroke-linejoin:miter;stroke-width:0.8;\"/>\r\n",
       "   </g>\r\n",
       "   <g id=\"patch_35\">\r\n",
       "    <path d=\"M 465.522642 85.487936 \r\n",
       "L 528.692453 85.487936 \r\n",
       "\" style=\"fill:none;stroke:#000000;stroke-linecap:square;stroke-linejoin:miter;stroke-width:0.8;\"/>\r\n",
       "   </g>\r\n",
       "   <g id=\"patch_36\">\r\n",
       "    <path d=\"M 465.522642 22.318125 \r\n",
       "L 528.692453 22.318125 \r\n",
       "\" style=\"fill:none;stroke:#000000;stroke-linecap:square;stroke-linejoin:miter;stroke-width:0.8;\"/>\r\n",
       "   </g>\r\n",
       "   <g id=\"text_7\">\r\n",
       "    <!-- coat -->\r\n",
       "    <defs>\r\n",
       "     <path d=\"M 48.78125 52.59375 \r\n",
       "L 48.78125 44.1875 \r\n",
       "Q 44.96875 46.296875 41.140625 47.34375 \r\n",
       "Q 37.3125 48.390625 33.40625 48.390625 \r\n",
       "Q 24.65625 48.390625 19.8125 42.84375 \r\n",
       "Q 14.984375 37.3125 14.984375 27.296875 \r\n",
       "Q 14.984375 17.28125 19.8125 11.734375 \r\n",
       "Q 24.65625 6.203125 33.40625 6.203125 \r\n",
       "Q 37.3125 6.203125 41.140625 7.25 \r\n",
       "Q 44.96875 8.296875 48.78125 10.40625 \r\n",
       "L 48.78125 2.09375 \r\n",
       "Q 45.015625 0.34375 40.984375 -0.53125 \r\n",
       "Q 36.96875 -1.421875 32.421875 -1.421875 \r\n",
       "Q 20.0625 -1.421875 12.78125 6.34375 \r\n",
       "Q 5.515625 14.109375 5.515625 27.296875 \r\n",
       "Q 5.515625 40.671875 12.859375 48.328125 \r\n",
       "Q 20.21875 56 33.015625 56 \r\n",
       "Q 37.15625 56 41.109375 55.140625 \r\n",
       "Q 45.0625 54.296875 48.78125 52.59375 \r\n",
       "z\r\n",
       "\" id=\"DejaVuSans-99\"/>\r\n",
       "    </defs>\r\n",
       "    <g transform=\"translate(484.108172 16.318125)scale(0.12 -0.12)\">\r\n",
       "     <use xlink:href=\"#DejaVuSans-99\"/>\r\n",
       "     <use x=\"54.980469\" xlink:href=\"#DejaVuSans-111\"/>\r\n",
       "     <use x=\"116.162109\" xlink:href=\"#DejaVuSans-97\"/>\r\n",
       "     <use x=\"177.441406\" xlink:href=\"#DejaVuSans-116\"/>\r\n",
       "    </g>\r\n",
       "   </g>\r\n",
       "  </g>\r\n",
       "  <g id=\"axes_8\">\r\n",
       "   <g id=\"patch_37\">\r\n",
       "    <path d=\"M 541.326415 85.487936 \r\n",
       "L 604.496226 85.487936 \r\n",
       "L 604.496226 22.318125 \r\n",
       "L 541.326415 22.318125 \r\n",
       "z\r\n",
       "\" style=\"fill:#ffffff;\"/>\r\n",
       "   </g>\r\n",
       "   <g clip-path=\"url(#p2904e147c2)\">\r\n",
       "    <image height=\"64\" id=\"image5f9e1cc740\" transform=\"scale(1 -1)translate(0 -64)\" width=\"64\" x=\"541.326415\" xlink:href=\"data:image/png;base64,\r\n",
       "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\" y=\"-21.487936\"/>\r\n",
       "   </g>\r\n",
       "   <g id=\"patch_38\">\r\n",
       "    <path d=\"M 541.326415 85.487936 \r\n",
       "L 541.326415 22.318125 \r\n",
       "\" style=\"fill:none;stroke:#000000;stroke-linecap:square;stroke-linejoin:miter;stroke-width:0.8;\"/>\r\n",
       "   </g>\r\n",
       "   <g id=\"patch_39\">\r\n",
       "    <path d=\"M 604.496226 85.487936 \r\n",
       "L 604.496226 22.318125 \r\n",
       "\" style=\"fill:none;stroke:#000000;stroke-linecap:square;stroke-linejoin:miter;stroke-width:0.8;\"/>\r\n",
       "   </g>\r\n",
       "   <g id=\"patch_40\">\r\n",
       "    <path d=\"M 541.326415 85.487936 \r\n",
       "L 604.496226 85.487936 \r\n",
       "\" style=\"fill:none;stroke:#000000;stroke-linecap:square;stroke-linejoin:miter;stroke-width:0.8;\"/>\r\n",
       "   </g>\r\n",
       "   <g id=\"patch_41\">\r\n",
       "    <path d=\"M 541.326415 22.318125 \r\n",
       "L 604.496226 22.318125 \r\n",
       "\" style=\"fill:none;stroke:#000000;stroke-linecap:square;stroke-linejoin:miter;stroke-width:0.8;\"/>\r\n",
       "   </g>\r\n",
       "   <g id=\"text_8\">\r\n",
       "    <!-- shirt -->\r\n",
       "    <g transform=\"translate(559.497571 16.318125)scale(0.12 -0.12)\">\r\n",
       "     <use xlink:href=\"#DejaVuSans-115\"/>\r\n",
       "     <use x=\"52.099609\" xlink:href=\"#DejaVuSans-104\"/>\r\n",
       "     <use x=\"115.478516\" xlink:href=\"#DejaVuSans-105\"/>\r\n",
       "     <use x=\"143.261719\" xlink:href=\"#DejaVuSans-114\"/>\r\n",
       "     <use x=\"184.375\" xlink:href=\"#DejaVuSans-116\"/>\r\n",
       "    </g>\r\n",
       "   </g>\r\n",
       "  </g>\r\n",
       "  <g id=\"axes_9\">\r\n",
       "   <g id=\"patch_42\">\r\n",
       "    <path d=\"M 617.130189 85.487936 \r\n",
       "L 680.3 85.487936 \r\n",
       "L 680.3 22.318125 \r\n",
       "L 617.130189 22.318125 \r\n",
       "z\r\n",
       "\" style=\"fill:#ffffff;\"/>\r\n",
       "   </g>\r\n",
       "   <g clip-path=\"url(#p00929a696c)\">\r\n",
       "    <image height=\"64\" id=\"imagec5a5d24623\" transform=\"scale(1 -1)translate(0 -64)\" width=\"64\" x=\"617.130189\" xlink:href=\"data:image/png;base64,\r\n",
       "iVBORw0KGgoAAAANSUhEUgAAAEAAAABACAYAAACqaXHeAAAABHNCSVQICAgIfAhkiAAAAqpJREFUeJztmsFKalEUhr9jGlho5UBKamARTpo1cdwDOBZB8B2E6AF8g2YNegZp0CgaKgiCg0ZGChqhUSFBkZbaQPY+Wt17sTtYg7O+0XGtheff/1l7beHojMfjMR7GJy1AGjVAWoA0aoC0AGnUAGkB0qgB0gKkUQOkBUijBkgLkEYNkBYgjRogLUAaNUBagDRqgLQAadQAaQHSeN4Af6/XA6BUKtng/f09ALe3twD4fBOf1tfXbc3d3d3MF/X7fXu9uLgIwPLyMgDRaBSA7e1tWxOPxwHY2Nj4lfDn5+fJAvx+AD4+Pr7VmHc+P737WV1dBbQDcNrt9higXq/b4NLSEgDBYBBwO+D09NTWHB4eAtBsNgEwnQTw9vYGwPv7OwDD4RCASqViazqdDgDhcBiA3d1dm9va2pqJbW5uAlAsFm3N1dUVAKFQCIBAIGBzo9EIcLvCfJ7WmMlkJmvD43jeAGeet8OO49jrx8dHACKRyH8JMFuoUCjYWK1WA9wtZIZpOp22NWZ4Pj09AbODzmw50/omZ74P4ODgANAOwG/cMW6BO/QM5slXq1Uby+VyACQSCQD29/dtzlybo+b8/ByAcrlsa66vrwF3iN3c3Njcw8MD4B6VR0dHAKRSqTmX92883wHOaDT6NgOm9zq4e2phYcHGLi8vATg+PgZmn+DLywvg/iDa2dkBoNvt2pp8Pg/A2dkZABcXFzZnYslk8o/CB4PBzD1+i+c7wPMGzHUM/oQ5DhuNho29vr4C0Gq1ANjb2wPg5OTE1mSzWQBisRgAKysrNre2tjZzDzOgvw7naaaX8XUL/w3tAP2bnMdRA6QFSKMGSAuQRg2QFiCNGiAtQBo1QFqANGqAtABp1ABpAdKoAdICpFEDpAVIowZIC5BGDZAWII3nDfgE0zrNsXf+vdUAAAAASUVORK5CYII=\" y=\"-21.487936\"/>\r\n",
       "   </g>\r\n",
       "   <g id=\"patch_43\">\r\n",
       "    <path d=\"M 617.130189 85.487936 \r\n",
       "L 617.130189 22.318125 \r\n",
       "\" style=\"fill:none;stroke:#000000;stroke-linecap:square;stroke-linejoin:miter;stroke-width:0.8;\"/>\r\n",
       "   </g>\r\n",
       "   <g id=\"patch_44\">\r\n",
       "    <path d=\"M 680.3 85.487936 \r\n",
       "L 680.3 22.318125 \r\n",
       "\" style=\"fill:none;stroke:#000000;stroke-linecap:square;stroke-linejoin:miter;stroke-width:0.8;\"/>\r\n",
       "   </g>\r\n",
       "   <g id=\"patch_45\">\r\n",
       "    <path d=\"M 617.130189 85.487936 \r\n",
       "L 680.3 85.487936 \r\n",
       "\" style=\"fill:none;stroke:#000000;stroke-linecap:square;stroke-linejoin:miter;stroke-width:0.8;\"/>\r\n",
       "   </g>\r\n",
       "   <g id=\"patch_46\">\r\n",
       "    <path d=\"M 617.130189 22.318125 \r\n",
       "L 680.3 22.318125 \r\n",
       "\" style=\"fill:none;stroke:#000000;stroke-linecap:square;stroke-linejoin:miter;stroke-width:0.8;\"/>\r\n",
       "   </g>\r\n",
       "   <g id=\"text_9\">\r\n",
       "    <!-- sandal -->\r\n",
       "    <defs>\r\n",
       "     <path d=\"M 45.40625 46.390625 \r\n",
       "L 45.40625 75.984375 \r\n",
       "L 54.390625 75.984375 \r\n",
       "L 54.390625 0 \r\n",
       "L 45.40625 0 \r\n",
       "L 45.40625 8.203125 \r\n",
       "Q 42.578125 3.328125 38.25 0.953125 \r\n",
       "Q 33.9375 -1.421875 27.875 -1.421875 \r\n",
       "Q 17.96875 -1.421875 11.734375 6.484375 \r\n",
       "Q 5.515625 14.40625 5.515625 27.296875 \r\n",
       "Q 5.515625 40.1875 11.734375 48.09375 \r\n",
       "Q 17.96875 56 27.875 56 \r\n",
       "Q 33.9375 56 38.25 53.625 \r\n",
       "Q 42.578125 51.265625 45.40625 46.390625 \r\n",
       "z\r\n",
       "M 14.796875 27.296875 \r\n",
       "Q 14.796875 17.390625 18.875 11.75 \r\n",
       "Q 22.953125 6.109375 30.078125 6.109375 \r\n",
       "Q 37.203125 6.109375 41.296875 11.75 \r\n",
       "Q 45.40625 17.390625 45.40625 27.296875 \r\n",
       "Q 45.40625 37.203125 41.296875 42.84375 \r\n",
       "Q 37.203125 48.484375 30.078125 48.484375 \r\n",
       "Q 22.953125 48.484375 18.875 42.84375 \r\n",
       "Q 14.796875 37.203125 14.796875 27.296875 \r\n",
       "z\r\n",
       "\" id=\"DejaVuSans-100\"/>\r\n",
       "    </defs>\r\n",
       "    <g transform=\"translate(628.957282 16.318125)scale(0.12 -0.12)\">\r\n",
       "     <use xlink:href=\"#DejaVuSans-115\"/>\r\n",
       "     <use x=\"52.099609\" xlink:href=\"#DejaVuSans-97\"/>\r\n",
       "     <use x=\"113.378906\" xlink:href=\"#DejaVuSans-110\"/>\r\n",
       "     <use x=\"176.757812\" xlink:href=\"#DejaVuSans-100\"/>\r\n",
       "     <use x=\"240.234375\" xlink:href=\"#DejaVuSans-97\"/>\r\n",
       "     <use x=\"301.513672\" xlink:href=\"#DejaVuSans-108\"/>\r\n",
       "    </g>\r\n",
       "   </g>\r\n",
       "  </g>\r\n",
       " </g>\r\n",
       " <defs>\r\n",
       "  <clipPath id=\"p15a42e15ae\">\r\n",
       "   <rect height=\"63.169811\" width=\"63.169811\" x=\"10.7\" y=\"22.318125\"/>\r\n",
       "  </clipPath>\r\n",
       "  <clipPath id=\"p58406bcafb\">\r\n",
       "   <rect height=\"63.169811\" width=\"63.169811\" x=\"86.503774\" y=\"22.318125\"/>\r\n",
       "  </clipPath>\r\n",
       "  <clipPath id=\"p3da3a755e1\">\r\n",
       "   <rect height=\"63.169811\" width=\"63.169811\" x=\"162.307547\" y=\"22.318125\"/>\r\n",
       "  </clipPath>\r\n",
       "  <clipPath id=\"pa56c7e04e8\">\r\n",
       "   <rect height=\"63.169811\" width=\"63.169811\" x=\"238.111321\" y=\"22.318125\"/>\r\n",
       "  </clipPath>\r\n",
       "  <clipPath id=\"p8df0bc07d6\">\r\n",
       "   <rect height=\"63.169811\" width=\"63.169811\" x=\"313.915094\" y=\"22.318125\"/>\r\n",
       "  </clipPath>\r\n",
       "  <clipPath id=\"pba70cae2b5\">\r\n",
       "   <rect height=\"63.169811\" width=\"63.169811\" x=\"389.718868\" y=\"22.318125\"/>\r\n",
       "  </clipPath>\r\n",
       "  <clipPath id=\"pb92d6d541b\">\r\n",
       "   <rect height=\"63.169811\" width=\"63.169811\" x=\"465.522642\" y=\"22.318125\"/>\r\n",
       "  </clipPath>\r\n",
       "  <clipPath id=\"p2904e147c2\">\r\n",
       "   <rect height=\"63.169811\" width=\"63.169811\" x=\"541.326415\" y=\"22.318125\"/>\r\n",
       "  </clipPath>\r\n",
       "  <clipPath id=\"p00929a696c\">\r\n",
       "   <rect height=\"63.169811\" width=\"63.169811\" x=\"617.130189\" y=\"22.318125\"/>\r\n",
       "  </clipPath>\r\n",
       " </defs>\r\n",
       "</svg>\r\n"
      ],
      "text/plain": [
       "<Figure size 864x864 with 9 Axes>"
      ]
     },
     "metadata": {
      "needs_background": "light"
     },
     "output_type": "display_data"
    }
   ],
   "source": [
    "X, y = iter(test_iter).next()\n",
    "true_labels = data.get_fashion_mnist_labels(y.numpy())\n",
    "titles = [lb for lb in true_labels]\n",
    "data.show_fashion_mnist(X[0:9], titles[0:9])"
   ]
  },
  {
   "cell_type": "code",
   "execution_count": 38,
   "metadata": {},
   "outputs": [
    {
     "data": {
      "text/plain": [
       "(235, 40)"
      ]
     },
     "execution_count": 38,
     "metadata": {},
     "output_type": "execute_result"
    }
   ],
   "source": [
    "len(train_iter), len(test_iter)"
   ]
  },
  {
   "cell_type": "code",
   "execution_count": 39,
   "metadata": {},
   "outputs": [
    {
     "data": {
      "text/plain": [
       "(torch.Size([256, 1, 28, 28]), torch.Size([256]))"
      ]
     },
     "execution_count": 39,
     "metadata": {},
     "output_type": "execute_result"
    }
   ],
   "source": [
    "X.shape, y.shape"
   ]
  },
  {
   "cell_type": "markdown",
   "metadata": {},
   "source": [
    "## 定义网络"
   ]
  },
  {
   "cell_type": "code",
   "execution_count": 40,
   "metadata": {},
   "outputs": [],
   "source": [
    "class Flatten(torch.nn.Module): \n",
    "    \"\"\"\n",
    "    把高维特征展平成一维特征。\n",
    "    \"\"\"\n",
    "    def forward(self, x):\n",
    "        return x.view(x.shape[0], -1)"
   ]
  },
  {
   "cell_type": "code",
   "execution_count": 41,
   "metadata": {},
   "outputs": [],
   "source": [
    "class Reshape(torch.nn.Module): \n",
    "    \"\"\"\n",
    "    规范LeNet的输入特征为1x28x28。\n",
    "    \"\"\"\n",
    "    def forward(self, x):\n",
    "        return x.view(-1,1,28,28)"
   ]
  },
  {
   "cell_type": "code",
   "execution_count": 42,
   "metadata": {},
   "outputs": [],
   "source": [
    "net = torch.nn.Sequential(                                                 \n",
    "    Reshape(),\n",
    "    torch.nn.Conv2d(in_channels=1, out_channels=6, kernel_size=5, padding=2),\n",
    "    #b*1*28*28  =>b*6*28*28\n",
    "    torch.nn.Sigmoid(),       \n",
    "    torch.nn.AvgPool2d(kernel_size=2, stride=2),     \n",
    "    #b*6*28*28  =>b*6*14*14\n",
    "    torch.nn.Conv2d(in_channels=6, out_channels=16, kernel_size=5),      \n",
    "    #b*6*14*14  =>b*16*10*10\n",
    "    torch.nn.Sigmoid(),\n",
    "    torch.nn.AvgPool2d(kernel_size=2, stride=2),                              \n",
    "    #b*16*10*10  => b*16*5*5\n",
    "    Flatten(),                                                          \n",
    "    torch.nn.Linear(in_features=16*5*5, out_features=120),\n",
    "    #b*16*5*5   => b*400\n",
    "    torch.nn.Sigmoid(),\n",
    "    torch.nn.Linear(120, 84),\n",
    "    torch.nn.Sigmoid(),\n",
    "    torch.nn.Linear(84, 10)\n",
    ")"
   ]
  },
  {
   "cell_type": "code",
   "execution_count": 43,
   "metadata": {},
   "outputs": [
    {
     "name": "stdout",
     "output_type": "stream",
     "text": [
      "Reshape output shape: \t torch.Size([1, 1, 28, 28])\n",
      "Conv2d output shape: \t torch.Size([1, 6, 28, 28])\n",
      "Sigmoid output shape: \t torch.Size([1, 6, 28, 28])\n",
      "AvgPool2d output shape: \t torch.Size([1, 6, 14, 14])\n",
      "Conv2d output shape: \t torch.Size([1, 16, 10, 10])\n",
      "Sigmoid output shape: \t torch.Size([1, 16, 10, 10])\n",
      "AvgPool2d output shape: \t torch.Size([1, 16, 5, 5])\n",
      "Flatten output shape: \t torch.Size([1, 400])\n",
      "Linear output shape: \t torch.Size([1, 120])\n",
      "Sigmoid output shape: \t torch.Size([1, 120])\n",
      "Linear output shape: \t torch.Size([1, 84])\n",
      "Sigmoid output shape: \t torch.Size([1, 84])\n",
      "Linear output shape: \t torch.Size([1, 10])\n"
     ]
    }
   ],
   "source": [
    "X = torch.randn(size=(1,1,28,28), dtype = torch.float32)\n",
    "for layer in net:\n",
    "    X = layer(X)\n",
    "    print(layer.__class__.__name__,'output shape: \\t',X.shape)"
   ]
  },
  {
   "cell_type": "code",
   "execution_count": 44,
   "metadata": {},
   "outputs": [],
   "source": [
    "def evaluate_accuracy(data_iter, net,device=torch.device('cpu')):\n",
    "    \"\"\"Evaluate accuracy of a model on the given data set.\"\"\"\n",
    "    acc_sum,n = torch.tensor([0],dtype=torch.float32,device=device),0\n",
    "    for X,y in data_iter:\n",
    "        # If device is the GPU, copy the data to the GPU.\n",
    "        X,y = X.to(device),y.to(device)\n",
    "        net.eval()\n",
    "        with torch.no_grad():\n",
    "            y = y.long()\n",
    "            acc_sum += torch.sum((torch.argmax(net(X), dim=1) == y))  #[[0.2 ,0.4 ,0.5 ,0.6 ,0.8] ,[ 0.1,0.2 ,0.4 ,0.3 ,0.1]] => [ 4 , 2 ]\n",
    "            n += y.shape[0]\n",
    "    return acc_sum.item()/n"
   ]
  },
  {
   "cell_type": "code",
   "execution_count": 52,
   "metadata": {},
   "outputs": [],
   "source": [
    "def train_ch5(net, train_iter, test_iter,criterion, num_epochs, batch_size, device,lr=None):\n",
    "    \"\"\"和basic.py中的定义不同。\"\"\"\n",
    "    print('training on', device)\n",
    "    net.to(device)\n",
    "    optimizer = torch.optim.SGD(net.parameters(), lr=lr)\n",
    "    for epoch in range(num_epochs):\n",
    "        train_l_sum = torch.tensor([0.0],dtype=torch.float32,device=device)\n",
    "        train_acc_sum = torch.tensor([0.0],dtype=torch.float32,device=device)\n",
    "        n, start = 0, time.time()\n",
    "        for X, y in train_iter:\n",
    "            net.train()\n",
    "            \n",
    "            optimizer.zero_grad()\n",
    "            X,y = X.to(device),y.to(device) \n",
    "            y_hat = net(X)\n",
    "            loss = criterion(y_hat, y)\n",
    "            loss.backward()\n",
    "            optimizer.step()\n",
    "            \n",
    "            with torch.no_grad():\n",
    "                y = y.long()\n",
    "                train_l_sum += loss.float()\n",
    "                train_acc_sum += (torch.sum((torch.argmax(y_hat, dim=1) == y))).float()\n",
    "                n += y.shape[0]\n",
    "        test_acc = evaluate_accuracy(test_iter, net,device)\n",
    "        print('epoch %d, loss %.4f, train acc %.3f, test acc %.3f, '\n",
    "              'time %.1f sec'\n",
    "              % (epoch + 1, train_l_sum/n, train_acc_sum/n, test_acc,\n",
    "                 time.time() - start))"
   ]
  },
  {
   "cell_type": "code",
   "execution_count": 53,
   "metadata": {},
   "outputs": [
    {
     "name": "stdout",
     "output_type": "stream",
     "text": [
      "training on cuda:0\n",
      "epoch 1, loss 0.0091, train acc 0.103, test acc 0.100, time 5.4 sec\n",
      "epoch 2, loss 0.0077, train acc 0.236, test acc 0.525, time 3.4 sec\n",
      "epoch 3, loss 0.0038, train acc 0.613, test acc 0.630, time 3.4 sec\n",
      "epoch 4, loss 0.0030, train acc 0.702, test acc 0.616, time 3.4 sec\n",
      "epoch 5, loss 0.0026, train acc 0.741, test acc 0.701, time 3.5 sec\n",
      "epoch 6, loss 0.0023, train acc 0.767, test acc 0.776, time 3.3 sec\n",
      "epoch 7, loss 0.0021, train acc 0.790, test acc 0.797, time 3.3 sec\n",
      "epoch 8, loss 0.0020, train acc 0.805, test acc 0.744, time 3.4 sec\n",
      "epoch 9, loss 0.0019, train acc 0.816, test acc 0.808, time 3.3 sec\n",
      "epoch 10, loss 0.0018, train acc 0.827, test acc 0.807, time 3.4 sec\n"
     ]
    }
   ],
   "source": [
    "lr, num_epochs = 0.9, 10\n",
    "\n",
    "def init_weights(m):\n",
    "    if type(m) == torch.nn.Linear or type(m) == torch.nn.Conv2d:\n",
    "        torch.nn.init.xavier_uniform_(m.weight)\n",
    "\n",
    "net.apply(init_weights)\n",
    "net = net.to(device)\n",
    "\n",
    "criterion = torch.nn.CrossEntropyLoss()   #交叉熵描述了两个概率分布之间的距离，交叉熵越小说明两者之间越接近\n",
    "train_ch5(net, train_iter, test_iter, criterion,num_epochs, batch_size,device, lr)"
   ]
  },
  {
   "cell_type": "code",
   "execution_count": 54,
   "metadata": {},
   "outputs": [
    {
     "name": "stdout",
     "output_type": "stream",
     "text": [
      "torch.Size([256, 1, 28, 28]) torch.Size([256])\n",
      "tensor([9, 2, 1, 1, 6, 1, 4, 6, 5, 7], device='cuda:0')\n",
      "tensor([9, 2, 1, 1, 6, 1, 4, 6, 5, 7], device='cuda:0')\n"
     ]
    }
   ],
   "source": [
    "for testdata,testlabe in test_iter:\n",
    "    testdata,testlabe = testdata.to(device),testlabe.to(device)\n",
    "    break\n",
    "print(testdata.shape,testlabe.shape)\n",
    "net.eval()\n",
    "y_pre = net(testdata)\n",
    "print(torch.argmax(y_pre,dim=1)[:10])\n",
    "print(testlabe[:10])"
   ]
  },
  {
   "cell_type": "markdown",
   "metadata": {},
   "source": [
    "# AlexNet：深度卷积神经网络\n",
    "- `torchvision.models.AlexNetDroupout\n",
    "- `torch.nn.Conv2d(in_channels, out_channels, kernel_size, stride=1, padding=0)`\n",
    "- `torch.nn.MaxPool2d(kernel_size, stride=None, padding=0)`\n",
    "- `torch.nn.Linear`\n",
    "- `torch.nn.ReLU`\n",
    "- `torch.nn.Droupout`\n",
    "\n",
    "AlexNet的特征不是设计的，是自动学习的，首次证明了学习到的特征可以超越手工设计的特征。\n",
    "\n",
    "## 制约深度学习发展的两大难题：\n",
    "- 数据集：\n",
    "    1. 包含许多特征的深度模型需要大量的有标签的数据才能表现得比其他经典方法更好，限于早期计算机有限的存储和90年代有限的研究预算，大部分研究只基于小的公开数据集。\n",
    "    2. 2009年诞生的ImageNet数据集（李飞飞）包含了1,000大类物体，每类有多达数千张不同的图像。\n",
    "- 硬件：\n",
    "    1. 深度学习对计算资源要求很高，通用GPU的到来解决了这一问题。很久以来，GPU都是为图像处理和计算机游戏设计的，尤其是针对大吞吐量的矩阵和向量乘法从而服务于基本的图形变换。\n",
    "    2. 用GPU这个概念在2001年开始兴起，涌现出诸如OpenCL和CUDA之类的编程框架。这使得GPU也在2010年前后开始被机器学习社区使用。"
   ]
  },
  {
   "cell_type": "markdown",
   "metadata": {},
   "source": [
    "## 结构\n",
    "AlexNet包含8层变换：\n",
    "- 5个卷积层\n",
    "    1. `11×11Cov2d`+`3×3MaxPool2D`\n",
    "    2. `5×5Cov2d`+`3×MaxPool2D`\n",
    "    3. `3×3`\n",
    "    4. `3×3`\n",
    "    5. `3×3Cov2d`+`3×MaxPool2D`\n",
    "- 2个全连接隐藏层\n",
    "- 1个全连接输出层\n",
    "\n",
    "![AlexNet的结构](https://tangshusen.me/Dive-into-DL-PyTorch/img/chapter05/5.6_alexnet.png)\n",
    "$$\\text{图1 AlexNet的结构}$$\n",
    "\n",
    "## 改进\n",
    "1. 激活函数是`ReLU`；\n",
    "2. 引入了`Dropout`；\n",
    "3. 引入了大量的图像增广，如翻转、裁剪和颜色变化，从而进一步扩大数据集来缓解过拟合。"
   ]
  },
  {
   "cell_type": "code",
   "execution_count": 2,
   "metadata": {},
   "outputs": [],
   "source": [
    "class AlexNet(torch.nn.Module):\n",
    "    def __init__(self):\n",
    "        super(AlexNet, self).__init__()\n",
    "        self.conv = torch.nn.Sequential(\n",
    "            torch.nn.Conv2d(1, 96, 11, 4), \n",
    "            torch.nn.ReLU(),\n",
    "            torch.nn.MaxPool2d(3, 2), \n",
    "            torch.nn.Conv2d(96, 256, 5, 1, 2),\n",
    "            torch.nn.ReLU(),\n",
    "            torch.nn.MaxPool2d(3, 2),\n",
    "            torch.nn.Conv2d(256, 384, 3, 1, 1),\n",
    "            torch.nn.ReLU(),\n",
    "            torch.nn.Conv2d(384, 384, 3, 1, 1),\n",
    "            torch.nn.ReLU(),\n",
    "            torch.nn.Conv2d(384, 256, 3, 1, 1),\n",
    "            torch.nn.ReLU(),\n",
    "            torch.nn.MaxPool2d(3, 2)\n",
    "        )\n",
    "         # 这里全连接层的输出个数比LeNet中的大数倍。使用丢弃层来缓解过拟合\n",
    "        self.fc = torch.nn.Sequential(\n",
    "            torch.nn.Linear(256*5*5, 4096),\n",
    "            torch.nn.ReLU(),\n",
    "            torch.nn.Dropout(0.5),\n",
    "            torch.nn.Linear(4096, 4096),\n",
    "            torch.nn.ReLU(),\n",
    "            torch.nn.Dropout(0.5),\n",
    "            # 输出层。由于这里使用Fashion-MNIST，所以用类别数为10，而非论文中的1000\n",
    "            torch.nn.Linear(4096, 10),\n",
    "        )\n",
    "\n",
    "    def forward(self, img):\n",
    "        feature = self.conv(img)\n",
    "        output = self.fc(feature.view(img.shape[0], -1))\n",
    "        return output"
   ]
  },
  {
   "cell_type": "markdown",
   "metadata": {},
   "source": [
    "# PyTorch的模型API\n",
    "- `Pytorch`和`MXNet`相比，通过API创建模型不需要初始化，但是需要显示指定模型的shape。\n",
    "- `MXNet`的模型参数可以延后初始化，模型参数尺寸根据输入尺寸调整，更加灵活。"
   ]
  },
  {
   "cell_type": "code",
   "execution_count": null,
   "metadata": {},
   "outputs": [],
   "source": []
  },
  {
   "cell_type": "markdown",
   "metadata": {},
   "source": [
    "# VGG：使用重复元素的网络\n",
    "由多个`VGG_BLOCK`组成，每个`VGG_BLOCK`连续使用数个相同的填充为1、窗口形状为 3×3 的卷积层后接上一个步幅为2、窗口形状为 2×2 的最大池化层。卷积层保持输入的高和宽不变，而池化层则对其减半。\n",
    "\n",
    "**AlexNet比LeNet学习能力更强，但是AlexNet没有解决深度学习模型设计的问题。**\n",
    "\n",
    "![VGG的结构](https://staticcdn.boyuai.com/materials/2020/02/15/by2wiwCbEl8N4NbZGQh-9.png!png)"
   ]
  },
  {
   "cell_type": "code",
   "execution_count": null,
   "metadata": {},
   "outputs": [],
   "source": []
  },
  {
   "cell_type": "markdown",
   "metadata": {},
   "source": [
    "# NiN：网络中的网络\n",
    "- LeNet、AlexNet和VGG：先以由卷积层构成的模块充分抽取 空间特征，再以由全连接层构成的模块来输出分类结果。\n",
    "\n",
    "- NiN：串联多个由卷积层和“全连接”层构成的小⽹络来构建⼀个深层⽹络。NiN去掉了AlexNet最后的3个全连接层，取而代之地，NiN使用了输出通道数等于标签类别数的NiN块，然后使用全局平均池化层对每个通道中所有元素求平均并直接用于分类。**这个设计的好处是可以显著减小模型参数尺寸，从而缓解过拟合。然而，该设计有时会造成获得有效模型的训练时间的增加。**\n",
    "\n",
    "![NiN网络结构](https://staticcdn.boyuai.com/materials/2020/02/15/EnnR73QZiJHhMLQlLrNgL.png!png)"
   ]
  },
  {
   "cell_type": "code",
   "execution_count": null,
   "metadata": {},
   "outputs": [],
   "source": []
  },
  {
   "cell_type": "markdown",
   "metadata": {},
   "source": [
    "# GoogleNet：并行的网络\n",
    "## Inception块\n",
    "![Inception块](http://zh.gluon.ai/_images/inception.svg)\n",
    "\n",
    "4条线路通过Padding确保结构一致。"
   ]
  },
  {
   "cell_type": "code",
   "execution_count": null,
   "metadata": {},
   "outputs": [],
   "source": []
  },
  {
   "cell_type": "markdown",
   "metadata": {},
   "source": [
    "## GoogleNet结构\n",
    "![GoogleNet结构](https://staticcdn.boyuai.com/materials/2020/02/15/MUadJ3t0BoML0xJ-IR-SZ.png!png)\n",
    "\n",
    "- Inception块相当于一个有4条线路的子网络。它通过不同窗口形状的卷积层和最大池化层来并行抽取信息，并使用 1×1 卷积层减少通道数从而降低模型复杂度。\n",
    "- GoogLeNet将多个设计精细的Inception块和其他层串联起来。其中Inception块的通道数分配之比是在ImageNet数据集上通过大量的实验得来的。\n",
    "- GoogLeNet和它的后继者们一度是ImageNet上最高效的模型之一：在类似的测试精度下，它们的计算复杂度往往更低。"
   ]
  },
  {
   "cell_type": "code",
   "execution_count": null,
   "metadata": {},
   "outputs": [],
   "source": []
  }
 ],
 "metadata": {
  "kernelspec": {
   "display_name": "Python 3",
   "language": "python",
   "name": "python3"
  },
  "language_info": {
   "codemirror_mode": {
    "name": "ipython",
    "version": 3
   },
   "file_extension": ".py",
   "mimetype": "text/x-python",
   "name": "python",
   "nbconvert_exporter": "python",
   "pygments_lexer": "ipython3",
   "version": "3.7.3"
  },
  "toc": {
   "base_numbering": 1,
   "nav_menu": {},
   "number_sections": true,
   "sideBar": true,
   "skip_h1_title": false,
   "title_cell": "Table of Contents",
   "title_sidebar": "Contents",
   "toc_cell": false,
   "toc_position": {
    "height": "calc(100% - 180px)",
    "left": "10px",
    "top": "150px",
    "width": "279.273px"
   },
   "toc_section_display": true,
   "toc_window_display": true
  }
 },
 "nbformat": 4,
 "nbformat_minor": 2
}
