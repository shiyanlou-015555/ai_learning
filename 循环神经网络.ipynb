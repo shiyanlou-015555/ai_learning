{
 "cells": [
  {
   "cell_type": "markdown",
   "metadata": {},
   "source": [
    "# 导包"
   ]
  },
  {
   "cell_type": "code",
   "execution_count": 1,
   "metadata": {},
   "outputs": [],
   "source": [
    "import torch\n",
    "import torchvision\n",
    "import torch.nn\n",
    "import torch.nn.init\n",
    "import torch.utils.data as data\n",
    "# print(torch.__version__)\n",
    "# print(torchvision.__version__)\n",
    "# print(torch.cuda.is_available())\n",
    "import numpy as np\n",
    "import random\n",
    "import time\n",
    "import math"
   ]
  },
  {
   "cell_type": "code",
   "execution_count": 2,
   "metadata": {},
   "outputs": [],
   "source": [
    "import basic\n",
    "import data\n",
    "import nlp"
   ]
  },
  {
   "cell_type": "code",
   "execution_count": 3,
   "metadata": {},
   "outputs": [],
   "source": [
    "device = torch.device('cuda' if torch.cuda.is_available() else 'cpu')"
   ]
  },
  {
   "cell_type": "code",
   "execution_count": 4,
   "metadata": {},
   "outputs": [],
   "source": [
    "(corpus_indices, char_to_idx, idx_to_char, vocab_size) = data.load_data_jay_lyrics()"
   ]
  },
  {
   "cell_type": "markdown",
   "metadata": {},
   "source": [
    "# RNN\n",
    "![RNN结构示例](http://zh.gluon.ai/_images/rnn-train.svg)"
   ]
  },
  {
   "cell_type": "code",
   "execution_count": 5,
   "metadata": {},
   "outputs": [],
   "source": [
    "def one_hot(x, n_class, dtype=torch.float32):\n",
    "    \"\"\"\n",
    "    对一维特征进行独热编码。\n",
    "\n",
    "    :param x:类别标签向量（batch_size,1）或者（batch_size,）\n",
    "    :param n_class:类别数量\n",
    "    :param dtype:\n",
    "    :return:独热编码矩阵（batch_size, n_class)\n",
    "    \"\"\"\n",
    "    x = x.long()\n",
    "    res = torch.zeros(x.shape[0], n_class, dtype=dtype, device=x.device)\n",
    "    res.scatter_(1, x.view(-1, 1), 1)\n",
    "    return res"
   ]
  },
  {
   "cell_type": "code",
   "execution_count": 6,
   "metadata": {},
   "outputs": [],
   "source": [
    "x = torch.tensor([0, 2])\n",
    "xx = one_hot(x, 10)"
   ]
  },
  {
   "cell_type": "code",
   "execution_count": 7,
   "metadata": {},
   "outputs": [
    {
     "data": {
      "text/plain": [
       "(torch.Size([2]), torch.Size([2, 10]))"
      ]
     },
     "execution_count": 7,
     "metadata": {},
     "output_type": "execute_result"
    }
   ],
   "source": [
    "x.shape, xx.shape"
   ]
  },
  {
   "cell_type": "code",
   "execution_count": 8,
   "metadata": {},
   "outputs": [],
   "source": [
    "def to_onehot(X, n_class):\n",
    "    \"\"\"\n",
    "    对时间序列数据进行独热编码，可以作为RNN模型的输入。\n",
    "\n",
    "    :param X: 采样后的时序数据，(batch, seq_len)。\n",
    "    :param n_class: 类别数量。\n",
    "    :return: seq_len elements of (batch, n_class)\n",
    "    \"\"\"\n",
    "    return [one_hot(X[:, i], n_class) for i in range(X.shape[1])]"
   ]
  },
  {
   "cell_type": "code",
   "execution_count": 9,
   "metadata": {},
   "outputs": [
    {
     "name": "stdout",
     "output_type": "stream",
     "text": [
      "5 torch.Size([2, 1027])\n"
     ]
    }
   ],
   "source": [
    "X = torch.arange(10).view(2, 5)\n",
    "inputs = to_onehot(X, vocab_size)\n",
    "print(len(inputs), inputs[0].shape)"
   ]
  },
  {
   "cell_type": "markdown",
   "metadata": {},
   "source": [
    "## 初始化\n",
    "$${H}_t = \\phi({X}_t {W}_{xh} + {H}_{t-1} {W}_{hh}  + {b}_h)$$"
   ]
  },
  {
   "cell_type": "markdown",
   "metadata": {},
   "source": [
    "## 模型参数"
   ]
  },
  {
   "cell_type": "code",
   "execution_count": 10,
   "metadata": {},
   "outputs": [],
   "source": [
    "num_inputs, num_hiddens, num_outputs = vocab_size, 256, vocab_size"
   ]
  },
  {
   "cell_type": "code",
   "execution_count": 11,
   "metadata": {},
   "outputs": [],
   "source": [
    "def get_params(num_inputs, num_hiddens, num_outputs):\n",
    "    \"\"\"\n",
    "    初始化深RNN的模型参数。\n",
    "\n",
    "    :param num_inputs:输入特征数量。\n",
    "    :param num_hiddens: 隐藏状态特征数量。\n",
    "    :param num_outputs: 输出特征数量\n",
    "    :return:\n",
    "    \"\"\"\n",
    "    def _one(shape):\n",
    "        ts = torch.tensor(np.random.normal(0, 0.01, size=shape), device=device, dtype=torch.float32)\n",
    "        return torch.nn.Parameter(ts, requires_grad=True)\n",
    "    W_xh = _one((num_inputs, num_hiddens))\n",
    "    W_hh = _one((num_hiddens, num_hiddens))\n",
    "    b_h = torch.nn.Parameter(torch.zeros(num_hiddens, device=device, requires_grad=True))\n",
    "    W_hq = _one((num_hiddens, num_outputs))\n",
    "    b_q = torch.nn.Parameter(torch.zeros(num_outputs, device=device, requires_grad=True))\n",
    "    return torch.nn.ParameterList([W_xh, W_hh, b_h, W_hq, b_q])"
   ]
  },
  {
   "cell_type": "markdown",
   "metadata": {},
   "source": [
    "## 初始隐藏状态"
   ]
  },
  {
   "cell_type": "code",
   "execution_count": 12,
   "metadata": {},
   "outputs": [],
   "source": [
    "def init_rnn_state(batch_size, num_hiddens, device):\n",
    "    return torch.zeros((batch_size, num_hiddens), device=device),"
   ]
  },
  {
   "cell_type": "markdown",
   "metadata": {},
   "source": [
    "## 定义模型"
   ]
  },
  {
   "cell_type": "code",
   "execution_count": 13,
   "metadata": {},
   "outputs": [],
   "source": [
    "def rnn(inputs, state, params):\n",
    "    \"\"\"\n",
    "    RNN网络前向步进运算。\n",
    "\n",
    "    :param inputs: num_steps个形状为(batch_size, vocab_size)。\n",
    "    :param state: 模型隐藏状态的初始值。\n",
    "    :param params: RNN网络参数，W_xh, W_hh, b_h, W_hq, b_q。\n",
    "    :return: num_steps个形状为(batch_size, vocab_size)\n",
    "    \"\"\"\n",
    "    # inputs和outputs皆为num_steps个形状为(batch_size, vocab_size)的矩阵\n",
    "    W_xh, W_hh, b_h, W_hq, b_q = params\n",
    "    H, = state\n",
    "    outputs = []\n",
    "    for X in inputs:\n",
    "#         print(H.shape, X.shape, W_xh.shape, H.shape, W_hh.shape, b_h.shape)\n",
    "        H = torch.tanh(torch.matmul(X, W_xh) + torch.matmul(H, W_hh) + b_h)\n",
    "        Y = torch.matmul(H, W_hq) + b_q\n",
    "        outputs.append(Y)\n",
    "    return outputs, (H,)"
   ]
  },
  {
   "cell_type": "code",
   "execution_count": 14,
   "metadata": {},
   "outputs": [],
   "source": [
    "state = init_rnn_state(X.shape[0], num_hiddens, device)\n",
    "inputs = to_onehot(X.to(device), vocab_size)\n",
    "params = get_params(num_inputs, num_hiddens, num_outputs)"
   ]
  },
  {
   "cell_type": "code",
   "execution_count": 15,
   "metadata": {},
   "outputs": [
    {
     "data": {
      "text/plain": [
       "ParameterList(\n",
       "    (0): Parameter containing: [torch.cuda.FloatTensor of size 1027x256 (GPU 0)]\n",
       "    (1): Parameter containing: [torch.cuda.FloatTensor of size 256x256 (GPU 0)]\n",
       "    (2): Parameter containing: [torch.cuda.FloatTensor of size 256 (GPU 0)]\n",
       "    (3): Parameter containing: [torch.cuda.FloatTensor of size 256x1027 (GPU 0)]\n",
       "    (4): Parameter containing: [torch.cuda.FloatTensor of size 1027 (GPU 0)]\n",
       ")"
      ]
     },
     "execution_count": 15,
     "metadata": {},
     "output_type": "execute_result"
    }
   ],
   "source": [
    "params"
   ]
  },
  {
   "cell_type": "code",
   "execution_count": 16,
   "metadata": {},
   "outputs": [
    {
     "name": "stdout",
     "output_type": "stream",
     "text": [
      "5 torch.Size([2, 1027]) torch.Size([2, 256])\n"
     ]
    }
   ],
   "source": [
    "outputs, state_new = rnn(inputs, state, params)\n",
    "print(len(outputs), outputs[0].shape, state_new[0].shape) "
   ]
  },
  {
   "cell_type": "markdown",
   "metadata": {},
   "source": [
    "## 定义预测函数\n",
    "训练时和应用时的`batch_size`、`step_nums`可以不一样。"
   ]
  },
  {
   "cell_type": "code",
   "execution_count": 17,
   "metadata": {},
   "outputs": [],
   "source": [
    "def predict_rnn(prefix, num_chars, rnn, params, init_rnn_state,\n",
    "                num_hiddens, vocab_size, device, idx_to_char, char_to_idx):\n",
    "    \"\"\"\n",
    "    基于RNN模型继续补全句子，一次输入一个字符，预测一个字符，因此batch_size=1，step_num=1。\n",
    "\n",
    "    :param prefix: 起始输入序列，未预处理。\n",
    "    :param num_chars: 预测长度。\n",
    "    :param rnn: RNN模型。\n",
    "    :param params: RNN模型参数。\n",
    "    :param init_rnn_state: 模型隐藏层初始状态。\n",
    "    :param num_hiddens: 隐藏单元数量。\n",
    "    :param vocab_size: 语料库大小。\n",
    "    :param device: GPU/CPU。\n",
    "    :param idx_to_char: list。\n",
    "    :param char_to_idx: dict。\n",
    "    :return: 输出序列。\n",
    "    \"\"\"\n",
    "    state = init_rnn_state(1, num_hiddens, device)\n",
    "    output = [char_to_idx[prefix[0]]]\n",
    "    for t in range(num_chars + len(prefix) - 1):\n",
    "        # X是step_nums个(batch, n_class)组成的列表。\n",
    "        X = to_onehot(torch.tensor([[output[-1]]], device=device), vocab_size)\n",
    "        (Y, state) = rnn(X, state, params)\n",
    "        # 下一个时间步的输入是prefix里的字符或者当前的最佳预测字符\n",
    "        if t < len(prefix) - 1:\n",
    "            output.append(char_to_idx[prefix[t + 1]])\n",
    "        else:\n",
    "            output.append(int(Y[0].argmax(dim=1).item()))\n",
    "    return ''.join([idx_to_char[i] for i in output])"
   ]
  },
  {
   "cell_type": "code",
   "execution_count": 18,
   "metadata": {},
   "outputs": [
    {
     "data": {
      "text/plain": [
       "'分开弥怀方柳有纳甩缘辛状'"
      ]
     },
     "execution_count": 18,
     "metadata": {},
     "output_type": "execute_result"
    }
   ],
   "source": [
    "predict_rnn('分开', 10, rnn, params, init_rnn_state, num_hiddens, vocab_size,\n",
    "            device, idx_to_char, char_to_idx)"
   ]
  },
  {
   "cell_type": "markdown",
   "metadata": {},
   "source": [
    "## 梯度裁剪\n",
    "RNN容易出现梯度衰减或者梯度爆炸,梯度裁剪可以应对梯度爆炸。\n",
    "\n",
    "1. 求所有的模型参数梯度的范数\n",
    "2. 检测范数是否超过阈值\n",
    "3. 归一化到小于阈值theta\n",
    "\n",
    "$$\n",
    " \\min\\left(\\frac{\\theta}{\\|{g}\\|}, 1\\right){g}\n",
    "$$"
   ]
  },
  {
   "cell_type": "code",
   "execution_count": 19,
   "metadata": {},
   "outputs": [],
   "source": [
    "def grad_clipping(params, theta, device):\n",
    "    \"\"\"\n",
    "    梯度裁剪，对所有的模型参数一起裁剪。\n",
    "\n",
    "    :param params: 模型参数。\n",
    "    :param theta: 阈值。\n",
    "    :param device: CPU/GPU。\n",
    "    :return: 裁剪后的模型参数。\n",
    "    \"\"\"\n",
    "    norm = torch.tensor([0.0], device=device)\n",
    "    for param in params:\n",
    "        norm += (param.grad.data ** 2).sum()\n",
    "    norm = norm.sqrt().item()\n",
    "    if norm > theta:\n",
    "        for param in params:\n",
    "            param.grad.data *= (theta / norm)"
   ]
  },
  {
   "cell_type": "markdown",
   "metadata": {},
   "source": [
    "## 困惑度\n",
    "\n",
    "困惑度是对交叉熵损失函数做指数运算后得到的值。\n",
    "\n",
    "- 最佳情况下，模型总是把标签类别的概率预测为1，此时困惑度为1；\n",
    "- 最坏情况下，模型总是把标签类别的概率预测为0，此时困惑度为正无穷；\n",
    "- 基线情况下，模型总是预测所有类别的概率都相同，此时困惑度为类别个数。\n",
    "- 任何一个有效模型的困惑度必须小于类别个数。在本例中，困惑度必须小于词典大小vocab_size。"
   ]
  },
  {
   "cell_type": "markdown",
   "metadata": {},
   "source": [
    "## 训练模型\n",
    "RNN自动作词。\n",
    "\n",
    "- 用困惑度评价模型，评价指标与损失函数不同，本初损失函数仍然是交叉熵。\n",
    "- 在迭代模型参数前裁剪梯度；\n",
    "- 不同的采样方法会导致不同的隐藏状态初始化。\n",
    "    - 相邻采样在epoch开始时初始化隐藏状态\n",
    "    - 随机采样在每个小批量更新前初始化隐藏状态\n",
    "- 相邻采样为了避免模型参数的梯度多次计算，梯度计算开销太大，使用detach函数从计算图分离隐藏状态。"
   ]
  },
  {
   "cell_type": "code",
   "execution_count": 20,
   "metadata": {},
   "outputs": [],
   "source": [
    "def train_and_predict_rnn(rnn, get_params, init_rnn_state, num_hiddens,\n",
    "                          vocab_size, device, corpus_indices, idx_to_char,\n",
    "                          char_to_idx, is_random_iter, num_epochs, num_steps,\n",
    "                          lr, clipping_theta, batch_size, pred_period,\n",
    "                          pred_len, prefixes):\n",
    "    \"\"\"\n",
    "    RNN模型的训练和预测，RNN模型训练和应用时的batch_size，step_nums不一样。\n",
    "    应用时batch_size=1，step_nums=1。\n",
    "\n",
    "    :param rnn: RNN模型。\n",
    "    :param get_params: 模型参数。\n",
    "    :param init_rnn_state: 隐藏层初始状态。\n",
    "    :param num_hiddens: 隐藏状态特征数量。\n",
    "    :param vocab_size: 语料库大小。\n",
    "    :param device: CPU/GPU。\n",
    "    :param corpus_indices: 时序数据列表。\n",
    "    :param idx_to_char: list。\n",
    "    :param char_to_idx: dict。\n",
    "    :param is_random_iter: 随机采样/相邻采样。\n",
    "    :param num_epochs:\n",
    "    :param num_steps: 时间步长=1。\n",
    "    :param lr: 学习率。\n",
    "    :param clipping_theta: 梯度裁剪阈值。\n",
    "    :param batch_size: 批大小。\n",
    "    :param pred_period: 预测的epochs间隔。\n",
    "    :param pred_len: 预测长度。\n",
    "    :param prefixes: 提词。\n",
    "    :return: None\n",
    "    \"\"\"\n",
    "    if is_random_iter:\n",
    "        data_iter_fn = nlp.data_iter_random\n",
    "    else:\n",
    "        data_iter_fn = nlp.data_iter_consecutive\n",
    "    params = get_params(num_inputs, num_hiddens, num_outputs)\n",
    "    loss = torch.nn.CrossEntropyLoss()\n",
    "\n",
    "    count = 0\n",
    "    for epoch in range(num_epochs):\n",
    "        if not is_random_iter:  # 如使用相邻采样，在epoch开始时初始化隐藏状态\n",
    "            state = init_rnn_state(batch_size, num_hiddens, device)\n",
    "        l_sum, n, start = 0.0, 0, time.time()\n",
    "        data_iter = data_iter_fn(corpus_indices, batch_size, num_steps, device)\n",
    "        for X, Y in data_iter:\n",
    "            if is_random_iter:  # 如使用随机采样，在每个小批量更新前初始化隐藏状态\n",
    "                state = init_rnn_state(batch_size, num_hiddens, device)\n",
    "            else:\n",
    "            # 否则需要使用detach函数从计算图分离隐藏状态, 这是为了使模型参数\n",
    "            # 的梯度计算只依赖一次迭代读取的小批量序列(防止梯度计算开销太大)\n",
    "                for s in state:\n",
    "                    s.detach_()\n",
    "\n",
    "            inputs = to_onehot(X, vocab_size)\n",
    "            # outputs有num_steps个形状为(batch_size, vocab_size)的矩阵\n",
    "            \"print(count,len(inputs),inputs[0].shape)\"\n",
    "            count += 1\n",
    "            (outputs, state) = rnn(inputs, state, params)\n",
    "            # 拼接之后形状为(num_steps * batch_size, vocab_size)\n",
    "            outputs = torch.cat(outputs, dim=0)\n",
    "            # Y的形状是(batch_size, num_steps)，转置后再变成长度为\n",
    "            # num_steps*batch 的向量，这样跟输出的行一一对应\n",
    "            y = torch.transpose(Y, 0, 1).contiguous().view(-1)\n",
    "            # 使用交叉熵损失计算平均分类误差\n",
    "\n",
    "            l = loss(outputs, y.long())\n",
    "            # 梯度清0\n",
    "            if params[0].grad is not None:\n",
    "                for param in params:\n",
    "                    param.grad.data.zero_()\n",
    "            l.backward()\n",
    "            grad_clipping(params, clipping_theta, device)  # 裁剪梯度\n",
    "            basic.sgd(params, lr, 1)  # 因为误差已经取过均值，梯度不用再做平均\n",
    "\n",
    "            l_sum += l.item() * y.shape[0]\n",
    "            n += y.shape[0]\n",
    "\n",
    "        if (epoch + 1) % pred_period == 0:\n",
    "            print('epoch %d, perplexity %f, time %.2f sec' % (epoch + 1, math.exp(l_sum / n), time.time() - start))\n",
    "            for prefix in prefixes:\n",
    "                print(' -', predict_rnn(prefix, pred_len, rnn, params, init_rnn_state,\n",
    "                    num_hiddens, vocab_size, device, idx_to_char, char_to_idx))"
   ]
  },
  {
   "cell_type": "markdown",
   "metadata": {},
   "source": [
    "## 运用模型预测"
   ]
  },
  {
   "cell_type": "code",
   "execution_count": 21,
   "metadata": {},
   "outputs": [],
   "source": [
    "(corpus_indices, char_to_idx, idx_to_char, vocab_size) = data.load_data_jay_lyrics()\n",
    "num_inputs, num_hiddens, num_outputs = vocab_size, 256, vocab_size\n",
    "num_epochs, num_steps, batch_size, lr, clipping_theta = 250, 35, 32, 1e2, 1e-2\n",
    "pred_period, pred_len, prefixes = 50, 50, ['分开', '不分开']"
   ]
  },
  {
   "cell_type": "code",
   "execution_count": 22,
   "metadata": {},
   "outputs": [
    {
     "name": "stdout",
     "output_type": "stream",
     "text": [
      "epoch 50, perplexity 64.002263, time 0.27 sec\n",
      " - 分开 我想你的可爱女人的透 我不要这爱 我不要再不 我不能你不 我不能你不 我不能你不 我不能你不 我不\n",
      " - 不分开 我想你的可爱女人 坏坏的让我疯狂的可爱女人 坏坏的让我疯狂的可爱女人 坏坏的让我疯狂的可爱女人 坏\n",
      "epoch 100, perplexity 7.647359, time 0.29 sec\n",
      " - 分开 一颗在 旧颗她颗停留 所有人 瞎不了 什么都有  如一直热昏 一人在人不的公瓣还 我有著这 你小村\n",
      " - 不分开觉 你 在直胸口 快果我有轻功 飞檐走壁 为人用双截棍 哼哼哈兮 快使用双截棍 哼哼哈兮 快使用双截\n",
      "epoch 150, perplexity 2.122625, time 0.27 sec\n",
      " - 分开 小养我 说你就那手 巫师 他念里 干词的 像酋长暴诅咒  我穿了其 我想在你熬 你不人事抽离 如果\n",
      " - 不分开觉 你已经离开我 不知不觉 我跟了这节奏 后知后觉 又过了一个秋 后知后觉 我该好好生活 我该好好生\n",
      "epoch 200, perplexity 1.303054, time 0.30 sec\n",
      " - 分开 小候我 谁是我 难你的河面的我 别子抖我满腔的怒火鸠 平愿像猫的狗 印地安老斑鸠 平常话不多 除非\n",
      " - 不分开觉 你已经离开我 不知不觉 我跟了这节奏 后知后觉 又过了一个秋 后知后觉 我该好好生活 我该好好生\n",
      "epoch 250, perplexity 1.162407, time 0.28 sec\n",
      " - 分开 问候我 在是神枪手 巫师 他念念 有词的 对酋长下诅咒 还我骷髅头 这故事 告诉我 印地安的传说 \n",
      " - 不分开觉 你已经离是我 不知不觉 我跟了这节奏 后知后觉 又知了一个秋 后知后觉 我该好好生活 我该好好生\n"
     ]
    }
   ],
   "source": [
    "train_and_predict_rnn(rnn, get_params, init_rnn_state, num_hiddens,\n",
    "                      vocab_size, device, corpus_indices, idx_to_char,\n",
    "                      char_to_idx, False, num_epochs, num_steps, lr,\n",
    "                      clipping_theta, batch_size, pred_period, pred_len,\n",
    "                      prefixes)"
   ]
  },
  {
   "cell_type": "code",
   "execution_count": 23,
   "metadata": {},
   "outputs": [
    {
     "name": "stdout",
     "output_type": "stream",
     "text": [
      "epoch 50, perplexity 65.364724, time 0.27 sec\n",
      " - 分开 我不要再想你 我爱你这 你你的外 在谁了外 你的让空 我不定 别怪我 一子四 一颗两 三颗四 一颗\n",
      " - 不分开 爱你的让我疯疼的可爱女人 坏坏的让我疯狂的可爱女人 坏坏的让我疯狂的可爱女人 坏坏的让我疯狂的可爱\n",
      "epoch 100, perplexity 9.997386, time 0.27 sec\n",
      " - 分开 一直两步三 四步盘 旧皮空 装颗四三信过的 干什么 干什么 干颗四三都过的 干什么 干什么 干颗四\n",
      " - 不分开吗 我不能再想 我不 我不 我不要再想 我不 我不 我不要再想 我不 我不 我不要再想 我不 我不 \n",
      "epoch 150, perplexity 2.841305, time 0.28 sec\n",
      " - 分开 一直两步三步 篮管毛不多 除非是人难过 它伤妙 娘子她人在江南等望著天 看星星 一颗两颗三颗四颗 \n",
      " - 不分开吗 我不能再 你打我外 这样耿直 你有没用 恨一场空 不敢不同 你一场空 说一不中 你一场 废么走囱\n",
      "epoch 200, perplexity 1.592905, time 0.28 sec\n",
      " - 分开 那想就开乡打的雨 随时准备重袭让我的道 相地的色斑人 我狠狠忘国 你是三我的证据 让晶莹的泪滴 闪\n",
      " - 不分开期 然后将过去 慢慢温习 温暖完外屋 白色蜡烛 温暖了空屋 白色蜡烛 温暖了空屋 白色蜡烛 温暖了空\n",
      "epoch 250, perplexity 1.314217, time 0.28 sec\n",
      " - 分开 一直都是 大的完两 每你跟同 你给没空 你都没空 说我不懂 说了再用 他的笑容 过我不懂 说一场用\n",
      " - 不分开扫 然后将过去 慢慢温习 让我爱上你 那场悲剧 是你完美演出的一场戏 宁愿心碎哭泣 再狠狠忘记 你爱\n"
     ]
    }
   ],
   "source": [
    "train_and_predict_rnn(rnn, get_params, init_rnn_state, num_hiddens,\n",
    "                      vocab_size, device, corpus_indices, idx_to_char,\n",
    "                      char_to_idx, True, num_epochs, num_steps, lr,\n",
    "                      clipping_theta, batch_size, pred_period, pred_len,\n",
    "                      prefixes)"
   ]
  },
  {
   "cell_type": "markdown",
   "metadata": {},
   "source": [
    "# GRU"
   ]
  },
  {
   "cell_type": "markdown",
   "metadata": {},
   "source": [
    "# LSTM"
   ]
  },
  {
   "cell_type": "code",
   "execution_count": null,
   "metadata": {},
   "outputs": [],
   "source": []
  },
  {
   "cell_type": "code",
   "execution_count": null,
   "metadata": {},
   "outputs": [],
   "source": []
  }
 ],
 "metadata": {
  "kernelspec": {
   "display_name": "Python 3",
   "language": "python",
   "name": "python3"
  },
  "language_info": {
   "codemirror_mode": {
    "name": "ipython",
    "version": 3
   },
   "file_extension": ".py",
   "mimetype": "text/x-python",
   "name": "python",
   "nbconvert_exporter": "python",
   "pygments_lexer": "ipython3",
   "version": "3.7.4"
  },
  "toc": {
   "base_numbering": 1,
   "nav_menu": {},
   "number_sections": true,
   "sideBar": true,
   "skip_h1_title": false,
   "title_cell": "Table of Contents",
   "title_sidebar": "Contents",
   "toc_cell": false,
   "toc_position": {
    "height": "calc(100% - 180px)",
    "left": "10px",
    "top": "150px",
    "width": "255.865px"
   },
   "toc_section_display": true,
   "toc_window_display": true
  }
 },
 "nbformat": 4,
 "nbformat_minor": 2
}
