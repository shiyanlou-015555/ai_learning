{
 "cells": [
  {
   "cell_type": "markdown",
   "metadata": {},
   "source": [
    "# 导包"
   ]
  },
  {
   "cell_type": "code",
   "execution_count": 1,
   "metadata": {},
   "outputs": [
    {
     "name": "stdout",
     "output_type": "stream",
     "text": [
      "1.4.0\n",
      "0.5.0\n",
      "True\n"
     ]
    }
   ],
   "source": [
    "import torch\n",
    "import torchvision\n",
    "import torch.nn\n",
    "import torch.nn.init\n",
    "import torch.utils.data as data\n",
    "print(torch.__version__)\n",
    "print(torchvision.__version__)\n",
    "print(torch.cuda.is_available())\n",
    "import matplotlib.pyplot as plt\n",
    "from IPython import display\n",
    "import numpy as np\n",
    "import random"
   ]
  },
  {
   "cell_type": "code",
   "execution_count": 2,
   "metadata": {},
   "outputs": [],
   "source": [
    "import basic\n",
    "import data"
   ]
  },
  {
   "cell_type": "markdown",
   "metadata": {},
   "source": [
    "# 过拟合、欠拟合\n",
    "## 基本概念\n",
    "- 欠拟合：模型无法得到较低的训练误差；\n",
    "- 过拟合：模型在训练集上的误差远小于其在测试数据集的误差；\n",
    "\n",
    "### 数据集划分\n",
    "- 训练集：用于模型自主学习其参数\n",
    "- 验证集：用于模型选择\n",
    "- 测试集\n",
    "\n",
    "训练数据不够时，可用K折交叉验证。"
   ]
  },
  {
   "cell_type": "markdown",
   "metadata": {},
   "source": [
    "### 半对数作图工具函数"
   ]
  },
  {
   "cell_type": "code",
   "execution_count": 3,
   "metadata": {},
   "outputs": [],
   "source": [
    "def semilogy(x_vals, y_vals, x_label, y_label, x2_vals=None, y2_vals=None, legend=None, figsize=(3.5, 2.5)):\n",
    "    \"\"\"\n",
    "    x_vals, y_vals, x_label, y_labe可迭代。\n",
    "    \"\"\"\n",
    "    plt.rcParams[\"figure.figsize\"] = figsize\n",
    "    plt.xlabel(x_label)\n",
    "    plt.ylabel(y_label)\n",
    "    plt.semilogy(x_vals, y_vals)\n",
    "    if x2_vals and y2_vals:\n",
    "        plt.semilogy(x2_vals, y2_vals, linestyle=':')\n",
    "        plt.legend(legend)"
   ]
  },
  {
   "cell_type": "markdown",
   "metadata": {},
   "source": [
    "## 过拟合、欠拟合的影响因素\n",
    "1. 模型复杂程度\n",
    "2. 训练数据集大小"
   ]
  },
  {
   "cell_type": "code",
   "execution_count": 4,
   "metadata": {},
   "outputs": [],
   "source": [
    "num_epochs = 10 # 此处应设为100"
   ]
  },
  {
   "cell_type": "code",
   "execution_count": 5,
   "metadata": {},
   "outputs": [],
   "source": [
    "def fit_and_plot(train_features, test_features, train_labels, test_labels):\n",
    "    dataset = torch.utils.data.TensorDataset(train_features, train_labels)      \n",
    "    batch_size = min(10, train_labels.shape[0])    \n",
    "    train_iter = torch.utils.data.DataLoader(dataset, batch_size, shuffle=True, num_workers=4) \n",
    "    \n",
    "    net = torch.nn.Linear(train_features.shape[-1], 1)\n",
    "    loss = torch.nn.MSELoss()\n",
    "    optimizer = torch.optim.SGD(net.parameters(), lr=0.01)\n",
    "    \n",
    "    train_ls, test_ls = [], []\n",
    "    for _ in range(num_epochs):\n",
    "        for X, y in train_iter:                                                \n",
    "            l = loss(net(X), y.view(-1, 1))   # sum可加可不加\n",
    "            optimizer.zero_grad()                                          \n",
    "            l.backward()                                                    \n",
    "            optimizer.step()                \n",
    "            \n",
    "        train_labels = train_labels.view(-1, 1)\n",
    "        test_labels = test_labels.view(-1, 1)\n",
    "        train_ls.append(loss(net(train_features), train_labels).item())        \n",
    "        test_ls.append(loss(net(test_features), test_labels).item())          \n",
    "    print('final epoch: train loss', train_ls[-1], 'test loss', test_ls[-1])    \n",
    "    semilogy(range(1, num_epochs + 1), train_ls, 'epochs', 'loss', range(1, num_epochs + 1), test_ls, ['train', 'test'])\n",
    "    print('weight:', net.weight.data, '\\nbias:', net.bias.data)"
   ]
  },
  {
   "cell_type": "markdown",
   "metadata": {},
   "source": [
    "### 多项式函数拟合实验\n",
    "$$y = 1.2x - 3.4x^2 + 5.6x^3 + 5 + \\epsilon,$$"
   ]
  },
  {
   "cell_type": "code",
   "execution_count": 6,
   "metadata": {},
   "outputs": [],
   "source": [
    "n_train, n_test, true_w, true_b = 100, 100, [1.2, -3.4, 5.6], 5\n",
    "features = torch.randn((n_train + n_test, 1))"
   ]
  },
  {
   "cell_type": "code",
   "execution_count": 7,
   "metadata": {},
   "outputs": [
    {
     "data": {
      "text/plain": [
       "torch.Size([200, 3])"
      ]
     },
     "execution_count": 7,
     "metadata": {},
     "output_type": "execute_result"
    }
   ],
   "source": [
    "poly_features = torch.cat((features, torch.pow(features, 2), torch.pow(features, 3)), 1) \n",
    "poly_features.shape"
   ]
  },
  {
   "cell_type": "code",
   "execution_count": 8,
   "metadata": {},
   "outputs": [
    {
     "data": {
      "text/plain": [
       "torch.Size([200])"
      ]
     },
     "execution_count": 8,
     "metadata": {},
     "output_type": "execute_result"
    }
   ],
   "source": [
    "labels = (true_w[0] * poly_features[:, 0] + true_w[1] * poly_features[:, 1] + true_w[2] * poly_features[:, 2] + true_b)\n",
    "labels.shape"
   ]
  },
  {
   "cell_type": "markdown",
   "metadata": {},
   "source": [
    "### 模型复杂度"
   ]
  },
  {
   "cell_type": "code",
   "execution_count": 9,
   "metadata": {},
   "outputs": [
    {
     "name": "stdout",
     "output_type": "stream",
     "text": [
      "final epoch: train loss 2.7304091453552246 test loss 3.825640916824341\n",
      "weight: tensor([[ 1.6165, -2.2330,  5.2208]]) \n",
      "bias: tensor([2.9346])\n"
     ]
    },
    {
     "data": {
      "image/png": "[encoded data removed]",
      "text/plain": [
       "<Figure size 252x180 with 1 Axes>"
      ]
     },
     "metadata": {
      "needs_background": "light"
     },
     "output_type": "display_data"
    }
   ],
   "source": [
    "fit_and_plot(poly_features[:n_train, :], poly_features[n_train:, :], labels[:n_train], labels[n_train:])"
   ]
  },
  {
   "cell_type": "code",
   "execution_count": 10,
   "metadata": {},
   "outputs": [
    {
     "name": "stdout",
     "output_type": "stream",
     "text": [
      "final epoch: train loss 112.85729217529297 test loss 211.14013671875\n",
      "weight: tensor([[13.8704]]) \n",
      "bias: tensor([3.6471])\n"
     ]
    },
    {
     "data": {
      "image/png": "[encoded data removed]",
      "text/plain": [
       "<Figure size 252x180 with 1 Axes>"
      ]
     },
     "metadata": {
      "needs_background": "light"
     },
     "output_type": "display_data"
    }
   ],
   "source": [
    "fit_and_plot(features[:n_train, :], features[n_train:, :], labels[:n_train], labels[n_train:])"
   ]
  },
  {
   "cell_type": "markdown",
   "metadata": {},
   "source": [
    "### 训练样本数据量"
   ]
  },
  {
   "cell_type": "code",
   "execution_count": 11,
   "metadata": {},
   "outputs": [
    {
     "name": "stdout",
     "output_type": "stream",
     "text": [
      "final epoch: train loss 15.11817455291748 test loss 453.8798522949219\n",
      "weight: tensor([[0.0727, 0.4409, 0.6977]]) \n",
      "bias: tensor([1.3452])\n"
     ]
    },
    {
     "data": {
      "image/png": "[encoded data removed]",
      "text/plain": [
       "<Figure size 252x180 with 1 Axes>"
      ]
     },
     "metadata": {
      "needs_background": "light"
     },
     "output_type": "display_data"
    }
   ],
   "source": [
    "fit_and_plot(poly_features[0:2, :], poly_features[n_train:, :], labels[0:2], labels[n_train:])"
   ]
  },
  {
   "cell_type": "markdown",
   "metadata": {},
   "source": [
    "## 过拟合的解决方案\n",
    "\n",
    "过拟合的解决方案对应的是训练过程，即优化器。\n",
    "- 权重衰减法修改的是损失函数\n",
    "- 丢弃法等效给每个隐藏层的输出增加一个遗忘层\n"
   ]
  },
  {
   "cell_type": "markdown",
   "metadata": {},
   "source": [
    "### L2正则化（权重衰减）\n",
    "\n",
    "$$\\ell(w_1, w_2, b) + \\frac{\\lambda}{2n} |\\boldsymbol{w}|^2,$$\n",
    "$$\n",
    "\\begin{aligned} w_1 &\\leftarrow \\left(1- \\frac{\\eta\\lambda}{|\\mathcal{B}|} \\right)w_1 - \\frac{\\eta}{|\\mathcal{B}|} \\sum_{i \\in \\mathcal{B}}x_1^{(i)} \\left(x_1^{(i)} w_1 + x_2^{(i)} w_2 + b - y^{(i)}\\right),\\\\ w_2 &\\leftarrow \\left(1- \\frac{\\eta\\lambda}{|\\mathcal{B}|} \\right)w_2 - \\frac{\\eta}{|\\mathcal{B}|} \\sum_{i \\in \\mathcal{B}}x_2^{(i)} \\left(x_1^{(i)} w_1 + x_2^{(i)} w_2 + b - y^{(i)}\\right). \\end{aligned}\n",
    "$$"
   ]
  },
  {
   "cell_type": "markdown",
   "metadata": {},
   "source": [
    "#### 数据准备：高维线性回归实验\n",
    "\n",
    "$$y = 0.05 + \\sum_{i = 1}^p 0.01x_i + \\epsilon ,\\\\\n",
    "p=200$$"
   ]
  },
  {
   "cell_type": "code",
   "execution_count": 12,
   "metadata": {},
   "outputs": [],
   "source": [
    "n_train, n_test, num_inputs = 20, 100, 200\n",
    "true_w, true_b = torch.ones(num_inputs, 1) * 0.01, 0.05"
   ]
  },
  {
   "cell_type": "code",
   "execution_count": 13,
   "metadata": {},
   "outputs": [
    {
     "data": {
      "text/plain": [
       "torch.Size([120, 200])"
      ]
     },
     "execution_count": 13,
     "metadata": {},
     "output_type": "execute_result"
    }
   ],
   "source": [
    "features = torch.randn((n_train + n_test, num_inputs))\n",
    "features.shape"
   ]
  },
  {
   "cell_type": "code",
   "execution_count": 14,
   "metadata": {},
   "outputs": [
    {
     "data": {
      "text/plain": [
       "torch.Size([120, 1])"
      ]
     },
     "execution_count": 14,
     "metadata": {},
     "output_type": "execute_result"
    }
   ],
   "source": [
    "labels = torch.matmul(features, true_w) + true_b\n",
    "labels += torch.tensor(np.random.normal(0, 0.01, size=labels.size()), dtype=torch.float)\n",
    "labels.shape"
   ]
  },
  {
   "cell_type": "code",
   "execution_count": 15,
   "metadata": {},
   "outputs": [],
   "source": [
    "train_features, test_features = features[:n_train, :], features[n_train:, :]\n",
    "train_labels, test_labels = labels[:n_train], labels[n_train:]"
   ]
  },
  {
   "cell_type": "code",
   "execution_count": 16,
   "metadata": {},
   "outputs": [],
   "source": [
    "def init_params():\n",
    "    w = torch.randn((num_inputs, 1), requires_grad=True)\n",
    "    b = torch.zeros(1, requires_grad=True)\n",
    "    return [w, b]"
   ]
  },
  {
   "cell_type": "code",
   "execution_count": 17,
   "metadata": {},
   "outputs": [],
   "source": [
    "batch_size = 1\n",
    "dataset = torch.utils.data.TensorDataset(train_features, train_labels)\n",
    "train_iter = torch.utils.data.DataLoader(dataset, batch_size, shuffle=True)"
   ]
  },
  {
   "cell_type": "code",
   "execution_count": 18,
   "metadata": {},
   "outputs": [],
   "source": [
    "num_epochs, lr = 100, 0.003"
   ]
  },
  {
   "cell_type": "markdown",
   "metadata": {},
   "source": [
    "#### L2惩罚项"
   ]
  },
  {
   "cell_type": "code",
   "execution_count": 19,
   "metadata": {},
   "outputs": [],
   "source": [
    "def l2_penalty(w):\n",
    "    \"\"\"\n",
    "    计算模型的l2惩罚项。\n",
    "    \n",
    "    :param w:模型的权重；\n",
    "    :return: 模型的L2惩罚项，tensor.shape=(1,)；\n",
    "    \"\"\"\n",
    "    return (w**2).sum() / 2"
   ]
  },
  {
   "cell_type": "markdown",
   "metadata": {},
   "source": [
    "#### 训练"
   ]
  },
  {
   "cell_type": "code",
   "execution_count": 20,
   "metadata": {},
   "outputs": [],
   "source": [
    "net = basic.linreg\n",
    "loss = basic.squared_loss"
   ]
  },
  {
   "cell_type": "code",
   "execution_count": 21,
   "metadata": {},
   "outputs": [],
   "source": [
    "def fit_and_plot(lambd):\n",
    "    w, b = init_params()\n",
    "    train_ls, test_ls = [], []\n",
    "    for _ in range(num_epochs):\n",
    "        for X, y in train_iter:\n",
    "            l = loss(net(X, w, b), y) + lambd * l2_penalty(w)    # 每个示例的损失\n",
    "            l = l.sum()\n",
    "            \n",
    "            if w.grad is not None:\n",
    "                w.grad.data.zero_()\n",
    "                b.grad.data.zero_()\n",
    "            l.backward()\n",
    "            basic.sgd([w, b], lr, batch_size)\n",
    "            \n",
    "        train_ls.append(loss(net(train_features, w, b), train_labels).mean().item())\n",
    "        test_ls.append(loss(net(test_features, w, b), test_labels).mean().item())\n",
    "    basic.semilogy(range(1, num_epochs + 1), train_ls, 'epochs', 'loss', \n",
    "                   range(1, num_epochs + 1), test_ls, ['train', 'test'])\n",
    "    print('L2 norm of w:', w.norm().item())"
   ]
  },
  {
   "cell_type": "code",
   "execution_count": 22,
   "metadata": {},
   "outputs": [
    {
     "name": "stdout",
     "output_type": "stream",
     "text": [
      "L2 norm of w: 13.634110450744629\n",
      "L2 norm of w: 0.04016406089067459\n"
     ]
    },
    {
     "data": {
      "text/plain": [
       "Text(0.5, 1.0, 'With L2')"
      ]
     },
     "execution_count": 22,
     "metadata": {},
     "output_type": "execute_result"
    },
    {
     "data": {
      "image/png": "[encoded data removed]",
      "text/plain": [
       "<Figure size 576x288 with 2 Axes>"
      ]
     },
     "metadata": {
      "needs_background": "light"
     },
     "output_type": "display_data"
    }
   ],
   "source": [
    "plt.figure(figsize=(8,4))\n",
    "plt.subplot(121)\n",
    "fit_and_plot(lambd=0)\n",
    "plt.title(\"Without L2\")\n",
    "plt.subplot(122)\n",
    "fit_and_plot(lambd=3)\n",
    "plt.title(\"With L2\")"
   ]
  },
  {
   "cell_type": "markdown",
   "metadata": {},
   "source": [
    "#### 简洁实现"
   ]
  },
  {
   "cell_type": "code",
   "execution_count": 23,
   "metadata": {},
   "outputs": [],
   "source": [
    "def fit_and_plot(wd):\n",
    "    net = torch.nn.Linear(num_inputs, 1)\n",
    "    torch.nn.init.normal(net.weight, mean=0, std=1)\n",
    "    torch.nn.init.normal(net.bias, mean=0, std=1)\n",
    "    optimizer_w = torch.optim.SGD(params=[net.weight], lr=lr, weight_decay=wd)\n",
    "    optimizer_b = torch.optim.SGD(params=[net.bias], lr=lr)\n",
    "    \n",
    "    train_ls, test_ls = [],[]\n",
    "    for _ in range(num_epochs):\n",
    "        for X,y in train_iter:\n",
    "            l = loss(net(X),y).mean()\n",
    "            optimizer_w.zero_grad()\n",
    "            optimizer_b.zero_grad()\n",
    "            l.backward()\n",
    "            optimizer_w.step()\n",
    "            optimizer_b.step()\n",
    "        train_ls.append(loss(net(train_features), train_labels).mean().item())\n",
    "        test_ls.append(loss(net(test_features), test_labels).mean().item())\n",
    "    basic.semilogy(range(1, num_epochs + 1), train_ls, 'epochs', 'loss', range(1, num_epochs + 1), test_ls, ['train', 'test'])\n",
    "    print('L2 norm of w:', net.weight.data.norm().item())    "
   ]
  },
  {
   "cell_type": "code",
   "execution_count": 24,
   "metadata": {},
   "outputs": [
    {
     "name": "stderr",
     "output_type": "stream",
     "text": [
      "C:\\ProgramData\\Anaconda3\\lib\\site-packages\\ipykernel_launcher.py:3: UserWarning: nn.init.normal is now deprecated in favor of nn.init.normal_.\n",
      "  This is separate from the ipykernel package so we can avoid doing imports until\n",
      "C:\\ProgramData\\Anaconda3\\lib\\site-packages\\ipykernel_launcher.py:4: UserWarning: nn.init.normal is now deprecated in favor of nn.init.normal_.\n",
      "  after removing the cwd from sys.path.\n"
     ]
    },
    {
     "name": "stdout",
     "output_type": "stream",
     "text": [
      "L2 norm of w: 13.732386589050293\n",
      "L2 norm of w: 0.03447576239705086\n"
     ]
    },
    {
     "data": {
      "text/plain": [
       "Text(0.5, 1.0, 'With L2')"
      ]
     },
     "execution_count": 24,
     "metadata": {},
     "output_type": "execute_result"
    },
    {
     "data": {
      "image/png": "[encoded data removed]",
      "text/plain": [
       "<Figure size 576x288 with 2 Axes>"
      ]
     },
     "metadata": {
      "needs_background": "light"
     },
     "output_type": "display_data"
    }
   ],
   "source": [
    "plt.figure(figsize=(8,4))\n",
    "plt.subplot(121)\n",
    "fit_and_plot(wd=0)\n",
    "plt.title(\"Without L2\")\n",
    "plt.subplot(122)\n",
    "fit_and_plot(wd=3)\n",
    "plt.title(\"With L2\")"
   ]
  },
  {
   "cell_type": "markdown",
   "metadata": {},
   "source": [
    "### 丢弃法\n",
    "只在训练的时候丢弃，预测的时候不丢弃。丢弃完后，未丢弃的输出要增大。\n",
    "$$E(h_i') = \\frac{E(\\xi_i)}{1-p}h_i = h_i$$"
   ]
  },
  {
   "cell_type": "markdown",
   "metadata": {},
   "source": [
    "#### 数据准备：2个隐藏层"
   ]
  },
  {
   "cell_type": "code",
   "execution_count": 25,
   "metadata": {},
   "outputs": [],
   "source": [
    "num_inputs, num_outputs, num_hiddens1, num_hiddens2 = 784, 10, 256, 256"
   ]
  },
  {
   "cell_type": "code",
   "execution_count": 26,
   "metadata": {},
   "outputs": [],
   "source": [
    "W1 = torch.tensor(np.random.normal(0, 0.01, size=(num_inputs, num_hiddens1)), dtype=torch.float, requires_grad=True)\n",
    "b1 = torch.zeros(num_hiddens1, requires_grad=True)\n",
    "W2 = torch.tensor(np.random.normal(0, 0.01, size=(num_hiddens1, num_hiddens2)), dtype=torch.float, requires_grad=True)\n",
    "b2 = torch.zeros(num_hiddens2, requires_grad=True)\n",
    "W3 = torch.tensor(np.random.normal(0, 0.01, size=(num_hiddens2, num_outputs)), dtype=torch.float, requires_grad=True)\n",
    "b3 = torch.zeros(num_outputs, requires_grad=True)\n",
    "params = [W1, b1, W2, b2, W3, b3]"
   ]
  },
  {
   "cell_type": "code",
   "execution_count": 27,
   "metadata": {},
   "outputs": [],
   "source": [
    "num_epochs, lr, batch_size = 5, 100.0, 256"
   ]
  },
  {
   "cell_type": "code",
   "execution_count": 28,
   "metadata": {},
   "outputs": [],
   "source": [
    "train_iter = torch.utils.data.DataLoader(data.mnist_train, batch_size=batch_size, shuffle=True, num_workers=4)\n",
    "test_iter = torch.utils.data.DataLoader(data.mnist_test, batch_size=batch_size, shuffle=False, num_workers=4)"
   ]
  },
  {
   "cell_type": "code",
   "execution_count": 29,
   "metadata": {},
   "outputs": [
    {
     "data": {
      "image/svg+xml": [
       "<?xml version=\"1.0\" encoding=\"utf-8\" standalone=\"no\"?>\r\n",
       "<!DOCTYPE svg PUBLIC \"-//W3C//DTD SVG 1.1//EN\"\r\n",
       "  \"http://www.w3.org/Graphics/SVG/1.1/DTD/svg11.dtd\">\r\n",
       "<!-- Created with matplotlib (https://matplotlib.org/) -->\r\n",
       "<svg height=\"96.187936pt\" version=\"1.1\" viewBox=\"0 0 687.5 96.187936\" width=\"687.5pt\" xmlns=\"http://www.w3.org/2000/svg\" xmlns:xlink=\"http://www.w3.org/1999/xlink\">\r\n",
       " <defs>\r\n",
       "  <style type=\"text/css\">\r\n",
       "*{stroke-linecap:butt;stroke-linejoin:round;}\r\n",
       "  </style>\r\n",
       " </defs>\r\n",
       " <g id=\"figure_1\">\r\n",
       "  <g id=\"patch_1\">\r\n",
       "   <path d=\"M 0 96.187936 \r\n",
       "L 687.5 96.187936 \r\n",
       "L 687.5 0 \r\n",
       "L 0 0 \r\n",
       "z\r\n",
       "\" style=\"fill:none;\"/>\r\n",
       "  </g>\r\n",
       "  <g id=\"axes_1\">\r\n",
       "   <g id=\"patch_2\">\r\n",
       "    <path d=\"M 10.7 85.487936 \r\n",
       "L 73.869811 85.487936 \r\n",
       "L 73.869811 22.318125 \r\n",
       "L 10.7 22.318125 \r\n",
       "z\r\n",
       "\" style=\"fill:#ffffff;\"/>\r\n",
       "   </g>\r\n",
       "   <g clip-path=\"url(#p1fc2588d38)\">\r\n",
       "    <image height=\"64\" id=\"image8484acd3bb\" transform=\"scale(1 -1)translate(0 -64)\" width=\"64\" x=\"10.7\" xlink:href=\"data:image/png;base64,\r\n",
       "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\" y=\"-21.487936\"/>\r\n",
       "   </g>\r\n",
       "   <g id=\"patch_3\">\r\n",
       "    <path d=\"M 10.7 85.487936 \r\n",
       "L 10.7 22.318125 \r\n",
       "\" style=\"fill:none;stroke:#000000;stroke-linecap:square;stroke-linejoin:miter;stroke-width:0.8;\"/>\r\n",
       "   </g>\r\n",
       "   <g id=\"patch_4\">\r\n",
       "    <path d=\"M 73.869811 85.487936 \r\n",
       "L 73.869811 22.318125 \r\n",
       "\" style=\"fill:none;stroke:#000000;stroke-linecap:square;stroke-linejoin:miter;stroke-width:0.8;\"/>\r\n",
       "   </g>\r\n",
       "   <g id=\"patch_5\">\r\n",
       "    <path d=\"M 10.7 85.487936 \r\n",
       "L 73.869811 85.487936 \r\n",
       "\" style=\"fill:none;stroke:#000000;stroke-linecap:square;stroke-linejoin:miter;stroke-width:0.8;\"/>\r\n",
       "   </g>\r\n",
       "   <g id=\"patch_6\">\r\n",
       "    <path d=\"M 10.7 22.318125 \r\n",
       "L 73.869811 22.318125 \r\n",
       "\" style=\"fill:none;stroke:#000000;stroke-linecap:square;stroke-linejoin:miter;stroke-width:0.8;\"/>\r\n",
       "   </g>\r\n",
       "   <g id=\"text_1\">\r\n",
       "    <!-- shirt -->\r\n",
       "    <defs>\r\n",
       "     <path d=\"M 44.28125 53.078125 \r\n",
       "L 44.28125 44.578125 \r\n",
       "Q 40.484375 46.53125 36.375 47.5 \r\n",
       "Q 32.28125 48.484375 27.875 48.484375 \r\n",
       "Q 21.1875 48.484375 17.84375 46.4375 \r\n",
       "Q 14.5 44.390625 14.5 40.28125 \r\n",
       "Q 14.5 37.15625 16.890625 35.375 \r\n",
       "Q 19.28125 33.59375 26.515625 31.984375 \r\n",
       "L 29.59375 31.296875 \r\n",
       "Q 39.15625 29.25 43.1875 25.515625 \r\n",
       "Q 47.21875 21.78125 47.21875 15.09375 \r\n",
       "Q 47.21875 7.46875 41.1875 3.015625 \r\n",
       "Q 35.15625 -1.421875 24.609375 -1.421875 \r\n",
       "Q 20.21875 -1.421875 15.453125 -0.5625 \r\n",
       "Q 10.6875 0.296875 5.421875 2 \r\n",
       "L 5.421875 11.28125 \r\n",
       "Q 10.40625 8.6875 15.234375 7.390625 \r\n",
       "Q 20.0625 6.109375 24.8125 6.109375 \r\n",
       "Q 31.15625 6.109375 34.5625 8.28125 \r\n",
       "Q 37.984375 10.453125 37.984375 14.40625 \r\n",
       "Q 37.984375 18.0625 35.515625 20.015625 \r\n",
       "Q 33.0625 21.96875 24.703125 23.78125 \r\n",
       "L 21.578125 24.515625 \r\n",
       "Q 13.234375 26.265625 9.515625 29.90625 \r\n",
       "Q 5.8125 33.546875 5.8125 39.890625 \r\n",
       "Q 5.8125 47.609375 11.28125 51.796875 \r\n",
       "Q 16.75 56 26.8125 56 \r\n",
       "Q 31.78125 56 36.171875 55.265625 \r\n",
       "Q 40.578125 54.546875 44.28125 53.078125 \r\n",
       "z\r\n",
       "\" id=\"DejaVuSans-115\"/>\r\n",
       "     <path d=\"M 54.890625 33.015625 \r\n",
       "L 54.890625 0 \r\n",
       "L 45.90625 0 \r\n",
       "L 45.90625 32.71875 \r\n",
       "Q 45.90625 40.484375 42.875 44.328125 \r\n",
       "Q 39.84375 48.1875 33.796875 48.1875 \r\n",
       "Q 26.515625 48.1875 22.3125 43.546875 \r\n",
       "Q 18.109375 38.921875 18.109375 30.90625 \r\n",
       "L 18.109375 0 \r\n",
       "L 9.078125 0 \r\n",
       "L 9.078125 75.984375 \r\n",
       "L 18.109375 75.984375 \r\n",
       "L 18.109375 46.1875 \r\n",
       "Q 21.34375 51.125 25.703125 53.5625 \r\n",
       "Q 30.078125 56 35.796875 56 \r\n",
       "Q 45.21875 56 50.046875 50.171875 \r\n",
       "Q 54.890625 44.34375 54.890625 33.015625 \r\n",
       "z\r\n",
       "\" id=\"DejaVuSans-104\"/>\r\n",
       "     <path d=\"M 9.421875 54.6875 \r\n",
       "L 18.40625 54.6875 \r\n",
       "L 18.40625 0 \r\n",
       "L 9.421875 0 \r\n",
       "z\r\n",
       "M 9.421875 75.984375 \r\n",
       "L 18.40625 75.984375 \r\n",
       "L 18.40625 64.59375 \r\n",
       "L 9.421875 64.59375 \r\n",
       "z\r\n",
       "\" id=\"DejaVuSans-105\"/>\r\n",
       "     <path d=\"M 41.109375 46.296875 \r\n",
       "Q 39.59375 47.171875 37.8125 47.578125 \r\n",
       "Q 36.03125 48 33.890625 48 \r\n",
       "Q 26.265625 48 22.1875 43.046875 \r\n",
       "Q 18.109375 38.09375 18.109375 28.8125 \r\n",
       "L 18.109375 0 \r\n",
       "L 9.078125 0 \r\n",
       "L 9.078125 54.6875 \r\n",
       "L 18.109375 54.6875 \r\n",
       "L 18.109375 46.1875 \r\n",
       "Q 20.953125 51.171875 25.484375 53.578125 \r\n",
       "Q 30.03125 56 36.53125 56 \r\n",
       "Q 37.453125 56 38.578125 55.875 \r\n",
       "Q 39.703125 55.765625 41.0625 55.515625 \r\n",
       "z\r\n",
       "\" id=\"DejaVuSans-114\"/>\r\n",
       "     <path d=\"M 18.3125 70.21875 \r\n",
       "L 18.3125 54.6875 \r\n",
       "L 36.8125 54.6875 \r\n",
       "L 36.8125 47.703125 \r\n",
       "L 18.3125 47.703125 \r\n",
       "L 18.3125 18.015625 \r\n",
       "Q 18.3125 11.328125 20.140625 9.421875 \r\n",
       "Q 21.96875 7.515625 27.59375 7.515625 \r\n",
       "L 36.8125 7.515625 \r\n",
       "L 36.8125 0 \r\n",
       "L 27.59375 0 \r\n",
       "Q 17.1875 0 13.234375 3.875 \r\n",
       "Q 9.28125 7.765625 9.28125 18.015625 \r\n",
       "L 9.28125 47.703125 \r\n",
       "L 2.6875 47.703125 \r\n",
       "L 2.6875 54.6875 \r\n",
       "L 9.28125 54.6875 \r\n",
       "L 9.28125 70.21875 \r\n",
       "z\r\n",
       "\" id=\"DejaVuSans-116\"/>\r\n",
       "    </defs>\r\n",
       "    <g transform=\"translate(28.871156 16.318125)scale(0.12 -0.12)\">\r\n",
       "     <use xlink:href=\"#DejaVuSans-115\"/>\r\n",
       "     <use x=\"52.099609\" xlink:href=\"#DejaVuSans-104\"/>\r\n",
       "     <use x=\"115.478516\" xlink:href=\"#DejaVuSans-105\"/>\r\n",
       "     <use x=\"143.261719\" xlink:href=\"#DejaVuSans-114\"/>\r\n",
       "     <use x=\"184.375\" xlink:href=\"#DejaVuSans-116\"/>\r\n",
       "    </g>\r\n",
       "   </g>\r\n",
       "  </g>\r\n",
       "  <g id=\"axes_2\">\r\n",
       "   <g id=\"patch_7\">\r\n",
       "    <path d=\"M 86.503774 85.487936 \r\n",
       "L 149.673585 85.487936 \r\n",
       "L 149.673585 22.318125 \r\n",
       "L 86.503774 22.318125 \r\n",
       "z\r\n",
       "\" style=\"fill:#ffffff;\"/>\r\n",
       "   </g>\r\n",
       "   <g clip-path=\"url(#p0307160e09)\">\r\n",
       "    <image height=\"64\" id=\"imagec7fe3893c3\" transform=\"scale(1 -1)translate(0 -64)\" width=\"64\" x=\"86.503774\" xlink:href=\"data:image/png;base64,\r\n",
       "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\" y=\"-21.487936\"/>\r\n",
       "   </g>\r\n",
       "   <g id=\"patch_8\">\r\n",
       "    <path d=\"M 86.503774 85.487936 \r\n",
       "L 86.503774 22.318125 \r\n",
       "\" style=\"fill:none;stroke:#000000;stroke-linecap:square;stroke-linejoin:miter;stroke-width:0.8;\"/>\r\n",
       "   </g>\r\n",
       "   <g id=\"patch_9\">\r\n",
       "    <path d=\"M 149.673585 85.487936 \r\n",
       "L 149.673585 22.318125 \r\n",
       "\" style=\"fill:none;stroke:#000000;stroke-linecap:square;stroke-linejoin:miter;stroke-width:0.8;\"/>\r\n",
       "   </g>\r\n",
       "   <g id=\"patch_10\">\r\n",
       "    <path d=\"M 86.503774 85.487936 \r\n",
       "L 149.673585 85.487936 \r\n",
       "\" style=\"fill:none;stroke:#000000;stroke-linecap:square;stroke-linejoin:miter;stroke-width:0.8;\"/>\r\n",
       "   </g>\r\n",
       "   <g id=\"patch_11\">\r\n",
       "    <path d=\"M 86.503774 22.318125 \r\n",
       "L 149.673585 22.318125 \r\n",
       "\" style=\"fill:none;stroke:#000000;stroke-linecap:square;stroke-linejoin:miter;stroke-width:0.8;\"/>\r\n",
       "   </g>\r\n",
       "   <g id=\"text_2\">\r\n",
       "    <!-- dress -->\r\n",
       "    <defs>\r\n",
       "     <path d=\"M 45.40625 46.390625 \r\n",
       "L 45.40625 75.984375 \r\n",
       "L 54.390625 75.984375 \r\n",
       "L 54.390625 0 \r\n",
       "L 45.40625 0 \r\n",
       "L 45.40625 8.203125 \r\n",
       "Q 42.578125 3.328125 38.25 0.953125 \r\n",
       "Q 33.9375 -1.421875 27.875 -1.421875 \r\n",
       "Q 17.96875 -1.421875 11.734375 6.484375 \r\n",
       "Q 5.515625 14.40625 5.515625 27.296875 \r\n",
       "Q 5.515625 40.1875 11.734375 48.09375 \r\n",
       "Q 17.96875 56 27.875 56 \r\n",
       "Q 33.9375 56 38.25 53.625 \r\n",
       "Q 42.578125 51.265625 45.40625 46.390625 \r\n",
       "z\r\n",
       "M 14.796875 27.296875 \r\n",
       "Q 14.796875 17.390625 18.875 11.75 \r\n",
       "Q 22.953125 6.109375 30.078125 6.109375 \r\n",
       "Q 37.203125 6.109375 41.296875 11.75 \r\n",
       "Q 45.40625 17.390625 45.40625 27.296875 \r\n",
       "Q 45.40625 37.203125 41.296875 42.84375 \r\n",
       "Q 37.203125 48.484375 30.078125 48.484375 \r\n",
       "Q 22.953125 48.484375 18.875 42.84375 \r\n",
       "Q 14.796875 37.203125 14.796875 27.296875 \r\n",
       "z\r\n",
       "\" id=\"DejaVuSans-100\"/>\r\n",
       "     <path d=\"M 56.203125 29.59375 \r\n",
       "L 56.203125 25.203125 \r\n",
       "L 14.890625 25.203125 \r\n",
       "Q 15.484375 15.921875 20.484375 11.0625 \r\n",
       "Q 25.484375 6.203125 34.421875 6.203125 \r\n",
       "Q 39.59375 6.203125 44.453125 7.46875 \r\n",
       "Q 49.3125 8.734375 54.109375 11.28125 \r\n",
       "L 54.109375 2.78125 \r\n",
       "Q 49.265625 0.734375 44.1875 -0.34375 \r\n",
       "Q 39.109375 -1.421875 33.890625 -1.421875 \r\n",
       "Q 20.796875 -1.421875 13.15625 6.1875 \r\n",
       "Q 5.515625 13.8125 5.515625 26.8125 \r\n",
       "Q 5.515625 40.234375 12.765625 48.109375 \r\n",
       "Q 20.015625 56 32.328125 56 \r\n",
       "Q 43.359375 56 49.78125 48.890625 \r\n",
       "Q 56.203125 41.796875 56.203125 29.59375 \r\n",
       "z\r\n",
       "M 47.21875 32.234375 \r\n",
       "Q 47.125 39.59375 43.09375 43.984375 \r\n",
       "Q 39.0625 48.390625 32.421875 48.390625 \r\n",
       "Q 24.90625 48.390625 20.390625 44.140625 \r\n",
       "Q 15.875 39.890625 15.1875 32.171875 \r\n",
       "z\r\n",
       "\" id=\"DejaVuSans-101\"/>\r\n",
       "    </defs>\r\n",
       "    <g transform=\"translate(101.871804 16.318125)scale(0.12 -0.12)\">\r\n",
       "     <use xlink:href=\"#DejaVuSans-100\"/>\r\n",
       "     <use x=\"63.476562\" xlink:href=\"#DejaVuSans-114\"/>\r\n",
       "     <use x=\"104.558594\" xlink:href=\"#DejaVuSans-101\"/>\r\n",
       "     <use x=\"166.082031\" xlink:href=\"#DejaVuSans-115\"/>\r\n",
       "     <use x=\"218.181641\" xlink:href=\"#DejaVuSans-115\"/>\r\n",
       "    </g>\r\n",
       "   </g>\r\n",
       "  </g>\r\n",
       "  <g id=\"axes_3\">\r\n",
       "   <g id=\"patch_12\">\r\n",
       "    <path d=\"M 162.307547 85.487936 \r\n",
       "L 225.477358 85.487936 \r\n",
       "L 225.477358 22.318125 \r\n",
       "L 162.307547 22.318125 \r\n",
       "z\r\n",
       "\" style=\"fill:#ffffff;\"/>\r\n",
       "   </g>\r\n",
       "   <g clip-path=\"url(#p02d3f1c100)\">\r\n",
       "    <image height=\"64\" id=\"image1a87febe85\" transform=\"scale(1 -1)translate(0 -64)\" width=\"64\" x=\"162.307547\" xlink:href=\"data:image/png;base64,\r\n",
       "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\" y=\"-21.487936\"/>\r\n",
       "   </g>\r\n",
       "   <g id=\"patch_13\">\r\n",
       "    <path d=\"M 162.307547 85.487936 \r\n",
       "L 162.307547 22.318125 \r\n",
       "\" style=\"fill:none;stroke:#000000;stroke-linecap:square;stroke-linejoin:miter;stroke-width:0.8;\"/>\r\n",
       "   </g>\r\n",
       "   <g id=\"patch_14\">\r\n",
       "    <path d=\"M 225.477358 85.487936 \r\n",
       "L 225.477358 22.318125 \r\n",
       "\" style=\"fill:none;stroke:#000000;stroke-linecap:square;stroke-linejoin:miter;stroke-width:0.8;\"/>\r\n",
       "   </g>\r\n",
       "   <g id=\"patch_15\">\r\n",
       "    <path d=\"M 162.307547 85.487936 \r\n",
       "L 225.477358 85.487936 \r\n",
       "\" style=\"fill:none;stroke:#000000;stroke-linecap:square;stroke-linejoin:miter;stroke-width:0.8;\"/>\r\n",
       "   </g>\r\n",
       "   <g id=\"patch_16\">\r\n",
       "    <path d=\"M 162.307547 22.318125 \r\n",
       "L 225.477358 22.318125 \r\n",
       "\" style=\"fill:none;stroke:#000000;stroke-linecap:square;stroke-linejoin:miter;stroke-width:0.8;\"/>\r\n",
       "   </g>\r\n",
       "   <g id=\"text_3\">\r\n",
       "    <!-- coat -->\r\n",
       "    <defs>\r\n",
       "     <path d=\"M 48.78125 52.59375 \r\n",
       "L 48.78125 44.1875 \r\n",
       "Q 44.96875 46.296875 41.140625 47.34375 \r\n",
       "Q 37.3125 48.390625 33.40625 48.390625 \r\n",
       "Q 24.65625 48.390625 19.8125 42.84375 \r\n",
       "Q 14.984375 37.3125 14.984375 27.296875 \r\n",
       "Q 14.984375 17.28125 19.8125 11.734375 \r\n",
       "Q 24.65625 6.203125 33.40625 6.203125 \r\n",
       "Q 37.3125 6.203125 41.140625 7.25 \r\n",
       "Q 44.96875 8.296875 48.78125 10.40625 \r\n",
       "L 48.78125 2.09375 \r\n",
       "Q 45.015625 0.34375 40.984375 -0.53125 \r\n",
       "Q 36.96875 -1.421875 32.421875 -1.421875 \r\n",
       "Q 20.0625 -1.421875 12.78125 6.34375 \r\n",
       "Q 5.515625 14.109375 5.515625 27.296875 \r\n",
       "Q 5.515625 40.671875 12.859375 48.328125 \r\n",
       "Q 20.21875 56 33.015625 56 \r\n",
       "Q 37.15625 56 41.109375 55.140625 \r\n",
       "Q 45.0625 54.296875 48.78125 52.59375 \r\n",
       "z\r\n",
       "\" id=\"DejaVuSans-99\"/>\r\n",
       "     <path d=\"M 30.609375 48.390625 \r\n",
       "Q 23.390625 48.390625 19.1875 42.75 \r\n",
       "Q 14.984375 37.109375 14.984375 27.296875 \r\n",
       "Q 14.984375 17.484375 19.15625 11.84375 \r\n",
       "Q 23.34375 6.203125 30.609375 6.203125 \r\n",
       "Q 37.796875 6.203125 41.984375 11.859375 \r\n",
       "Q 46.1875 17.53125 46.1875 27.296875 \r\n",
       "Q 46.1875 37.015625 41.984375 42.703125 \r\n",
       "Q 37.796875 48.390625 30.609375 48.390625 \r\n",
       "z\r\n",
       "M 30.609375 56 \r\n",
       "Q 42.328125 56 49.015625 48.375 \r\n",
       "Q 55.71875 40.765625 55.71875 27.296875 \r\n",
       "Q 55.71875 13.875 49.015625 6.21875 \r\n",
       "Q 42.328125 -1.421875 30.609375 -1.421875 \r\n",
       "Q 18.84375 -1.421875 12.171875 6.21875 \r\n",
       "Q 5.515625 13.875 5.515625 27.296875 \r\n",
       "Q 5.515625 40.765625 12.171875 48.375 \r\n",
       "Q 18.84375 56 30.609375 56 \r\n",
       "z\r\n",
       "\" id=\"DejaVuSans-111\"/>\r\n",
       "     <path d=\"M 34.28125 27.484375 \r\n",
       "Q 23.390625 27.484375 19.1875 25 \r\n",
       "Q 14.984375 22.515625 14.984375 16.5 \r\n",
       "Q 14.984375 11.71875 18.140625 8.90625 \r\n",
       "Q 21.296875 6.109375 26.703125 6.109375 \r\n",
       "Q 34.1875 6.109375 38.703125 11.40625 \r\n",
       "Q 43.21875 16.703125 43.21875 25.484375 \r\n",
       "L 43.21875 27.484375 \r\n",
       "z\r\n",
       "M 52.203125 31.203125 \r\n",
       "L 52.203125 0 \r\n",
       "L 43.21875 0 \r\n",
       "L 43.21875 8.296875 \r\n",
       "Q 40.140625 3.328125 35.546875 0.953125 \r\n",
       "Q 30.953125 -1.421875 24.3125 -1.421875 \r\n",
       "Q 15.921875 -1.421875 10.953125 3.296875 \r\n",
       "Q 6 8.015625 6 15.921875 \r\n",
       "Q 6 25.140625 12.171875 29.828125 \r\n",
       "Q 18.359375 34.515625 30.609375 34.515625 \r\n",
       "L 43.21875 34.515625 \r\n",
       "L 43.21875 35.40625 \r\n",
       "Q 43.21875 41.609375 39.140625 45 \r\n",
       "Q 35.0625 48.390625 27.6875 48.390625 \r\n",
       "Q 23 48.390625 18.546875 47.265625 \r\n",
       "Q 14.109375 46.140625 10.015625 43.890625 \r\n",
       "L 10.015625 52.203125 \r\n",
       "Q 14.9375 54.109375 19.578125 55.046875 \r\n",
       "Q 24.21875 56 28.609375 56 \r\n",
       "Q 40.484375 56 46.34375 49.84375 \r\n",
       "Q 52.203125 43.703125 52.203125 31.203125 \r\n",
       "z\r\n",
       "\" id=\"DejaVuSans-97\"/>\r\n",
       "    </defs>\r\n",
       "    <g transform=\"translate(180.893078 16.318125)scale(0.12 -0.12)\">\r\n",
       "     <use xlink:href=\"#DejaVuSans-99\"/>\r\n",
       "     <use x=\"54.980469\" xlink:href=\"#DejaVuSans-111\"/>\r\n",
       "     <use x=\"116.162109\" xlink:href=\"#DejaVuSans-97\"/>\r\n",
       "     <use x=\"177.441406\" xlink:href=\"#DejaVuSans-116\"/>\r\n",
       "    </g>\r\n",
       "   </g>\r\n",
       "  </g>\r\n",
       "  <g id=\"axes_4\">\r\n",
       "   <g id=\"patch_17\">\r\n",
       "    <path d=\"M 238.111321 85.487936 \r\n",
       "L 301.281132 85.487936 \r\n",
       "L 301.281132 22.318125 \r\n",
       "L 238.111321 22.318125 \r\n",
       "z\r\n",
       "\" style=\"fill:#ffffff;\"/>\r\n",
       "   </g>\r\n",
       "   <g clip-path=\"url(#p9aaae2c1e2)\">\r\n",
       "    <image height=\"64\" id=\"image3c55dc89f6\" transform=\"scale(1 -1)translate(0 -64)\" width=\"64\" x=\"238.111321\" xlink:href=\"data:image/png;base64,\r\n",
       "iVBORw0KGgoAAAANSUhEUgAAAEAAAABACAYAAACqaXHeAAAABHNCSVQICAgIfAhkiAAABE1JREFUeJzt28mPzVsQB/BP89DE0MQ8xNQtIgQriTFCsCW2dizt/AfiX8DSqlcSCSss7DpIzEJEDIkpxogEMfZbvNTv/G4eb9UlebmnNn3vPXWrK+d8z6+qvlW3Z3h4eNgIy5cvX8Dr16/BtWvXwLx58xqdO3fugNOnT4MjR440a48ePQLh2s6dO0faxUZGpVn+n8hfGUb3798Pzpw5A8aPHw927drV6Ny8eROMHTsWPHz4sFk7dOgQ2Lt3L5gwYQLYtGnTiPva9Qjo+g1IuQL37t0DkydPBosXLwazZs1qdKZMmQI+fvyIAnMK1OfMmQO+ffuW4SYqAnIQMHHixI6/cYIRHuHz589g7ty5oLe3t1kbN25ch/6bN28y3ERFQA4CtmzZAk6ePAkeP34Mtm3b1ujMnj0b/Pz5E7x8+bJZe//+PVi2bBl49uxZhpuoCMiNApHSHjhwAKxbt67RiVPu7+8HixYtatbGjBkD3r17hxJNMqTrEdD1G5ByBTZv3gwePHgADh48CC5dutTovH37FqxduxYF7jBt2jTw4sWLjvcZUhGQYTTCVlR/cfK3bt1qdG7fvg327NmDwhnA2bNnwdGjR8HFixcz3ERFQA4C4n4/efIEJSy2T/L79+8oKfCpU6eatadPn6IUT1OnTs1wExUBdQNSrkBfXx84duwYSk7fpsQi979//z44fPhws3bixAkwNDQEtm/fnuEmKgJyEBC5+8KFC8H8+fNRkEE5+agJ2ux8kKE/fvwAFy5cAPv27RtxXysCMoyuX78e3L17FyUctiVCXHCDkfby77AXnGKGVARkGO3p6UFJaBYsWIBOTjBejx49Gp2n/unTJxSUTJo0KcNNVATUDUi5AkFzxcMw+n+R/1NC4syZM8H06dObtagmR43653wqLZ4oKQiIllZIdH6XLFnSfBY9/6DHAyWURkqEz+XLl2e4iYqAHATECV65cgVs3LgRfPjwodGJex58X7s5GgiKhsrAwECGm6gIqBuQcgWisxN0V2R50RFuSzz8nj9//lt7ly9fRh2RSZEUBISsWLEC5QTXrFnTrEV9EMlRO3TGOF3UBKtWrUrzsSIg03hUekGHt7u8keZGshOjdJTU9+vXr6jVYKqkIiBY4OPHj6MkNhQ0rF69GiVyUJ4PwRcGkjKk6xHQ9RuQegWCF4jaP8bfKJT39evXO3QoRGmbP8iSioBM4zNmzOh43yZFf6dDSZkzw19IRcCf+CcxDLlhw4bms6C8b9y40aFDSX3bPGGWdD0Cun4DUq9A/GgqRuEiLFJmBn7V94taILLETKkIyDTeHouDq1evNq8jyXn16hU6CdOlS5ei1AK/CpUjJRUBmcaj7RV8QIQ8OH/+PNixYwfKKB1lfii4xEqLJ0oqAlauXIlyv9strnPnznXotgepBwcHO76XKV2PgK7fgD9SC+zevRv/TW+3f04TfcOtW7fmOqYiwN+PFWxtTEhI+gAAAABJRU5ErkJggg==\" y=\"-21.487936\"/>\r\n",
       "   </g>\r\n",
       "   <g id=\"patch_18\">\r\n",
       "    <path d=\"M 238.111321 85.487936 \r\n",
       "L 238.111321 22.318125 \r\n",
       "\" style=\"fill:none;stroke:#000000;stroke-linecap:square;stroke-linejoin:miter;stroke-width:0.8;\"/>\r\n",
       "   </g>\r\n",
       "   <g id=\"patch_19\">\r\n",
       "    <path d=\"M 301.281132 85.487936 \r\n",
       "L 301.281132 22.318125 \r\n",
       "\" style=\"fill:none;stroke:#000000;stroke-linecap:square;stroke-linejoin:miter;stroke-width:0.8;\"/>\r\n",
       "   </g>\r\n",
       "   <g id=\"patch_20\">\r\n",
       "    <path d=\"M 238.111321 85.487936 \r\n",
       "L 301.281132 85.487936 \r\n",
       "\" style=\"fill:none;stroke:#000000;stroke-linecap:square;stroke-linejoin:miter;stroke-width:0.8;\"/>\r\n",
       "   </g>\r\n",
       "   <g id=\"patch_21\">\r\n",
       "    <path d=\"M 238.111321 22.318125 \r\n",
       "L 301.281132 22.318125 \r\n",
       "\" style=\"fill:none;stroke:#000000;stroke-linecap:square;stroke-linejoin:miter;stroke-width:0.8;\"/>\r\n",
       "   </g>\r\n",
       "   <g id=\"text_4\">\r\n",
       "    <!-- dress -->\r\n",
       "    <g transform=\"translate(253.479351 16.318125)scale(0.12 -0.12)\">\r\n",
       "     <use xlink:href=\"#DejaVuSans-100\"/>\r\n",
       "     <use x=\"63.476562\" xlink:href=\"#DejaVuSans-114\"/>\r\n",
       "     <use x=\"104.558594\" xlink:href=\"#DejaVuSans-101\"/>\r\n",
       "     <use x=\"166.082031\" xlink:href=\"#DejaVuSans-115\"/>\r\n",
       "     <use x=\"218.181641\" xlink:href=\"#DejaVuSans-115\"/>\r\n",
       "    </g>\r\n",
       "   </g>\r\n",
       "  </g>\r\n",
       "  <g id=\"axes_5\">\r\n",
       "   <g id=\"patch_22\">\r\n",
       "    <path d=\"M 313.915094 85.487936 \r\n",
       "L 377.084906 85.487936 \r\n",
       "L 377.084906 22.318125 \r\n",
       "L 313.915094 22.318125 \r\n",
       "z\r\n",
       "\" style=\"fill:#ffffff;\"/>\r\n",
       "   </g>\r\n",
       "   <g clip-path=\"url(#p381624a5cc)\">\r\n",
       "    <image height=\"64\" id=\"image8da8bdf5d0\" transform=\"scale(1 -1)translate(0 -64)\" width=\"64\" x=\"313.915094\" xlink:href=\"data:image/png;base64,\r\n",
       "iVBORw0KGgoAAAANSUhEUgAAAEAAAABACAYAAACqaXHeAAAABHNCSVQICAgIfAhkiAAABAVJREFUeJztmj0vdUEQx3+X4y0UXgoiEiKikIgerUYUJKhVGpWKwidQaJS+gEQjGgmfQEIhWoWoSEhEguvt3qe4z+yZs3fu5ak2ec7+m3OyO7s7d+a/M7tzbqFcLpfJMRpCKxAa0QChFQiNaIDQCoRGNEBoBUIjGiC0AqERDRBagdCIBgitQGhEA4RWIDQSedFlgUKhYApvbW2595OTEwCWl5cBmJycdH2lUgmAzs5OANra2qrmtdp8XRobGwFoaWmp0tGHnuf7+xuA9/f3zPPq6srJjI6OApEBFIrFYhlSK2scHh4CMDIyAsD29rbrOzo6AlJP3t3dVY2XOeXZ0JDaO0kq5BPP6T5pEwYIhFlaXtq07NfXV+Y5NDQEwP39vZNZW1urzFOldc6QewMkFvUXFhYAGB8fB2B+fh6A5+dnJ9Pa2gpAV1cXAH19fa6vubkZgM/PT8AOdCIj1NUyQm8Jepr6v4FQX8bLNu3p6XEyExMTlbX+aeb/EC4Nzs3NucbFxUUAVlZWMsJiWUg9Jp7UXpK0I+nIYoAEQVOpv33iQb1uLeg1ajHn5ubGvb+9vQGRASSnp6dA9iDje14gHoV0X1l94g3xhJXqPj4+Mn06jclcfizQ8Fml1xd5YZLEK8060T8y4OHhAYDV1dUfhYvFonv3o7d1kBGvyF7Ue9Ifr70sc/nj9Rq/WV+eVhZpamqqjKv3g/OA3Bsg8QNOPejA4wchTWGhnA5M/hif1np9P3haa9SS+UnvqvV/HP2fI+nu7gZgb2/PNW5sbJjC9VKdxQAfVjrzWaJhBbifZPV7vUApiAyYnZ0F4Pj42DUeHBwAsLS0lBGWI66FemnQr/BANUv0eHn305ke78cO6zLle96KBblnQO4N4A7Hu7u7rnFmZgaAqakpAPr7+wG7JCW00jc2P9jJqUvqA1AdoKw+efrlLz3OQq0AHbeAgURuZXKvB9jf3wdSJuzs7AAwODjoZC4vL2tOap3vIXsb8+/4cmODasZY6bNWoLMgv1Gv+fr6WhlXc1ROkIjntXWkdiaeX19fB7L7VGSenp6ArAfF0zKnVbr2P3oMDw+7PqkzSgXn8fERSJkB1WnQ+rAjffIbpbwP0N7eXpEh5yhYf5W17t8A09PT7v329haA3t5eAM7Pz12feKqjowOAl5cXcz5ID0uaHbruoOep92lMxxe/DiDs0lXtzc3Nik41Z8wJcm+AQqlUKsPv7tX6IHJxcQHAwMAAANfX165PvgrL9pA7hFX2sm6O/gHGujH621TSGqRbSGRkS56dnTmZsbGxyvgavzU3MINgnpB7BkQDhFYgNKIBQisQGtEAoRUIjWiA0AqERjRAaAVCIxogtAKhEQ0QWoHQ+AMulpnQXAj48QAAAABJRU5ErkJggg==\" y=\"-21.487936\"/>\r\n",
       "   </g>\r\n",
       "   <g id=\"patch_23\">\r\n",
       "    <path d=\"M 313.915094 85.487936 \r\n",
       "L 313.915094 22.318125 \r\n",
       "\" style=\"fill:none;stroke:#000000;stroke-linecap:square;stroke-linejoin:miter;stroke-width:0.8;\"/>\r\n",
       "   </g>\r\n",
       "   <g id=\"patch_24\">\r\n",
       "    <path d=\"M 377.084906 85.487936 \r\n",
       "L 377.084906 22.318125 \r\n",
       "\" style=\"fill:none;stroke:#000000;stroke-linecap:square;stroke-linejoin:miter;stroke-width:0.8;\"/>\r\n",
       "   </g>\r\n",
       "   <g id=\"patch_25\">\r\n",
       "    <path d=\"M 313.915094 85.487936 \r\n",
       "L 377.084906 85.487936 \r\n",
       "\" style=\"fill:none;stroke:#000000;stroke-linecap:square;stroke-linejoin:miter;stroke-width:0.8;\"/>\r\n",
       "   </g>\r\n",
       "   <g id=\"patch_26\">\r\n",
       "    <path d=\"M 313.915094 22.318125 \r\n",
       "L 377.084906 22.318125 \r\n",
       "\" style=\"fill:none;stroke:#000000;stroke-linecap:square;stroke-linejoin:miter;stroke-width:0.8;\"/>\r\n",
       "   </g>\r\n",
       "   <g id=\"text_5\">\r\n",
       "    <!-- bag -->\r\n",
       "    <defs>\r\n",
       "     <path d=\"M 48.6875 27.296875 \r\n",
       "Q 48.6875 37.203125 44.609375 42.84375 \r\n",
       "Q 40.53125 48.484375 33.40625 48.484375 \r\n",
       "Q 26.265625 48.484375 22.1875 42.84375 \r\n",
       "Q 18.109375 37.203125 18.109375 27.296875 \r\n",
       "Q 18.109375 17.390625 22.1875 11.75 \r\n",
       "Q 26.265625 6.109375 33.40625 6.109375 \r\n",
       "Q 40.53125 6.109375 44.609375 11.75 \r\n",
       "Q 48.6875 17.390625 48.6875 27.296875 \r\n",
       "z\r\n",
       "M 18.109375 46.390625 \r\n",
       "Q 20.953125 51.265625 25.265625 53.625 \r\n",
       "Q 29.59375 56 35.59375 56 \r\n",
       "Q 45.5625 56 51.78125 48.09375 \r\n",
       "Q 58.015625 40.1875 58.015625 27.296875 \r\n",
       "Q 58.015625 14.40625 51.78125 6.484375 \r\n",
       "Q 45.5625 -1.421875 35.59375 -1.421875 \r\n",
       "Q 29.59375 -1.421875 25.265625 0.953125 \r\n",
       "Q 20.953125 3.328125 18.109375 8.203125 \r\n",
       "L 18.109375 0 \r\n",
       "L 9.078125 0 \r\n",
       "L 9.078125 75.984375 \r\n",
       "L 18.109375 75.984375 \r\n",
       "z\r\n",
       "\" id=\"DejaVuSans-98\"/>\r\n",
       "     <path d=\"M 45.40625 27.984375 \r\n",
       "Q 45.40625 37.75 41.375 43.109375 \r\n",
       "Q 37.359375 48.484375 30.078125 48.484375 \r\n",
       "Q 22.859375 48.484375 18.828125 43.109375 \r\n",
       "Q 14.796875 37.75 14.796875 27.984375 \r\n",
       "Q 14.796875 18.265625 18.828125 12.890625 \r\n",
       "Q 22.859375 7.515625 30.078125 7.515625 \r\n",
       "Q 37.359375 7.515625 41.375 12.890625 \r\n",
       "Q 45.40625 18.265625 45.40625 27.984375 \r\n",
       "z\r\n",
       "M 54.390625 6.78125 \r\n",
       "Q 54.390625 -7.171875 48.1875 -13.984375 \r\n",
       "Q 42 -20.796875 29.203125 -20.796875 \r\n",
       "Q 24.46875 -20.796875 20.265625 -20.09375 \r\n",
       "Q 16.0625 -19.390625 12.109375 -17.921875 \r\n",
       "L 12.109375 -9.1875 \r\n",
       "Q 16.0625 -11.328125 19.921875 -12.34375 \r\n",
       "Q 23.78125 -13.375 27.78125 -13.375 \r\n",
       "Q 36.625 -13.375 41.015625 -8.765625 \r\n",
       "Q 45.40625 -4.15625 45.40625 5.171875 \r\n",
       "L 45.40625 9.625 \r\n",
       "Q 42.625 4.78125 38.28125 2.390625 \r\n",
       "Q 33.9375 0 27.875 0 \r\n",
       "Q 17.828125 0 11.671875 7.65625 \r\n",
       "Q 5.515625 15.328125 5.515625 27.984375 \r\n",
       "Q 5.515625 40.671875 11.671875 48.328125 \r\n",
       "Q 17.828125 56 27.875 56 \r\n",
       "Q 33.9375 56 38.28125 53.609375 \r\n",
       "Q 42.625 51.21875 45.40625 46.390625 \r\n",
       "L 45.40625 54.6875 \r\n",
       "L 54.390625 54.6875 \r\n",
       "z\r\n",
       "\" id=\"DejaVuSans-103\"/>\r\n",
       "    </defs>\r\n",
       "    <g transform=\"translate(334.205 16.318125)scale(0.12 -0.12)\">\r\n",
       "     <use xlink:href=\"#DejaVuSans-98\"/>\r\n",
       "     <use x=\"63.476562\" xlink:href=\"#DejaVuSans-97\"/>\r\n",
       "     <use x=\"124.755859\" xlink:href=\"#DejaVuSans-103\"/>\r\n",
       "    </g>\r\n",
       "   </g>\r\n",
       "  </g>\r\n",
       "  <g id=\"axes_6\">\r\n",
       "   <g id=\"patch_27\">\r\n",
       "    <path d=\"M 389.718868 85.487936 \r\n",
       "L 452.888679 85.487936 \r\n",
       "L 452.888679 22.318125 \r\n",
       "L 389.718868 22.318125 \r\n",
       "z\r\n",
       "\" style=\"fill:#ffffff;\"/>\r\n",
       "   </g>\r\n",
       "   <g clip-path=\"url(#pbf31de0683)\">\r\n",
       "    <image height=\"64\" id=\"image5c6fdfec1e\" transform=\"scale(1 -1)translate(0 -64)\" width=\"64\" x=\"389.718868\" xlink:href=\"data:image/png;base64,\r\n",
       "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\" y=\"-21.487936\"/>\r\n",
       "   </g>\r\n",
       "   <g id=\"patch_28\">\r\n",
       "    <path d=\"M 389.718868 85.487936 \r\n",
       "L 389.718868 22.318125 \r\n",
       "\" style=\"fill:none;stroke:#000000;stroke-linecap:square;stroke-linejoin:miter;stroke-width:0.8;\"/>\r\n",
       "   </g>\r\n",
       "   <g id=\"patch_29\">\r\n",
       "    <path d=\"M 452.888679 85.487936 \r\n",
       "L 452.888679 22.318125 \r\n",
       "\" style=\"fill:none;stroke:#000000;stroke-linecap:square;stroke-linejoin:miter;stroke-width:0.8;\"/>\r\n",
       "   </g>\r\n",
       "   <g id=\"patch_30\">\r\n",
       "    <path d=\"M 389.718868 85.487936 \r\n",
       "L 452.888679 85.487936 \r\n",
       "\" style=\"fill:none;stroke:#000000;stroke-linecap:square;stroke-linejoin:miter;stroke-width:0.8;\"/>\r\n",
       "   </g>\r\n",
       "   <g id=\"patch_31\">\r\n",
       "    <path d=\"M 389.718868 22.318125 \r\n",
       "L 452.888679 22.318125 \r\n",
       "\" style=\"fill:none;stroke:#000000;stroke-linecap:square;stroke-linejoin:miter;stroke-width:0.8;\"/>\r\n",
       "   </g>\r\n",
       "   <g id=\"text_6\">\r\n",
       "    <!-- shirt -->\r\n",
       "    <g transform=\"translate(407.890024 16.318125)scale(0.12 -0.12)\">\r\n",
       "     <use xlink:href=\"#DejaVuSans-115\"/>\r\n",
       "     <use x=\"52.099609\" xlink:href=\"#DejaVuSans-104\"/>\r\n",
       "     <use x=\"115.478516\" xlink:href=\"#DejaVuSans-105\"/>\r\n",
       "     <use x=\"143.261719\" xlink:href=\"#DejaVuSans-114\"/>\r\n",
       "     <use x=\"184.375\" xlink:href=\"#DejaVuSans-116\"/>\r\n",
       "    </g>\r\n",
       "   </g>\r\n",
       "  </g>\r\n",
       "  <g id=\"axes_7\">\r\n",
       "   <g id=\"patch_32\">\r\n",
       "    <path d=\"M 465.522642 85.487936 \r\n",
       "L 528.692453 85.487936 \r\n",
       "L 528.692453 22.318125 \r\n",
       "L 465.522642 22.318125 \r\n",
       "z\r\n",
       "\" style=\"fill:#ffffff;\"/>\r\n",
       "   </g>\r\n",
       "   <g clip-path=\"url(#p0c05ec4869)\">\r\n",
       "    <image height=\"64\" id=\"image86451f025c\" transform=\"scale(1 -1)translate(0 -64)\" width=\"64\" x=\"465.522642\" xlink:href=\"data:image/png;base64,\r\n",
       "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\" y=\"-21.487936\"/>\r\n",
       "   </g>\r\n",
       "   <g id=\"patch_33\">\r\n",
       "    <path d=\"M 465.522642 85.487936 \r\n",
       "L 465.522642 22.318125 \r\n",
       "\" style=\"fill:none;stroke:#000000;stroke-linecap:square;stroke-linejoin:miter;stroke-width:0.8;\"/>\r\n",
       "   </g>\r\n",
       "   <g id=\"patch_34\">\r\n",
       "    <path d=\"M 528.692453 85.487936 \r\n",
       "L 528.692453 22.318125 \r\n",
       "\" style=\"fill:none;stroke:#000000;stroke-linecap:square;stroke-linejoin:miter;stroke-width:0.8;\"/>\r\n",
       "   </g>\r\n",
       "   <g id=\"patch_35\">\r\n",
       "    <path d=\"M 465.522642 85.487936 \r\n",
       "L 528.692453 85.487936 \r\n",
       "\" style=\"fill:none;stroke:#000000;stroke-linecap:square;stroke-linejoin:miter;stroke-width:0.8;\"/>\r\n",
       "   </g>\r\n",
       "   <g id=\"patch_36\">\r\n",
       "    <path d=\"M 465.522642 22.318125 \r\n",
       "L 528.692453 22.318125 \r\n",
       "\" style=\"fill:none;stroke:#000000;stroke-linecap:square;stroke-linejoin:miter;stroke-width:0.8;\"/>\r\n",
       "   </g>\r\n",
       "   <g id=\"text_7\">\r\n",
       "    <!-- bag -->\r\n",
       "    <g transform=\"translate(485.812547 16.318125)scale(0.12 -0.12)\">\r\n",
       "     <use xlink:href=\"#DejaVuSans-98\"/>\r\n",
       "     <use x=\"63.476562\" xlink:href=\"#DejaVuSans-97\"/>\r\n",
       "     <use x=\"124.755859\" xlink:href=\"#DejaVuSans-103\"/>\r\n",
       "    </g>\r\n",
       "   </g>\r\n",
       "  </g>\r\n",
       "  <g id=\"axes_8\">\r\n",
       "   <g id=\"patch_37\">\r\n",
       "    <path d=\"M 541.326415 85.487936 \r\n",
       "L 604.496226 85.487936 \r\n",
       "L 604.496226 22.318125 \r\n",
       "L 541.326415 22.318125 \r\n",
       "z\r\n",
       "\" style=\"fill:#ffffff;\"/>\r\n",
       "   </g>\r\n",
       "   <g clip-path=\"url(#p40bb3b7cf4)\">\r\n",
       "    <image height=\"64\" id=\"image908aaec25c\" transform=\"scale(1 -1)translate(0 -64)\" width=\"64\" x=\"541.326415\" xlink:href=\"data:image/png;base64,\r\n",
       "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\" y=\"-21.487936\"/>\r\n",
       "   </g>\r\n",
       "   <g id=\"patch_38\">\r\n",
       "    <path d=\"M 541.326415 85.487936 \r\n",
       "L 541.326415 22.318125 \r\n",
       "\" style=\"fill:none;stroke:#000000;stroke-linecap:square;stroke-linejoin:miter;stroke-width:0.8;\"/>\r\n",
       "   </g>\r\n",
       "   <g id=\"patch_39\">\r\n",
       "    <path d=\"M 604.496226 85.487936 \r\n",
       "L 604.496226 22.318125 \r\n",
       "\" style=\"fill:none;stroke:#000000;stroke-linecap:square;stroke-linejoin:miter;stroke-width:0.8;\"/>\r\n",
       "   </g>\r\n",
       "   <g id=\"patch_40\">\r\n",
       "    <path d=\"M 541.326415 85.487936 \r\n",
       "L 604.496226 85.487936 \r\n",
       "\" style=\"fill:none;stroke:#000000;stroke-linecap:square;stroke-linejoin:miter;stroke-width:0.8;\"/>\r\n",
       "   </g>\r\n",
       "   <g id=\"patch_41\">\r\n",
       "    <path d=\"M 541.326415 22.318125 \r\n",
       "L 604.496226 22.318125 \r\n",
       "\" style=\"fill:none;stroke:#000000;stroke-linecap:square;stroke-linejoin:miter;stroke-width:0.8;\"/>\r\n",
       "   </g>\r\n",
       "   <g id=\"text_8\">\r\n",
       "    <!-- coat -->\r\n",
       "    <g transform=\"translate(559.911946 16.318125)scale(0.12 -0.12)\">\r\n",
       "     <use xlink:href=\"#DejaVuSans-99\"/>\r\n",
       "     <use x=\"54.980469\" xlink:href=\"#DejaVuSans-111\"/>\r\n",
       "     <use x=\"116.162109\" xlink:href=\"#DejaVuSans-97\"/>\r\n",
       "     <use x=\"177.441406\" xlink:href=\"#DejaVuSans-116\"/>\r\n",
       "    </g>\r\n",
       "   </g>\r\n",
       "  </g>\r\n",
       "  <g id=\"axes_9\">\r\n",
       "   <g id=\"patch_42\">\r\n",
       "    <path d=\"M 617.130189 85.487936 \r\n",
       "L 680.3 85.487936 \r\n",
       "L 680.3 22.318125 \r\n",
       "L 617.130189 22.318125 \r\n",
       "z\r\n",
       "\" style=\"fill:#ffffff;\"/>\r\n",
       "   </g>\r\n",
       "   <g clip-path=\"url(#p049788f90f)\">\r\n",
       "    <image height=\"64\" id=\"imagea6c4e23992\" transform=\"scale(1 -1)translate(0 -64)\" width=\"64\" x=\"617.130189\" xlink:href=\"data:image/png;base64,\r\n",
       "iVBORw0KGgoAAAANSUhEUgAAAEAAAABACAYAAACqaXHeAAAABHNCSVQICAgIfAhkiAAABJ9JREFUeJztmbtLXUsUxn9Hj89EVDT4iAElPsDCzs5K0EIQBDuxTJUiXbC2jn9BCIKNWIgQEEEUH6UgKiiCEk+hoiI+EqMxL/UW3m9m9jlHk0tymXuz99fsOTNrZq+95pu11qwTu7m5uSHEyPCtgG9EBvCtgG9EBvCtgG9EBvCtgG9EBvCtgG9EBvCtgG9EBvCtgG/EdRmMxWJ3Cn38+DFFJh6PB56SATg7Owv0ffr0KWV+Rsat7bOysgDIyckxY1dXV4ExPV1kZmYG1nEvtWrrKdlv374Zmerq6tv5d310WBBLVw+QpRKJBAAnJycAPHjwwMjI8uXl5QCsrKyYseLiYsDuqlji7vLXr18D67jQjkm1L1++pMhcX18Hnu46379/B+D8/ByAgoICADY2NoxMRUXF7byUlUOGuKz7/v1703l4eAjY3W1oaPjhQo8ePTLtoaEhAD5//gzA0dFRyjvECkG7BHY3JVNSUgJY3+DKyK+IUe683NxcAEpLSwHY3d01Mi9evLhd54df9ocj9AaIJRKJG4CysjLTmZ+fD1inISc4OztrZI6PjwFYWloC4MOHD2bs9PQUgMLCQsA6sXQUFl0vLi5SlJO8G75SPuDvI5DOmapPTtXF6OjorcydK4cE8ZqaGgCWl5dN5/z8PGCdT2dnJwAjIyNGZmJiAoCenp7AHIDKykrAOp26ujogmKwsLi4C8PDhQ8A6KhcKm2KAOz85cXOdoMbEIDFBThlschUx4PLyEoC5uTnTqV11/QJAb2+vaU9OTgLQ398PQHd3txlTGGxpaQGgq6sLgJmZGSPz+vVrAMbHx1PeX1VVBdhELDs7GwgmYkqvk9Ndt53Mknfv3pm2WBF6BqRNhQWdvXSXEXltRQzX2sPDw4CNFKurqwA0NjYamZ2dHQD29vYCMgDb29uAZeLm5mbgCTbd1tONQmK1dMrLywNga2vLyKytrQERAyIDmCOgW5XbTs7X/ylUD1hYWADsHRwsvQcGBgK/Aerr6wGby+suIWoDPHnyBLD3i4ODAzOm8Kn5uh1qHYD9/X0gYsD9TvC+apHLGAgmIrL8z6CjowOwiRXA9PQ0AG1tbQA0NTUBQQYpRCrNdtkqp51cCXJDpeoXEQPSMUAp5H0XjWS4jNCZk8XTXUYE7c7z589N35s3bwDo6+sDLLvevn1rZJQcacytNumTJKPfbj1CoTb0DAi9AdLGufsoexfcYyLqJUNHA6zTUgY4NjZmxlpbWwFobm4GYGpqCrD5P6SW092agbJTvSO5SArOTfFnPu5Pxr1h8N+EdkW79OrVKzMmJ/j48WPAOsjBwUEjo2qV6gn3hWE586KiItOnm2noGfBrue6vvDgpzX758qVpyx9od3W+VWsE6wN0rl0fpHDn1iAhmNCJ+KFngDcfoDMrJrg7uL6+DsCzZ88AW8tTrREsA1RPePr0qRnTnyyqIOmi5CZCSr1Dz4DQG8CbExTS3TNUOmtvbwegtrYWCBZlf9v7f/uK/zN4c4L/FYSeAZEBfCvgG5EBfCvgG5EBfCvgG5EBfCvgG5EBfCvgG5EBfCvgG5EBfCvgG38Bl1zd3CC028gAAAAASUVORK5CYII=\" y=\"-21.487936\"/>\r\n",
       "   </g>\r\n",
       "   <g id=\"patch_43\">\r\n",
       "    <path d=\"M 617.130189 85.487936 \r\n",
       "L 617.130189 22.318125 \r\n",
       "\" style=\"fill:none;stroke:#000000;stroke-linecap:square;stroke-linejoin:miter;stroke-width:0.8;\"/>\r\n",
       "   </g>\r\n",
       "   <g id=\"patch_44\">\r\n",
       "    <path d=\"M 680.3 85.487936 \r\n",
       "L 680.3 22.318125 \r\n",
       "\" style=\"fill:none;stroke:#000000;stroke-linecap:square;stroke-linejoin:miter;stroke-width:0.8;\"/>\r\n",
       "   </g>\r\n",
       "   <g id=\"patch_45\">\r\n",
       "    <path d=\"M 617.130189 85.487936 \r\n",
       "L 680.3 85.487936 \r\n",
       "\" style=\"fill:none;stroke:#000000;stroke-linecap:square;stroke-linejoin:miter;stroke-width:0.8;\"/>\r\n",
       "   </g>\r\n",
       "   <g id=\"patch_46\">\r\n",
       "    <path d=\"M 617.130189 22.318125 \r\n",
       "L 680.3 22.318125 \r\n",
       "\" style=\"fill:none;stroke:#000000;stroke-linecap:square;stroke-linejoin:miter;stroke-width:0.8;\"/>\r\n",
       "   </g>\r\n",
       "   <g id=\"text_9\">\r\n",
       "    <!-- sneaker -->\r\n",
       "    <defs>\r\n",
       "     <path d=\"M 54.890625 33.015625 \r\n",
       "L 54.890625 0 \r\n",
       "L 45.90625 0 \r\n",
       "L 45.90625 32.71875 \r\n",
       "Q 45.90625 40.484375 42.875 44.328125 \r\n",
       "Q 39.84375 48.1875 33.796875 48.1875 \r\n",
       "Q 26.515625 48.1875 22.3125 43.546875 \r\n",
       "Q 18.109375 38.921875 18.109375 30.90625 \r\n",
       "L 18.109375 0 \r\n",
       "L 9.078125 0 \r\n",
       "L 9.078125 54.6875 \r\n",
       "L 18.109375 54.6875 \r\n",
       "L 18.109375 46.1875 \r\n",
       "Q 21.34375 51.125 25.703125 53.5625 \r\n",
       "Q 30.078125 56 35.796875 56 \r\n",
       "Q 45.21875 56 50.046875 50.171875 \r\n",
       "Q 54.890625 44.34375 54.890625 33.015625 \r\n",
       "z\r\n",
       "\" id=\"DejaVuSans-110\"/>\r\n",
       "     <path d=\"M 9.078125 75.984375 \r\n",
       "L 18.109375 75.984375 \r\n",
       "L 18.109375 31.109375 \r\n",
       "L 44.921875 54.6875 \r\n",
       "L 56.390625 54.6875 \r\n",
       "L 27.390625 29.109375 \r\n",
       "L 57.625 0 \r\n",
       "L 45.90625 0 \r\n",
       "L 18.109375 26.703125 \r\n",
       "L 18.109375 0 \r\n",
       "L 9.078125 0 \r\n",
       "z\r\n",
       "\" id=\"DejaVuSans-107\"/>\r\n",
       "    </defs>\r\n",
       "    <g transform=\"translate(624.788219 16.318125)scale(0.12 -0.12)\">\r\n",
       "     <use xlink:href=\"#DejaVuSans-115\"/>\r\n",
       "     <use x=\"52.099609\" xlink:href=\"#DejaVuSans-110\"/>\r\n",
       "     <use x=\"115.478516\" xlink:href=\"#DejaVuSans-101\"/>\r\n",
       "     <use x=\"177.001953\" xlink:href=\"#DejaVuSans-97\"/>\r\n",
       "     <use x=\"238.28125\" xlink:href=\"#DejaVuSans-107\"/>\r\n",
       "     <use x=\"296.144531\" xlink:href=\"#DejaVuSans-101\"/>\r\n",
       "     <use x=\"357.667969\" xlink:href=\"#DejaVuSans-114\"/>\r\n",
       "    </g>\r\n",
       "   </g>\r\n",
       "  </g>\r\n",
       " </g>\r\n",
       " <defs>\r\n",
       "  <clipPath id=\"p1fc2588d38\">\r\n",
       "   <rect height=\"63.169811\" width=\"63.169811\" x=\"10.7\" y=\"22.318125\"/>\r\n",
       "  </clipPath>\r\n",
       "  <clipPath id=\"p0307160e09\">\r\n",
       "   <rect height=\"63.169811\" width=\"63.169811\" x=\"86.503774\" y=\"22.318125\"/>\r\n",
       "  </clipPath>\r\n",
       "  <clipPath id=\"p02d3f1c100\">\r\n",
       "   <rect height=\"63.169811\" width=\"63.169811\" x=\"162.307547\" y=\"22.318125\"/>\r\n",
       "  </clipPath>\r\n",
       "  <clipPath id=\"p9aaae2c1e2\">\r\n",
       "   <rect height=\"63.169811\" width=\"63.169811\" x=\"238.111321\" y=\"22.318125\"/>\r\n",
       "  </clipPath>\r\n",
       "  <clipPath id=\"p381624a5cc\">\r\n",
       "   <rect height=\"63.169811\" width=\"63.169811\" x=\"313.915094\" y=\"22.318125\"/>\r\n",
       "  </clipPath>\r\n",
       "  <clipPath id=\"pbf31de0683\">\r\n",
       "   <rect height=\"63.169811\" width=\"63.169811\" x=\"389.718868\" y=\"22.318125\"/>\r\n",
       "  </clipPath>\r\n",
       "  <clipPath id=\"p0c05ec4869\">\r\n",
       "   <rect height=\"63.169811\" width=\"63.169811\" x=\"465.522642\" y=\"22.318125\"/>\r\n",
       "  </clipPath>\r\n",
       "  <clipPath id=\"p40bb3b7cf4\">\r\n",
       "   <rect height=\"63.169811\" width=\"63.169811\" x=\"541.326415\" y=\"22.318125\"/>\r\n",
       "  </clipPath>\r\n",
       "  <clipPath id=\"p049788f90f\">\r\n",
       "   <rect height=\"63.169811\" width=\"63.169811\" x=\"617.130189\" y=\"22.318125\"/>\r\n",
       "  </clipPath>\r\n",
       " </defs>\r\n",
       "</svg>\r\n"
      ],
      "text/plain": [
       "<Figure size 864x864 with 9 Axes>"
      ]
     },
     "metadata": {
      "needs_background": "light"
     },
     "output_type": "display_data"
    }
   ],
   "source": [
    "for X,y in train_iter:\n",
    "    break\n",
    "true_labels = data.get_fashion_mnist_labels(y.numpy())\n",
    "titles = [lb for lb in true_labels]\n",
    "data.show_fashion_mnist(X[0:9], titles[0:9])"
   ]
  },
  {
   "cell_type": "markdown",
   "metadata": {},
   "source": [
    "#### dropout\n",
    "仅随机遗忘隐藏层的输出，对输出层的输出无效。"
   ]
  },
  {
   "cell_type": "code",
   "execution_count": 30,
   "metadata": {},
   "outputs": [],
   "source": [
    "def dropout(X, drop_prob):\n",
    "    X = X.float()\n",
    "    assert 0 <= drop_prob <= 1\n",
    "    keep_prob = 1 - drop_prob\n",
    "    if keep_prob == 0:\n",
    "        return torch.zeros_like(X)\n",
    "    mask = (torch.rand(X.shape) < keep_prob).float()\n",
    "    return mask * X / keep_prob"
   ]
  },
  {
   "cell_type": "markdown",
   "metadata": {},
   "source": [
    "#### 训练"
   ]
  },
  {
   "cell_type": "code",
   "execution_count": 31,
   "metadata": {},
   "outputs": [],
   "source": [
    "drop_prob1, drop_prob2 = 0.2, 0.5"
   ]
  },
  {
   "cell_type": "code",
   "execution_count": 32,
   "metadata": {},
   "outputs": [],
   "source": [
    "loss = torch.nn.CrossEntropyLoss()"
   ]
  },
  {
   "cell_type": "code",
   "execution_count": 33,
   "metadata": {},
   "outputs": [],
   "source": [
    "def net(X, is_training=True):\n",
    "    X = X.view(-1, num_inputs)\n",
    "    H1 = (torch.matmul(X, W1) + b1).relu()\n",
    "    if is_training: \n",
    "        H1 = dropout(H1, drop_prob1) \n",
    "    H2 = (torch.matmul(H1, W2) + b2).relu()\n",
    "    if is_training:\n",
    "        H2 = dropout(H2, drop_prob2) \n",
    "    return torch.matmul(H2, W3) + b3"
   ]
  },
  {
   "cell_type": "code",
   "execution_count": 34,
   "metadata": {},
   "outputs": [
    {
     "name": "stdout",
     "output_type": "stream",
     "text": [
      "epoch 1, loss 0.0045, train acc 0.557, test acc 0.768\n",
      "epoch 2, loss 0.0023, train acc 0.787, test acc 0.830\n",
      "epoch 3, loss 0.0019, train acc 0.822, test acc 0.835\n",
      "epoch 4, loss 0.0017, train acc 0.840, test acc 0.809\n",
      "epoch 5, loss 0.0016, train acc 0.848, test acc 0.843\n"
     ]
    }
   ],
   "source": [
    "basic.train_ch3(net,train_iter,test_iter,loss,num_epochs,batch_size, params, lr)"
   ]
  },
  {
   "cell_type": "markdown",
   "metadata": {},
   "source": [
    "#### 简洁实现"
   ]
  },
  {
   "cell_type": "code",
   "execution_count": 35,
   "metadata": {},
   "outputs": [],
   "source": [
    "net = torch.nn.Sequential(\n",
    "        basic.FlattenLayer(),\n",
    "        torch.nn.Linear(num_inputs, num_hiddens1),\n",
    "        torch.nn.ReLU(),\n",
    "        torch.nn.Dropout(drop_prob1),\n",
    "        torch.nn.Linear(num_hiddens1, num_hiddens2), \n",
    "        torch.nn.ReLU(),\n",
    "        torch.nn.Dropout(drop_prob2),\n",
    "        torch.nn.Linear(num_hiddens2, 10)\n",
    "        )"
   ]
  },
  {
   "cell_type": "code",
   "execution_count": 36,
   "metadata": {},
   "outputs": [],
   "source": [
    "for param in net.parameters():\n",
    "    torch.nn.init.normal_(param, mean=0, std=0.01)"
   ]
  },
  {
   "cell_type": "code",
   "execution_count": 37,
   "metadata": {},
   "outputs": [],
   "source": [
    "loss = torch.nn.CrossEntropyLoss()\n",
    "optimizer = torch.optim.SGD(net.parameters(), lr=0.5)"
   ]
  },
  {
   "cell_type": "code",
   "execution_count": 38,
   "metadata": {},
   "outputs": [
    {
     "name": "stdout",
     "output_type": "stream",
     "text": [
      "epoch 1, loss 0.0048, train acc 0.540, test acc 0.696\n",
      "epoch 2, loss 0.0025, train acc 0.762, test acc 0.815\n",
      "epoch 3, loss 0.0020, train acc 0.814, test acc 0.796\n",
      "epoch 4, loss 0.0018, train acc 0.832, test acc 0.815\n",
      "epoch 5, loss 0.0017, train acc 0.842, test acc 0.813\n"
     ]
    }
   ],
   "source": [
    "basic.train_ch3(net, train_iter, test_iter, loss, num_epochs, batch_size, None, None, optimizer)"
   ]
  },
  {
   "cell_type": "markdown",
   "metadata": {},
   "source": [
    "## 欠拟合的解决方案\n",
    "[参考资料](https://www.boyuai.com/elites/course/FFR7c6pCPEkHJCcY/video/ZQ2Kk3DkN9lVX2z5kFm1C)\n",
    "\n",
    "### 激活函数ReLu\n",
    "在输入x>0的时候始终有梯度(1), 因为梯度为常数，所以计算速度很快。\n",
    "\n",
    "那么为什么当x<0的时候梯度为0，就不认为是梯度消失问题呢？可能是这个被当成是使神经网络能够稀疏表示的特性。被disable的神经元输出值为0，和w就无关了。这和w很难被更新是两个问题。（缺预训练的介绍）。\n",
    "\n",
    "### 批标准化\n",
    "batch过sigmoid之前先弄成正态分布。这就带来两个问题：\n",
    "1. 标准差可能为0，使得映射过程分母为0, 所以引入一个微小正数而不是直接除以标准差。\n",
    "2. 这样强行的转换相当于定义了这个正态分布的样子：N(0,1)，这个不合理(参考问题)，所以用gamma和beta来平移和放缩这个分布。\n",
    "\n",
    "### 残差网络\n",
    "当网络层数变多的时候，发现，很难训练（很可能是因为梯度消失）。深度残差网络既能加深网络，又能保证网络的性能。其方式就是在原来的层上多加一层，再把输入值加回去。本质上是把学习x到y的网络变成学习x到y-x的网络，学习的是从浅层到深层的”变化“。这里我的理解是把y和x的共性部分去掉后看看不一样的部分差多大。对于图像直观意义上比如背景色不同的同样图片，残差就是背景色差值i guess。"
   ]
  },
  {
   "cell_type": "markdown",
   "metadata": {},
   "source": [
    "# 模型稳定性\n",
    "模型层数比较多的时候，出现梯度消失或者梯度爆炸。\n",
    "\n",
    "## 初始化模型参数的原因\n",
    "如果将每个隐藏单元的参数都初始化为相等的值，那么在正向传播时每个隐藏单元将根据相同的输入计算出相同的值，并传递至输出层。在反向传播中，每个隐藏单元的参数梯度值相等。因此，这些参数在使用基于梯度的优化算法迭代后值依然相等。之后的迭代也是如此。在这种情况下，无论隐藏单元有多少，隐藏层本质上只有1个隐藏单元在发挥作用。\n",
    "\n",
    "## Xavier随机初始化\n",
    "$$U\\left(-\\sqrt{\\frac{6}{a+b}}, \\sqrt{\\frac{6}{a+b}}\\right).$$\n",
    "\n",
    "它的设计主要考虑到，模型参数初始化后，每层输出的方差不该受该层输入个数影响，且每层梯度的方差也不该受该层输出个数影响。\n",
    "\n",
    "## 环境因素\n",
    "### 协变量偏移\n",
    "训练集和测试集的分布不同。\n",
    "\n",
    "- 特征分布随时间而改变，但是标记函数，即条件分布P（y∣x）不会改变。\n",
    "- 在一个看起来与测试集有着本质不同的数据集上进行训练，而不考虑如何适应新的情况。\n",
    "\n",
    "### 标签偏移\n",
    "训练集出现了测试集没有的标签。\n",
    "\n",
    "- 有时标签偏移和协变量移位假设可以同时成立。\n",
    "- 导致偏移的是标签P（y）上的边缘分布的变化，但类条件分布是不变的P（x∣y）时，就会出现与协变量偏移相反的问题。\n",
    "\n",
    "### 概念偏移\n",
    "标签本身的定义发生变化的情况。"
   ]
  },
  {
   "cell_type": "code",
   "execution_count": null,
   "metadata": {},
   "outputs": [],
   "source": []
  }
 ],
 "metadata": {
  "kernelspec": {
   "display_name": "Python 3",
   "language": "python",
   "name": "python3"
  },
  "language_info": {
   "codemirror_mode": {
    "name": "ipython",
    "version": 3
   },
   "file_extension": ".py",
   "mimetype": "text/x-python",
   "name": "python",
   "nbconvert_exporter": "python",
   "pygments_lexer": "ipython3",
   "version": "3.7.4"
  },
  "toc": {
   "base_numbering": 1,
   "nav_menu": {},
   "number_sections": true,
   "sideBar": true,
   "skip_h1_title": false,
   "title_cell": "Table of Contents",
   "title_sidebar": "Contents",
   "toc_cell": false,
   "toc_position": {},
   "toc_section_display": true,
   "toc_window_display": true
  }
 },
 "nbformat": 4,
 "nbformat_minor": 2
}
